{
 "cells": [
  {
   "cell_type": "code",
   "execution_count": 126,
   "metadata": {},
   "outputs": [],
   "source": [
    "sen = '''醫師:啊最近的狀況還好嗎?民眾:還好啦。醫師:還好啦齁，一樣肚子還是不舒服 ...'''\n",
    "a = ':'\n",
    "b = '?'\n",
    "c = '。'\n",
    "d = ' '\n",
    "e = '，'\n",
    "i = 0\n",
    "j= 0\n",
    "archive1 = 0\n",
    "archive2 = 0\n",
    "archive3 = 0"
   ]
  },
  {
   "cell_type": "code",
   "execution_count": 127,
   "metadata": {},
   "outputs": [
    {
     "data": {
      "text/plain": [
       "'啊最近的狀況還好嗎'"
      ]
     },
     "execution_count": 127,
     "metadata": {},
     "output_type": "execute_result"
    }
   ],
   "source": [
    "part1 = ''\n",
    "for j in range(len(sen)):\n",
    "    if sen[j] == b:\n",
    "        archive1 = j\n",
    "        for i in range(len(sen)):\n",
    "            if sen[i] == a:\n",
    "                part1 = part1 + sen[i+1:j]\n",
    "                i += 1\n",
    "\n",
    "part1"
   ]
  },
  {
   "cell_type": "code",
   "execution_count": 128,
   "metadata": {},
   "outputs": [
    {
     "data": {
      "text/plain": [
       "'還好啦'"
      ]
     },
     "execution_count": 128,
     "metadata": {},
     "output_type": "execute_result"
    }
   ],
   "source": [
    "part2 = ''\n",
    "\n",
    "for j in range(len(sen)):\n",
    "    if sen[j] == c:\n",
    "        archive2 = j\n",
    "        for i in range(archive1, len(sen)):\n",
    "            if sen[i] == a:\n",
    "                part2 = part2 + sen[i+1:j]\n",
    "                i += 1\n",
    "\n",
    "part2"
   ]
  },
  {
   "cell_type": "code",
   "execution_count": 129,
   "metadata": {},
   "outputs": [
    {
     "data": {
      "text/plain": [
       "'還好啦齁一樣肚子還是不舒服'"
      ]
     },
     "execution_count": 129,
     "metadata": {},
     "output_type": "execute_result"
    }
   ],
   "source": [
    "part3_1 = ''\n",
    "part3_2 = ''\n",
    "\n",
    "for j in range(len(sen)):\n",
    "    if sen[j] == e:\n",
    "        for i in range(archive2, len(sen)):\n",
    "            if sen[i] == a:\n",
    "                part3_1 = part3_1 + sen[i+1:j]\n",
    "                archive3 = i\n",
    "                i += 1\n",
    "\n",
    "for j in range(len(sen)):\n",
    "    if sen[j] == d:\n",
    "        for i in range(archive3, len(sen)):\n",
    "            if sen[i] == e:\n",
    "                part3_2 = part3_2 + sen[i+1:j]\n",
    "                i += 1\n",
    "\n",
    "part3 = part3_1 + part3_2\n",
    "part3"
   ]
  },
  {
   "cell_type": "code",
   "execution_count": 130,
   "metadata": {},
   "outputs": [
    {
     "name": "stdout",
     "output_type": "stream",
     "text": [
      "['啊最近的狀況還好嗎', '還好啦', '還好啦齁一樣肚子還是不舒服']\n"
     ]
    }
   ],
   "source": [
    "ans = [part1, part2, part3]\n",
    "print(ans)"
   ]
  },
  {
   "cell_type": "code",
   "execution_count": 131,
   "metadata": {},
   "outputs": [],
   "source": [
    "def ans():\n",
    "    sen = '''醫師:啊最近的狀況還好嗎?民眾:還好啦。醫師:還好啦齁，一樣肚子還是不舒服 ...'''\n",
    "    a = ':'\n",
    "    b = '?'\n",
    "    c = '。'\n",
    "    d = ' '\n",
    "    e = '，'\n",
    "    i = 0\n",
    "    j= 0\n",
    "    archive1 = 0\n",
    "    archive2 = 0\n",
    "    archive3 = 0\n",
    "    part1 = ''\n",
    "    for j in range(len(sen)):\n",
    "        if sen[j] == b:\n",
    "            archive1 = j\n",
    "            for i in range(len(sen)):\n",
    "                if sen[i] == a:\n",
    "                    part1 = part1 + sen[i+1:j]\n",
    "                    i += 1\n",
    "    part2 = ''\n",
    "    for j in range(len(sen)):\n",
    "        if sen[j] == c:\n",
    "            archive2 = j\n",
    "            for i in range(archive1, len(sen)):\n",
    "                if sen[i] == a:\n",
    "                    part2 = part2 + sen[i+1:j]\n",
    "                    i += 1\n",
    "    part3_1 = ''\n",
    "    part3_2 = ''\n",
    "    for j in range(len(sen)):\n",
    "        if sen[j] == e:\n",
    "            archive3 = j\n",
    "            for i in range(archive2, len(sen)):\n",
    "                if sen[i] == a:\n",
    "                    part3_1 = part3_1 + sen[i+1:j]\n",
    "                    archive3 = i\n",
    "                    i += 1\n",
    "    for j in range(len(sen)):\n",
    "        if sen[j] == d:\n",
    "            for i in range(archive3, len(sen)):\n",
    "                if sen[i] == e:\n",
    "                    part3_2 = part3_2 + sen[i+1:j]\n",
    "                    i += 1\n",
    "    part3 = part3_1 + part3_2\n",
    "    return [part1, part2, part3]"
   ]
  },
  {
   "cell_type": "code",
   "execution_count": 132,
   "metadata": {},
   "outputs": [
    {
     "data": {
      "text/plain": [
       "['啊最近的狀況還好嗎', '還好啦', '還好啦齁一樣肚子還是不舒服']"
      ]
     },
     "execution_count": 132,
     "metadata": {},
     "output_type": "execute_result"
    }
   ],
   "source": [
    "ans()"
   ]
  }
 ],
 "metadata": {
  "kernelspec": {
   "display_name": "Python 3",
   "language": "python",
   "name": "python3"
  },
  "language_info": {
   "codemirror_mode": {
    "name": "ipython",
    "version": 3
   },
   "file_extension": ".py",
   "mimetype": "text/x-python",
   "name": "python",
   "nbconvert_exporter": "python",
   "pygments_lexer": "ipython3",
   "version": "3.11.2"
  },
  "vscode": {
   "interpreter": {
    "hash": "aee8b7b246df8f9039afb4144a1f6fd8d2ca17a180786b69acc140d282b71a49"
   }
  }
 },
 "nbformat": 4,
 "nbformat_minor": 2
}
