{
  "cells": [
    {
      "cell_type": "markdown",
      "metadata": {
        "id": "Jqo_jjS0k2IA"
      },
      "source": [
        "# ~ 環境準備"
      ]
    },
    {
      "cell_type": "code",
      "execution_count": null,
      "metadata": {
        "colab": {
          "base_uri": "https://localhost:8080/"
        },
        "id": "25dOnrUYoQql",
        "outputId": "c3768eaa-d2c3-4c38-fe6a-0a097de576e6"
      },
      "outputs": [
        {
          "name": "stdout",
          "output_type": "stream",
          "text": [
            "  Preparing metadata (setup.py) ... \u001b[?25l\u001b[?25hdone\n",
            "\u001b[2K     \u001b[90m━━━━━━━━━━━━━━━━━━━━━━━━━━━━━━━━━━━━━━━\u001b[0m \u001b[32m88.3/88.3 KB\u001b[0m \u001b[31m699.6 kB/s\u001b[0m eta \u001b[36m0:00:00\u001b[0m\n",
            "\u001b[?25h  Preparing metadata (setup.py) ... \u001b[?25l\u001b[?25hdone\n",
            "  Building wheel for medmnist (setup.py) ... \u001b[?25l\u001b[?25hdone\n",
            "  Building wheel for fire (setup.py) ... \u001b[?25l\u001b[?25hdone\n",
            "MedMNIST v2.1.0 @ https://github.com/MedMNIST/MedMNIST/\n"
          ]
        }
      ],
      "source": [
        "# 安裝 MedMNIST 資料集\n",
        "!pip install -q --upgrade git+https://github.com/MedMNIST/MedMNIST.git\n",
        "import medmnist\n",
        "from medmnist import INFO\n",
        "from medmnist.__main__ import download\n",
        "# download('.')  # 下載所有資料到工作資料夾中(很慢)\n",
        "print(f\"MedMNIST v{medmnist.__version__} @ {medmnist.HOMEPAGE}\")"
      ]
    },
    {
      "cell_type": "code",
      "execution_count": null,
      "metadata": {
        "colab": {
          "base_uri": "https://localhost:8080/"
        },
        "id": "K3f4WVM4gbrZ",
        "outputId": "240e5bca-16ec-4491-ebe4-e0ed1b65791c"
      },
      "outputs": [
        {
          "name": "stdout",
          "output_type": "stream",
          "text": [
            "Tensorflow version = 2.11.0\n"
          ]
        }
      ],
      "source": [
        "# import packages\n",
        "import glob\n",
        "import numpy as np\n",
        "import pandas as pd\n",
        "import matplotlib.pyplot as plt\n",
        "\n",
        "# tensorflow.keras\n",
        "import tensorflow as tf\n",
        "print(\"Tensorflow version =\", tf.__version__)\n",
        "from tensorflow.keras.models import Model, Sequential, load_model\n",
        "from tensorflow.keras import initializers, regularizers, optimizers, layers\n",
        "from tensorflow.keras.utils import to_categorical, plot_model\n",
        "from tensorflow.keras import backend as K"
      ]
    },
    {
      "cell_type": "markdown",
      "metadata": {
        "id": "sr0YFC7chSVn"
      },
      "source": [
        "# 準備資料集"
      ]
    },
    {
      "cell_type": "code",
      "execution_count": null,
      "metadata": {
        "colab": {
          "base_uri": "https://localhost:8080/"
        },
        "id": "K5EL-SPO6B_8",
        "outputId": "2bb4b58b-bfe3-442f-eabd-d6314a08408f"
      },
      "outputs": [
        {
          "name": "stderr",
          "output_type": "stream",
          "text": [
            "Downloading...\n",
            "From: https://drive.google.com/uc?id=1MzmUKnyRs3_KcYuuyKpgKd6DZ4vVvKmx\n",
            "To: /content/MedNIST.zip\n",
            "100%|██████████| 689M/689M [00:05<00:00, 121MB/s]\n"
          ]
        },
        {
          "name": "stdout",
          "output_type": "stream",
          "text": [
            "... done\n"
          ]
        }
      ],
      "source": [
        "#@title 下載並解壓縮 MedMNIST 資料\n",
        "# Download data and unzip the file from google drive share-link :\n",
        "# https://drive.google.com/file/d/1MzmUKnyRs3_KcYuuyKpgKd6DZ4vVvKmx/view?usp=sharing\n",
        "!pip install -q --upgrade --no-cache-dir gdown\n",
        "import gdown\n",
        "url = \"https://drive.google.com/uc?id=1MzmUKnyRs3_KcYuuyKpgKd6DZ4vVvKmx\"\n",
        "gdown.download(url, \"MedNIST.zip\", quiet=False)\n",
        "!unzip -n -q 'MedNIST.zip' -d '.'\n",
        "print(\"... done\")"
      ]
    },
    {
      "cell_type": "code",
      "execution_count": null,
      "metadata": {
        "colab": {
          "base_uri": "https://localhost:8080/"
        },
        "id": "uZUhpPYZrehL",
        "outputId": "9c09f347-9911-4367-83d8-e18ef66a141e"
      },
      "outputs": [
        {
          "name": "stdout",
          "output_type": "stream",
          "text": [
            "MedMNIST v2.1.0 @ https://github.com/MedMNIST/MedMNIST/\n",
            "All available datasets:\n",
            "\tpathmnist\n",
            "\tchestmnist\n",
            "\tdermamnist\n",
            "\toctmnist\n",
            "\tpneumoniamnist\n",
            "\tretinamnist\n",
            "\tbreastmnist\n",
            "\tbloodmnist\n",
            "\ttissuemnist\n",
            "\torganamnist\n",
            "\torgancmnist\n",
            "\torgansmnist\n",
            "\torganmnist3d\n",
            "\tnodulemnist3d\n",
            "\tadrenalmnist3d\n",
            "\tfracturemnist3d\n",
            "\tvesselmnist3d\n",
            "\tsynapsemnist3d\n"
          ]
        }
      ],
      "source": [
        "!python -m medmnist available"
      ]
    },
    {
      "cell_type": "code",
      "execution_count": null,
      "metadata": {
        "colab": {
          "base_uri": "https://localhost:8080/"
        },
        "id": "bezYoFRinTbF",
        "outputId": "2343c462-d73e-4ea3-8f7d-6a53b5f16227"
      },
      "outputs": [
        {
          "data": {
            "text/plain": [
              "{'python_class': 'PathMNIST',\n",
              " 'description': 'The PathMNIST is based on a prior study for predicting survival from colorectal cancer histology slides, providing a dataset (NCT-CRC-HE-100K) of 100,000 non-overlapping image patches from hematoxylin & eosin stained histological images, and a test dataset (CRC-VAL-HE-7K) of 7,180 image patches from a different clinical center. The dataset is comprised of 9 types of tissues, resulting in a multi-class classification task. We resize the source images of 3×224×224 into 3×28×28, and split NCT-CRC-HE-100K into training and validation set with a ratio of 9:1. The CRC-VAL-HE-7K is treated as the test set.',\n",
              " 'url': 'https://zenodo.org/record/6496656/files/pathmnist.npz?download=1',\n",
              " 'MD5': 'a8b06965200029087d5bd730944a56c1',\n",
              " 'task': 'multi-class',\n",
              " 'label': {'0': 'adipose',\n",
              "  '1': 'background',\n",
              "  '2': 'debris',\n",
              "  '3': 'lymphocytes',\n",
              "  '4': 'mucus',\n",
              "  '5': 'smooth muscle',\n",
              "  '6': 'normal colon mucosa',\n",
              "  '7': 'cancer-associated stroma',\n",
              "  '8': 'colorectal adenocarcinoma epithelium'},\n",
              " 'n_channels': 3,\n",
              " 'n_samples': {'train': 89996, 'val': 10004, 'test': 7180},\n",
              " 'license': 'CC BY 4.0'}"
            ]
          },
          "execution_count": 5,
          "metadata": {},
          "output_type": "execute_result"
        }
      ],
      "source": [
        "# 獲得資料集訊息\n",
        "data_name = 'pathmnist'  # <- 資料集名稱\n",
        "\n",
        "info_dict = INFO[data_name]\n",
        "task = info_dict['task']\n",
        "n_channels = info_dict['n_channels']\n",
        "n_classes = len(info_dict['label'])\n",
        "info_dict"
      ]
    },
    {
      "cell_type": "code",
      "execution_count": null,
      "metadata": {
        "colab": {
          "base_uri": "https://localhost:8080/"
        },
        "id": "OU0QT-ygonBh",
        "outputId": "49c68adb-e138-458b-a67b-d17faae47335"
      },
      "outputs": [
        {
          "name": "stdout",
          "output_type": "stream",
          "text": [
            "train_images\n",
            "val_images\n",
            "test_images\n",
            "train_labels\n",
            "val_labels\n",
            "test_labels\n"
          ]
        }
      ],
      "source": [
        "# 一個 npz 裏面包含了多個 npy(numpy array 的存檔)\n",
        "# open a npz file of MedNIST\n",
        "data = np.load(f'{data_name}.npz')  # 選一個資料集項目\n",
        "npy_file_lst = data.files\n",
        "for npy in npy_file_lst:\n",
        "    print(npy)\n",
        "    # print(data[npy])"
      ]
    },
    {
      "cell_type": "code",
      "execution_count": null,
      "metadata": {
        "colab": {
          "base_uri": "https://localhost:8080/"
        },
        "id": "R8AsDv4dx7ZR",
        "outputId": "079b5456-a185-4f6a-b517-a0ebce9ce117"
      },
      "outputs": [
        {
          "name": "stdout",
          "output_type": "stream",
          "text": [
            "train_images_arr: (89996, 28, 28, 3) uint8 \ttrain_labels_arr: (89996, 1) uint8\n",
            "valid_images_arr: (10004, 28, 28, 3) uint8 \tvalid_labels_arr: (10004, 1) uint8\n",
            "test_images_arr: (7180, 28, 28, 3) uint8 \ttest_labels_arr: (7180, 1) uint8\n"
          ]
        }
      ],
      "source": [
        "# 準備 image 和 label 的 numpy array\n",
        "# images\n",
        "train_images_arr = data['train_images']\n",
        "valid_images_arr = data['val_images']\n",
        "test_images_arr = data['test_images']\n",
        "# labels\n",
        "train_labels_arr = data['train_labels']\n",
        "valid_labels_arr = data['val_labels']\n",
        "test_labels_arr = data['test_labels']\n",
        "\n",
        "print(\"train_images_arr:\", train_images_arr.shape, train_images_arr.dtype, \"\\ttrain_labels_arr:\", train_labels_arr.shape, train_labels_arr.dtype)\n",
        "print(\"valid_images_arr:\", valid_images_arr.shape, valid_images_arr.dtype, \"\\tvalid_labels_arr:\", valid_labels_arr.shape, valid_labels_arr.dtype)\n",
        "print(\"test_images_arr:\", test_images_arr.shape, test_images_arr.dtype, \"\\ttest_labels_arr:\", test_labels_arr.shape, test_labels_arr.dtype)"
      ]
    },
    {
      "cell_type": "markdown",
      "metadata": {
        "id": "-A3IZ6Xz8UI9"
      },
      "source": [
        "## 標記分析"
      ]
    },
    {
      "cell_type": "code",
      "execution_count": null,
      "metadata": {
        "colab": {
          "base_uri": "https://localhost:8080/"
        },
        "id": "VbJNfQmN8erw",
        "outputId": "6a818b85-09d6-482b-df9f-c3d22c52a600"
      },
      "outputs": [
        {
          "name": "stdout",
          "output_type": "stream",
          "text": [
            "有這些標記: [0 1 2 3 4 5 6 7 8]\n"
          ]
        }
      ],
      "source": [
        "all_labels = np.concatenate([train_labels_arr, valid_labels_arr, test_labels_arr], axis=0)\n",
        "print(\"有這些標記:\", np.unique(all_labels))"
      ]
    },
    {
      "cell_type": "code",
      "execution_count": null,
      "metadata": {
        "id": "Yy8oX-HL9k66"
      },
      "outputs": [],
      "source": [
        "# 各標記的數量\n",
        "\n"
      ]
    },
    {
      "cell_type": "code",
      "execution_count": null,
      "metadata": {
        "id": "k5sxUYFy9qeZ"
      },
      "outputs": [],
      "source": [
        "# 各標記數量 畫成 圓餅圖(pie chart)\n",
        "\n"
      ]
    },
    {
      "cell_type": "markdown",
      "metadata": {
        "id": "pMtyQ1k68fQW"
      },
      "source": [
        "## 資料集準備"
      ]
    },
    {
      "cell_type": "code",
      "execution_count": null,
      "metadata": {
        "colab": {
          "base_uri": "https://localhost:8080/"
        },
        "id": "15c0bpCI0tjA",
        "outputId": "01dcae12-48e9-4345-da5a-37edbd92cbef"
      },
      "outputs": [
        {
          "name": "stdout",
          "output_type": "stream",
          "text": [
            "CLASSES = ['adipose', 'background', 'debris', 'lymphocytes', 'mucus', 'smooth muscle', 'normal colon mucosa', 'cancer-associated stroma', 'colorectal adenocarcinoma epithelium']\n",
            "原本的標註長這樣: [[0], [4], [7], [5], [5], [8], [3], [3], [5], [2]]\n",
            "獨熱的標註長這樣: [[1, 0, 0, 0, 0, 0, 0, 0, 0], [0, 0, 0, 0, 1, 0, 0, 0, 0], [0, 0, 0, 0, 0, 0, 0, 1, 0], [0, 0, 0, 0, 0, 1, 0, 0, 0], [0, 0, 0, 0, 0, 1, 0, 0, 0], [0, 0, 0, 0, 0, 0, 0, 0, 1], [0, 0, 0, 1, 0, 0, 0, 0, 0], [0, 0, 0, 1, 0, 0, 0, 0, 0], [0, 0, 0, 0, 0, 1, 0, 0, 0], [0, 0, 1, 0, 0, 0, 0, 0, 0]]\n",
            "train_labels_onehot: (89996, 9) uint8\n",
            "valid_labels_onehot: (10004, 9) uint8\n",
            "test_labels_onehot: (7180, 9) uint8\n"
          ]
        }
      ],
      "source": [
        "# 處理 label 為 one-hot encoding (獨熱編碼)\n",
        "# https://www.tensorflow.org/api_docs/python/tf/keras/utils/to_categorical\n",
        "# PathMNIST\t是9個分類\n",
        "CLASSES = list(info_dict['label'].values())\n",
        "print(\"CLASSES =\", CLASSES)\n",
        "train_labels_onehot =  to_categorical(train_labels_arr, num_classes=len(CLASSES), dtype='uint8')\n",
        "valid_labels_onehot =  to_categorical(valid_labels_arr, num_classes=len(CLASSES), dtype='uint8')\n",
        "test_labels_onehot =  to_categorical(test_labels_arr, num_classes=len(CLASSES), dtype='uint8')\n",
        "\n",
        "print(\"原本的標註長這樣:\", train_labels_arr[:10].tolist())\n",
        "print(\"獨熱的標註長這樣:\", train_labels_onehot[:10].tolist())\n",
        "print(\"train_labels_onehot:\", train_labels_onehot.shape, train_labels_onehot.dtype)\n",
        "print(\"valid_labels_onehot:\", valid_labels_onehot.shape, valid_labels_onehot.dtype)\n",
        "print(\"test_labels_onehot:\", test_labels_onehot.shape, test_labels_onehot.dtype)"
      ]
    },
    {
      "cell_type": "code",
      "execution_count": null,
      "metadata": {
        "colab": {
          "base_uri": "https://localhost:8080/",
          "height": 281
        },
        "id": "ha5t_OrR1pBY",
        "outputId": "6ff64733-db6d-44da-fc9b-8ec9714fa313"
      },
      "outputs": [
        {
          "data": {
            "image/png": "[encoded data removed]",
            "text/plain": [
              "<Figure size 432x288 with 1 Axes>"
            ]
          },
          "metadata": {
            "needs_background": "light"
          },
          "output_type": "display_data"
        }
      ],
      "source": [
        "# 隨機顯示一張圖片 和 它的標註\n",
        "i = np.random.randint(100)  # 隨機一個整數 0-100\n",
        "plt.imshow(train_images_arr[i])\n",
        "plt.title(f\"{train_labels_arr[i,0]}: {CLASSES[train_labels_arr[i,0]]}\")\n",
        "plt.show()"
      ]
    },
    {
      "cell_type": "markdown",
      "metadata": {
        "id": "JCfDweCTJyWk"
      },
      "source": [
        "# 模型 model design"
      ]
    },
    {
      "cell_type": "code",
      "execution_count": null,
      "metadata": {
        "colab": {
          "base_uri": "https://localhost:8080/"
        },
        "id": "Um4hJYXo4ZqH",
        "outputId": "0a568c2d-a3e4-4394-8cf2-eced4281b536"
      },
      "outputs": [
        {
          "name": "stdout",
          "output_type": "stream",
          "text": [
            "Model: \"sequential\"\n",
            "_________________________________________________________________\n",
            " Layer (type)                Output Shape              Param #   \n",
            "=================================================================\n",
            " flatten (Flatten)           (None, 2352)              0         \n",
            "                                                                 \n",
            " dense (Dense)               (None, 128)               301184    \n",
            "                                                                 \n",
            " dropout (Dropout)           (None, 128)               0         \n",
            "                                                                 \n",
            " dense_1 (Dense)             (None, 9)                 1161      \n",
            "                                                                 \n",
            "=================================================================\n",
            "Total params: 302,345\n",
            "Trainable params: 302,345\n",
            "Non-trainable params: 0\n",
            "_________________________________________________________________\n"
          ]
        }
      ],
      "source": [
        "# 利用 \"Sequential\" 把每層 layer 疊起來\n",
        "# input 大小為 28 x 28 x 3\n",
        "\n",
        "# 最後的 Dense(9) 且 activation 用 softmax\n",
        "# 代表最後 output 為 9 個 class（0~8）的機率\n",
        "\n",
        "model = Sequential([\n",
        "    layers.Flatten(input_shape=(28, 28, n_channels)),\n",
        "    layers.Dense(128, activation='relu'),\n",
        "    layers.Dropout(0.2),\n",
        "    layers.Dense(n_classes, activation='softmax')\n",
        "])\n",
        "\n",
        "# model每層定義好後需要經過compile\n",
        "model.compile(optimizer='adam',\n",
        "              loss='categorical_crossentropy',\n",
        "              metrics=['accuracy'])\n",
        "# 看看設計架構\n",
        "model.summary()"
      ]
    },
    {
      "cell_type": "code",
      "execution_count": null,
      "metadata": {
        "colab": {
          "base_uri": "https://localhost:8080/",
          "height": 686
        },
        "id": "hGGDmixqLpEv",
        "outputId": "b7f15d92-4f4d-4fbd-b25f-807847bc28fb"
      },
      "outputs": [
        {
          "data": {
            "image/png": "[encoded data removed]",
            "text/plain": [
              "<IPython.core.display.Image object>"
            ]
          },
          "execution_count": 17,
          "metadata": {},
          "output_type": "execute_result"
        }
      ],
      "source": [
        "# 看看設計架構\n",
        "plot_model(model, show_shapes=True, show_dtype=True, show_layer_names=True)"
      ]
    },
    {
      "cell_type": "markdown",
      "metadata": {
        "id": "CJe-g1x3MNek"
      },
      "source": [
        "# 訓練 training"
      ]
    },
    {
      "cell_type": "code",
      "execution_count": null,
      "metadata": {
        "colab": {
          "base_uri": "https://localhost:8080/"
        },
        "id": "wNE_66HIMCru",
        "outputId": "028fff5f-d85f-42e1-9652-3f0a466675ff"
      },
      "outputs": [
        {
          "name": "stdout",
          "output_type": "stream",
          "text": [
            "Epoch 1/5\n",
            "2813/2813 [==============================] - 14s 3ms/step - loss: 4.9273 - accuracy: 0.1415 - val_loss: 2.1851 - val_accuracy: 0.1431\n",
            "Epoch 2/5\n",
            "2813/2813 [==============================] - 10s 3ms/step - loss: 2.1849 - accuracy: 0.1432 - val_loss: 2.1850 - val_accuracy: 0.1431\n",
            "Epoch 3/5\n",
            "2813/2813 [==============================] - 9s 3ms/step - loss: 2.1849 - accuracy: 0.1432 - val_loss: 2.1850 - val_accuracy: 0.1431\n",
            "Epoch 4/5\n",
            "2813/2813 [==============================] - 9s 3ms/step - loss: 2.1849 - accuracy: 0.1427 - val_loss: 2.1850 - val_accuracy: 0.1431\n",
            "Epoch 5/5\n",
            "2813/2813 [==============================] - 9s 3ms/step - loss: 2.1849 - accuracy: 0.1432 - val_loss: 2.1850 - val_accuracy: 0.1431\n"
          ]
        }
      ],
      "source": [
        "# training  https://www.tensorflow.org/api_docs/python/tf/keras/Model#fit\n",
        "BATCH_SIZE = 32\n",
        "EPOCH = 5\n",
        "\n",
        "history = model.fit(train_images_arr, train_labels_onehot,  # < 訓練集\n",
        "                    batch_size=BATCH_SIZE, \n",
        "                    epochs=EPOCH, \n",
        "                    validation_data=(valid_images_arr, valid_labels_onehot), \n",
        "                    )"
      ]
    },
    {
      "cell_type": "code",
      "execution_count": null,
      "metadata": {
        "colab": {
          "base_uri": "https://localhost:8080/",
          "height": 730
        },
        "id": "-p3FWR-zN26T",
        "outputId": "c70594a7-be4a-4ac4-d474-13ec5dba2661"
      },
      "outputs": [
        {
          "data": {
            "image/png": "[encoded data removed]",
            "text/plain": [
              "<Figure size 432x864 with 2 Axes>"
            ]
          },
          "metadata": {
            "needs_background": "light"
          },
          "output_type": "display_data"
        }
      ],
      "source": [
        "#@title 訓練曲線\n",
        "# Training history visualization\n",
        "fig, (ax1, ax2) = plt.subplots(2, 1, figsize=(6,12))\n",
        "\n",
        "# Plot training & validation accuracy values\n",
        "ax1.plot(history.history['accuracy'])\n",
        "ax1.plot(history.history['val_accuracy'])\n",
        "ax1.set_title('Accuracy')\n",
        "ax1.set(ylabel='Accuracy', xlabel='Epoch')\n",
        "ax1.legend(['Train', 'Valid'], loc='upper left')\n",
        "\n",
        "# Plot training & validation loss values\n",
        "ax2.plot(history.history['loss'])\n",
        "ax2.plot(history.history['val_loss'])\n",
        "ax2.set_title('Model loss')\n",
        "ax2.set(ylabel='Loss', xlabel='Epoch')\n",
        "ax2.legend(['Train', 'Valid'], loc='upper right')\n",
        "\n",
        "plt.show()"
      ]
    },
    {
      "cell_type": "code",
      "execution_count": null,
      "metadata": {
        "id": "FAxmUT4-PaLO"
      },
      "outputs": [],
      "source": [
        "#@title 儲存模型 save model\n",
        "h5_file_path = \"Flatten_D128_O2_D9_ep300.h5\"\n",
        "model.save(h5_file_path)"
      ]
    },
    {
      "cell_type": "markdown",
      "metadata": {
        "id": "w-KNR74HRosl"
      },
      "source": [
        "# 評估 Evaluation"
      ]
    },
    {
      "cell_type": "code",
      "execution_count": null,
      "metadata": {
        "id": "K3q-TQSERzv-"
      },
      "outputs": [],
      "source": [
        "model.evaluate(valid_images_arr, valid_labels_onehot, return_dict=True, verbose=2)"
      ]
    },
    {
      "cell_type": "markdown",
      "metadata": {
        "id": "7u7flRSbQNcl"
      },
      "source": [
        "# 預測 predict"
      ]
    },
    {
      "cell_type": "code",
      "execution_count": null,
      "metadata": {
        "id": "0TaDpnreQL0X"
      },
      "outputs": [],
      "source": [
        "#@title 讀取模型 restore model\n",
        "h5_file_path = \"Flatten_D128_O2_D9_ep300.h5\"\n",
        "model = load_model(h5_file_path)"
      ]
    },
    {
      "cell_type": "code",
      "execution_count": null,
      "metadata": {
        "id": "Ssk6R21rQ1NI"
      },
      "outputs": [],
      "source": [
        "y_pred = model.predict(test_images_arr, \n",
        "                       batch_size=BATCH_SIZE, \n",
        "                       verbose=1)\n",
        "print(\"y_pred:\", y_pred.shape, y_pred.dtype)"
      ]
    },
    {
      "cell_type": "code",
      "execution_count": null,
      "metadata": {
        "id": "4ykBPfLDnILP"
      },
      "outputs": [],
      "source": [
        "# 轉換為預測類別\n",
        "y_pred_class = np.argmax(y_pred, axis=1)\n",
        "print(\"y_pred_class:\", y_pred_class.shape, y_pred_class.dtype)"
      ]
    },
    {
      "cell_type": "code",
      "execution_count": null,
      "metadata": {
        "id": "eOFZpDN9RVhA"
      },
      "outputs": [],
      "source": [
        "# 隨機選一張 測試圖片 並 顯示 原始與預測的結果\n",
        "i = np.random.randint(test_images_arr.shape[0])\n",
        "\n",
        "# plot\n",
        "plt.imshow(test_images_arr[i])\n",
        "plt.title(f\"GroundTrue:{test_labels_arr[i,0]} {CLASSES[test_labels_arr[i,0]]}  \\n  Predict:{y_pred_class[i]} {CLASSES[y_pred_class[i]]}\")\n",
        "plt.show()"
      ]
    },
    {
      "cell_type": "code",
      "execution_count": null,
      "metadata": {
        "id": "N9WD5yErmtye"
      },
      "outputs": [],
      "source": []
    }
  ],
  "metadata": {
    "accelerator": "GPU",
    "colab": {
      "provenance": [],
      "toc_visible": true
    },
    "kernelspec": {
      "display_name": "Python 3",
      "name": "python3"
    },
    "language_info": {
      "name": "python",
      "version": "3.11.2"
    }
  },
  "nbformat": 4,
  "nbformat_minor": 0
}
