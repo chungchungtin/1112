{
 "cells": [
  {
   "cell_type": "code",
   "execution_count": 5,
   "metadata": {},
   "outputs": [
    {
     "name": "stderr",
     "output_type": "stream",
     "text": [
      "'pip' ���O�����Υ~���R�O�B�i���檺�{���Χ妸�ɡC\n"
     ]
    },
    {
     "ename": "ModuleNotFoundError",
     "evalue": "No module named 'medmnist'",
     "output_type": "error",
     "traceback": [
      "\u001b[1;31m---------------------------------------------------------------------------\u001b[0m",
      "\u001b[1;31mModuleNotFoundError\u001b[0m                       Traceback (most recent call last)",
      "Cell \u001b[1;32mIn[5], line 3\u001b[0m\n\u001b[0;32m      1\u001b[0m \u001b[39m# 安裝 MedMNIST 資料集\u001b[39;00m\n\u001b[0;32m      2\u001b[0m get_ipython()\u001b[39m.\u001b[39msystem(\u001b[39m'\u001b[39m\u001b[39mpip install -q --upgrade git+https://github.com/MedMNIST/MedMNIST.git\u001b[39m\u001b[39m'\u001b[39m)\n\u001b[1;32m----> 3\u001b[0m \u001b[39mimport\u001b[39;00m \u001b[39mmedmnist\u001b[39;00m\n\u001b[0;32m      4\u001b[0m \u001b[39mfrom\u001b[39;00m \u001b[39mmedmnist\u001b[39;00m \u001b[39mimport\u001b[39;00m INFO\n\u001b[0;32m      5\u001b[0m \u001b[39mfrom\u001b[39;00m \u001b[39mmedmnist\u001b[39;00m\u001b[39m.\u001b[39;00m\u001b[39m__main__\u001b[39;00m \u001b[39mimport\u001b[39;00m download\n",
      "\u001b[1;31mModuleNotFoundError\u001b[0m: No module named 'medmnist'"
     ]
    }
   ],
   "source": [
    "# 安裝 MedMNIST 資料集\n",
    "!pip install -q --upgrade git+https://github.com/MedMNIST/MedMNIST.git\n",
    "import medmnist\n",
    "from medmnist import INFO\n",
    "from medmnist.__main__ import download\n",
    "# download('.')  # 下載所有資料到工作資料夾中(很慢)\n",
    "print(f\"MedMNIST v{medmnist.__version__} @ {medmnist.HOMEPAGE}\")"
   ]
  },
  {
   "cell_type": "code",
   "execution_count": null,
   "metadata": {},
   "outputs": [],
   "source": [
    "# import packages\n",
    "import glob\n",
    "import numpy as np\n",
    "import pandas as pd\n",
    "import matplotlib.pyplot as plt\n",
    "\n",
    "# tensorflow.keras\n",
    "import tensorflow as tf\n",
    "print(\"Tensorflow version =\", tf.__version__)\n",
    "from tensorflow.keras.models import Model, Sequential, load_model\n",
    "from tensorflow.keras import initializers, regularizers, optimizers, layers\n",
    "from tensorflow.keras.utils import to_categorical, plot_model\n",
    "from tensorflow.keras import backend as K"
   ]
  },
  {
   "cell_type": "code",
   "execution_count": null,
   "metadata": {},
   "outputs": [],
   "source": [
    "#@title 下載並解壓縮 MedMNIST 資料\n",
    "# Download data and unzip the file from google drive share-link :\n",
    "# https://drive.google.com/file/d/1MzmUKnyRs3_KcYuuyKpgKd6DZ4vVvKmx/view?usp=sharing\n",
    "!pip install -q --upgrade --no-cache-dir gdown\n",
    "import gdown\n",
    "url = \"https://drive.google.com/uc?id=1MzmUKnyRs3_KcYuuyKpgKd6DZ4vVvKmx\"\n",
    "gdown.download(url, \"MedNIST.zip\", quiet=False)\n",
    "!unzip -n -q 'MedNIST.zip' -d '.'\n",
    "print(\"... done\")"
   ]
  },
  {
   "cell_type": "code",
   "execution_count": 4,
   "metadata": {},
   "outputs": [
    {
     "name": "stderr",
     "output_type": "stream",
     "text": [
      "c:\\Users\\Tin\\AppData\\Local\\Programs\\Python\\Python311\\python.exe: No module named medmnist\n"
     ]
    }
   ],
   "source": [
    "!python -m medmnist available"
   ]
  },
  {
   "cell_type": "code",
   "execution_count": null,
   "metadata": {},
   "outputs": [],
   "source": [
    "# 獲得資料集訊息\n",
    "data_name = 'pathmnist'  # <- 資料集名稱\n",
    "\n",
    "info_dict = INFO[data_name]\n",
    "task = info_dict['task']\n",
    "n_channels = info_dict['n_channels']\n",
    "n_classes = len(info_dict['label'])\n",
    "info_dict"
   ]
  },
  {
   "cell_type": "code",
   "execution_count": null,
   "metadata": {},
   "outputs": [],
   "source": [
    "# 一個 npz 裏面包含了多個 npy(numpy array 的存檔)\n",
    "# open a npz file of MedNIST\n",
    "data = np.load(f'{data_name}.npz')  # 選一個資料集項目\n",
    "npy_file_lst = data.files\n",
    "for npy in npy_file_lst:\n",
    "    print(npy)\n",
    "    # print(data[npy])"
   ]
  },
  {
   "cell_type": "code",
   "execution_count": null,
   "metadata": {},
   "outputs": [],
   "source": [
    "# 準備 image 和 label 的 numpy array\n",
    "# images\n",
    "train_images_arr = data['train_images']\n",
    "valid_images_arr = data['val_images']\n",
    "test_images_arr = data['test_images']\n",
    "# labels\n",
    "train_labels_arr = data['train_labels']\n",
    "valid_labels_arr = data['val_labels']\n",
    "test_labels_arr = data['test_labels']\n",
    "\n",
    "print(\"train_images_arr:\", train_images_arr.shape, train_images_arr.dtype, \"\\ttrain_labels_arr:\", train_labels_arr.shape, train_labels_arr.dtype)\n",
    "print(\"valid_images_arr:\", valid_images_arr.shape, valid_images_arr.dtype, \"\\tvalid_labels_arr:\", valid_labels_arr.shape, valid_labels_arr.dtype)\n",
    "print(\"test_images_arr:\", test_images_arr.shape, test_images_arr.dtype, \"\\ttest_labels_arr:\", test_labels_arr.shape, test_labels_arr.dtype)"
   ]
  },
  {
   "cell_type": "code",
   "execution_count": null,
   "metadata": {},
   "outputs": [],
   "source": [
    "all_labels = np.concatenate([train_labels_arr, valid_labels_arr, test_labels_arr], axis=0)\n",
    "print(\"有這些標記:\", np.unique(all_labels))"
   ]
  },
  {
   "cell_type": "code",
   "execution_count": null,
   "metadata": {},
   "outputs": [],
   "source": [
    "# 處理 label 為 one-hot encoding (獨熱編碼)\n",
    "# https://www.tensorflow.org/api_docs/python/tf/keras/utils/to_categorical\n",
    "# PathMNIST\t是9個分類\n",
    "CLASSES = list(info_dict['label'].values())\n",
    "print(\"CLASSES =\", CLASSES)\n",
    "train_labels_onehot =  to_categorical(train_labels_arr, num_classes=len(CLASSES), dtype='uint8')\n",
    "valid_labels_onehot =  to_categorical(valid_labels_arr, num_classes=len(CLASSES), dtype='uint8')\n",
    "test_labels_onehot =  to_categorical(test_labels_arr, num_classes=len(CLASSES), dtype='uint8')\n",
    "\n",
    "print(\"原本的標註長這樣:\", train_labels_arr[:10].tolist())\n",
    "print(\"獨熱的標註長這樣:\", train_labels_onehot[:10].tolist())\n",
    "print(\"train_labels_onehot:\", train_labels_onehot.shape, train_labels_onehot.dtype)\n",
    "print(\"valid_labels_onehot:\", valid_labels_onehot.shape, valid_labels_onehot.dtype)\n",
    "print(\"test_labels_onehot:\", test_labels_onehot.shape, test_labels_onehot.dtype)"
   ]
  },
  {
   "cell_type": "code",
   "execution_count": null,
   "metadata": {},
   "outputs": [],
   "source": [
    "# 隨機顯示一張圖片 和 它的標註\n",
    "i = np.random.randint(100)  # 隨機一個整數 0-100\n",
    "plt.imshow(train_images_arr[i])\n",
    "plt.title(f\"{train_labels_arr[i,0]}: {CLASSES[train_labels_arr[i,0]]}\")\n",
    "plt.show()"
   ]
  },
  {
   "cell_type": "code",
   "execution_count": null,
   "metadata": {},
   "outputs": [],
   "source": [
    "# 利用 \"Sequential\" 把每層 layer 疊起來\n",
    "# input 大小為 28 x 28 x 3\n",
    "\n",
    "# 最後的 Dense(9) 且 activation 用 softmax\n",
    "# 代表最後 output 為 9 個 class（0~8）的機率\n",
    "\n",
    "model = Sequential([\n",
    "    layers.Flatten(input_shape=(28, 28, n_channels)),\n",
    "    layers.Dense(128, activation='relu'),\n",
    "    layers.Dropout(0.2),\n",
    "    layers.Dense(n_classes, activation='softmax')\n",
    "])\n",
    "\n",
    "# model每層定義好後需要經過compile\n",
    "model.compile(optimizer='adam',\n",
    "              loss='categorical_crossentropy',\n",
    "              metrics=['accuracy'])\n",
    "# 看看設計架構\n",
    "model.summary()"
   ]
  },
  {
   "cell_type": "code",
   "execution_count": null,
   "metadata": {},
   "outputs": [],
   "source": [
    "# 看看設計架構\n",
    "plot_model(model, show_shapes=True, show_dtype=True, show_layer_names=True)"
   ]
  },
  {
   "cell_type": "code",
   "execution_count": null,
   "metadata": {},
   "outputs": [],
   "source": [
    "# training  https://www.tensorflow.org/api_docs/python/tf/keras/Model#fit\n",
    "BATCH_SIZE = 32\n",
    "EPOCH = 5\n",
    "\n",
    "history = model.fit(train_images_arr, train_labels_onehot,  # < 訓練集\n",
    "                    batch_size=BATCH_SIZE, \n",
    "                    epochs=EPOCH, \n",
    "                    validation_data=(valid_images_arr, valid_labels_onehot), \n",
    "                    )"
   ]
  },
  {
   "cell_type": "code",
   "execution_count": null,
   "metadata": {},
   "outputs": [],
   "source": [
    "#@title 訓練曲線\n",
    "# Training history visualization\n",
    "fig, (ax1, ax2) = plt.subplots(2, 1, figsize=(6,12))\n",
    "\n",
    "# Plot training & validation accuracy values\n",
    "ax1.plot(history.history['accuracy'])\n",
    "ax1.plot(history.history['val_accuracy'])\n",
    "ax1.set_title('Accuracy')\n",
    "ax1.set(ylabel='Accuracy', xlabel='Epoch')\n",
    "ax1.legend(['Train', 'Valid'], loc='upper left')\n",
    "\n",
    "# Plot training & validation loss values\n",
    "ax2.plot(history.history['loss'])\n",
    "ax2.plot(history.history['val_loss'])\n",
    "ax2.set_title('Model loss')\n",
    "ax2.set(ylabel='Loss', xlabel='Epoch')\n",
    "ax2.legend(['Train', 'Valid'], loc='upper right')\n",
    "\n",
    "plt.show()"
   ]
  },
  {
   "cell_type": "code",
   "execution_count": null,
   "metadata": {},
   "outputs": [],
   "source": [
    "#@title 儲存模型 save model\n",
    "h5_file_path = \"Flatten_D128_O2_D9_ep300.h5\"\n",
    "model.save(h5_file_path)"
   ]
  },
  {
   "cell_type": "code",
   "execution_count": null,
   "metadata": {},
   "outputs": [],
   "source": [
    "model.evaluate(valid_images_arr, valid_labels_onehot, return_dict=True, verbose=2)"
   ]
  },
  {
   "cell_type": "code",
   "execution_count": null,
   "metadata": {},
   "outputs": [],
   "source": [
    "#@title 讀取模型 restore model\n",
    "h5_file_path = \"Flatten_D128_O2_D9_ep300.h5\"\n",
    "model = load_model(h5_file_path)"
   ]
  },
  {
   "cell_type": "code",
   "execution_count": null,
   "metadata": {},
   "outputs": [],
   "source": [
    "y_pred = model.predict(test_images_arr, \n",
    "                       batch_size=BATCH_SIZE, \n",
    "                       verbose=1)\n",
    "print(\"y_pred:\", y_pred.shape, y_pred.dtype)"
   ]
  },
  {
   "cell_type": "code",
   "execution_count": null,
   "metadata": {},
   "outputs": [],
   "source": [
    "# 轉換為預測類別\n",
    "y_pred_class = np.argmax(y_pred, axis=1)\n",
    "print(\"y_pred_class:\", y_pred_class.shape, y_pred_class.dtype)"
   ]
  },
  {
   "cell_type": "code",
   "execution_count": null,
   "metadata": {},
   "outputs": [],
   "source": [
    "# 隨機選一張 測試圖片 並 顯示 原始與預測的結果\n",
    "i = np.random.randint(test_images_arr.shape[0])\n",
    "\n",
    "# plot\n",
    "plt.imshow(test_images_arr[i])\n",
    "plt.title(f\"GroundTrue:{test_labels_arr[i,0]} {CLASSES[test_labels_arr[i,0]]}  \\n  Predict:{y_pred_class[i]} {CLASSES[y_pred_class[i]]}\")\n",
    "plt.show()"
   ]
  }
 ],
 "metadata": {
  "kernelspec": {
   "display_name": "Python 3",
   "language": "python",
   "name": "python3"
  },
  "language_info": {
   "codemirror_mode": {
    "name": "ipython",
    "version": 3
   },
   "file_extension": ".py",
   "mimetype": "text/x-python",
   "name": "python",
   "nbconvert_exporter": "python",
   "pygments_lexer": "ipython3",
   "version": "3.11.2"
  },
  "orig_nbformat": 4
 },
 "nbformat": 4,
 "nbformat_minor": 2
}
