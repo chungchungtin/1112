{
 "cells": [
  {
   "cell_type": "code",
   "execution_count": 8,
   "metadata": {},
   "outputs": [
    {
     "name": "stdout",
     "output_type": "stream",
     "text": [
      "請使用阿拉伯數字輸入\n"
     ]
    },
    {
     "ename": "UnboundLocalError",
     "evalue": "cannot access local variable 'western_year' where it is not associated with a value",
     "output_type": "error",
     "traceback": [
      "\u001b[1;31m---------------------------------------------------------------------------\u001b[0m",
      "\u001b[1;31mUnboundLocalError\u001b[0m                         Traceback (most recent call last)",
      "Cell \u001b[1;32mIn[8], line 13\u001b[0m\n\u001b[0;32m     11\u001b[0m     date \u001b[39m=\u001b[39m \u001b[39mstr\u001b[39m(western_year) \u001b[39m+\u001b[39m \u001b[39m\"\u001b[39m\u001b[39m/\u001b[39m\u001b[39m\"\u001b[39m \u001b[39m+\u001b[39m \u001b[39mstr\u001b[39m(month) \u001b[39m+\u001b[39m \u001b[39m\"\u001b[39m\u001b[39m/\u001b[39m\u001b[39m\"\u001b[39m \u001b[39m+\u001b[39m \u001b[39mstr\u001b[39m(day)\n\u001b[0;32m     12\u001b[0m     \u001b[39mprint\u001b[39m(date)\n\u001b[1;32m---> 13\u001b[0m date_tran(year, month, day)\n",
      "Cell \u001b[1;32mIn[8], line 11\u001b[0m, in \u001b[0;36mdate_tran\u001b[1;34m(year, month, day)\u001b[0m\n\u001b[0;32m      9\u001b[0m \u001b[39mexcept\u001b[39;00m:\n\u001b[0;32m     10\u001b[0m     \u001b[39mprint\u001b[39m(\u001b[39m\"\u001b[39m\u001b[39m請使用阿拉伯數字輸入\u001b[39m\u001b[39m\"\u001b[39m)\n\u001b[1;32m---> 11\u001b[0m date \u001b[39m=\u001b[39m \u001b[39mstr\u001b[39m(western_year) \u001b[39m+\u001b[39m \u001b[39m\"\u001b[39m\u001b[39m/\u001b[39m\u001b[39m\"\u001b[39m \u001b[39m+\u001b[39m \u001b[39mstr\u001b[39m(month) \u001b[39m+\u001b[39m \u001b[39m\"\u001b[39m\u001b[39m/\u001b[39m\u001b[39m\"\u001b[39m \u001b[39m+\u001b[39m \u001b[39mstr\u001b[39m(day)\n\u001b[0;32m     12\u001b[0m \u001b[39mprint\u001b[39m(date)\n",
      "\u001b[1;31mUnboundLocalError\u001b[0m: cannot access local variable 'western_year' where it is not associated with a value"
     ]
    }
   ],
   "source": [
    "year = input(\"歡迎使用日期轉換器，請輸入日期\")\n",
    "month = input(\"請輸入入國曆月\")\n",
    "day = input(\"請輸入入國曆日\")\n",
    "def date_tran(year, month, day):\n",
    "    try:\n",
    "        western_year = int(year) + 1911\n",
    "        month = int(month)\n",
    "        day = int(day)\n",
    "    except:\n",
    "        print(\"請使用阿拉伯數字輸入\")\n",
    "    date = str(western_year) + \"/\" + str(month) + \"/\" + str(day)\n",
    "    print(date)\n",
    "date_tran(year, month, day)"
   ]
  }
 ],
 "metadata": {
  "kernelspec": {
   "display_name": "Python 3",
   "language": "python",
   "name": "python3"
  },
  "language_info": {
   "codemirror_mode": {
    "name": "ipython",
    "version": 3
   },
   "file_extension": ".py",
   "mimetype": "text/x-python",
   "name": "python",
   "nbconvert_exporter": "python",
   "pygments_lexer": "ipython3",
   "version": "3.11.2"
  },
  "orig_nbformat": 4
 },
 "nbformat": 4,
 "nbformat_minor": 2
}
