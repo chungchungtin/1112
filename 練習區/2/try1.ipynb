{
 "cells": [
  {
   "cell_type": "code",
   "execution_count": 3,
   "metadata": {},
   "outputs": [],
   "source": [
    "year = input(\"歡迎使用日期轉換器，請輸入國曆年\")\n",
    "month = input(\"請輸入入國曆月\")\n",
    "day = input(\"請輸入入國曆日\")\n",
    "def date_tran(year, month, day):\n",
    "    try:\n",
    "        western_year = int(year) + 1911\n",
    "        month = int(month)\n",
    "        day = int(day)\n",
    "    except:\n",
    "        print(\"請使用阿拉伯數字輸入\")\n",
    "    date = str(western_year) + \"/\" + str(month) + \"/\" + str(day)\n",
    "    print(date)"
   ]
  }
 ],
 "metadata": {
  "kernelspec": {
   "display_name": "Python 3",
   "language": "python",
   "name": "python3"
  },
  "language_info": {
   "codemirror_mode": {
    "name": "ipython",
    "version": 3
   },
   "file_extension": ".py",
   "mimetype": "text/x-python",
   "name": "python",
   "nbconvert_exporter": "python",
   "pygments_lexer": "ipython3",
   "version": "3.11.2"
  },
  "orig_nbformat": 4
 },
 "nbformat": 4,
 "nbformat_minor": 2
}
