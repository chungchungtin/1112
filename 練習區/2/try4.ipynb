{
 "cells": [
  {
   "cell_type": "code",
   "execution_count": 1,
   "metadata": {},
   "outputs": [
    {
     "name": "stdout",
     "output_type": "stream",
     "text": [
      "2019/11/19\n"
     ]
    },
    {
     "data": {
      "text/plain": [
       "['108', '11', '19', '9', '30']"
      ]
     },
     "execution_count": 1,
     "metadata": {},
     "output_type": "execute_result"
    }
   ],
   "source": [
    "time = \"民國108年11月19日下午9點30分\"\n",
    "def tran_date():\n",
    "    import re\n",
    "    number_list = re.findall(r'(\\d+)', time)\n",
    "    date_list = [number_list[0], number_list[1], number_list[2]]\n",
    "    western_year = int(date_list[0]) + 1911\n",
    "    month = int(date_list[1])\n",
    "    day = int(date_list[2])\n",
    "    date = str(western_year) + '/' + str(month) + \"/\" + str(day)\n",
    "    print(date)\n",
    "    return number_list\n",
    "tran_date()"
   ]
  }
 ],
 "metadata": {
  "kernelspec": {
   "display_name": "Python 3",
   "language": "python",
   "name": "python3"
  },
  "language_info": {
   "codemirror_mode": {
    "name": "ipython",
    "version": 3
   },
   "file_extension": ".py",
   "mimetype": "text/x-python",
   "name": "python",
   "nbconvert_exporter": "python",
   "pygments_lexer": "ipython3",
   "version": "3.9.6"
  },
  "orig_nbformat": 4
 },
 "nbformat": 4,
 "nbformat_minor": 2
}
