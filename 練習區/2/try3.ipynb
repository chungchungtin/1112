{
 "cells": [
  {
   "cell_type": "code",
   "execution_count": 1,
   "metadata": {},
   "outputs": [],
   "source": [
    "date = input(\"歡迎使用日期轉換器，請輸入日期\")"
   ]
  },
  {
   "cell_type": "code",
   "execution_count": 2,
   "metadata": {},
   "outputs": [],
   "source": [
    "date = \"民國108年11月19日下午9點30分\""
   ]
  },
  {
   "cell_type": "code",
   "execution_count": 3,
   "metadata": {},
   "outputs": [],
   "source": [
    "def number_retriever(date):\n",
    "    for i in range(len(date)):\n",
    "        if type(date[i]) == int:\n",
    "            print(date[i])\n",
    "            x_year = i\n",
    "            i += 1\n",
    "        else:\n",
    "            i += 1"
   ]
  },
  {
   "cell_type": "code",
   "execution_count": 4,
   "metadata": {},
   "outputs": [],
   "source": [
    "for i in date:\n",
    "    if i.isdigit():\n",
    "        x_year = i"
   ]
  },
  {
   "attachments": {},
   "cell_type": "markdown",
   "metadata": {},
   "source": [
    "先列出列表?"
   ]
  },
  {
   "attachments": {},
   "cell_type": "markdown",
   "metadata": {},
   "source": [
    "先找出數字"
   ]
  },
  {
   "cell_type": "code",
   "execution_count": 12,
   "metadata": {},
   "outputs": [],
   "source": [
    "#列出哪些是數字\n",
    "date = \"民國108年11月19日下午9點30分\"\n",
    "x_number = 0\n",
    "x_year = 0\n",
    "x_month = 0\n",
    "x_date = 0\n",
    "x_list = []\n",
    "for i in range(len(date)):\n",
    "    if date[i].isdigit() is True:\n",
    "        x_number = i\n",
    "        x_list.append(x_number)\n",
    "    else:\n",
    "        i += 1"
   ]
  },
  {
   "attachments": {},
   "cell_type": "markdown",
   "metadata": {},
   "source": [
    "僅限於找出三組數字"
   ]
  },
  {
   "cell_type": "code",
   "execution_count": 6,
   "metadata": {},
   "outputs": [],
   "source": [
    "date = \"民國108年11月19日下午9點30分\"\n",
    "start_year = 0\n",
    "start_month = 0\n",
    "start_day = 0\n",
    "end_year = 0\n",
    "end_month = 0\n",
    "end_day = 0\n",
    "#找出年份的開始與結束\n",
    "for i in range(len(date)):\n",
    "    if date[i].isdigit() is True:\n",
    "        start_year = i\n",
    "        break\n",
    "    else:\n",
    "        i += 1\n",
    "for j in range(start_year, len(date)):\n",
    "    if date[j].isdigit() is False:\n",
    "        end_year = j - 1\n",
    "        break\n",
    "    \n",
    "#找出月份的開始與結束\n",
    "i = 0\n",
    "j = 0\n",
    "for i in range(end_year+1, len(date)):\n",
    "    if date[i].isdigit() is True:\n",
    "        start_month = i\n",
    "        break\n",
    "    else:\n",
    "        i += 1\n",
    "for j in range(start_month, len(date)):\n",
    "    if date[j].isdigit() is False:\n",
    "        end_month = j - 1\n",
    "        break\n",
    "\n",
    "#找出日期的開始與結束\n",
    "i = 0\n",
    "j = 0\n",
    "for i in range(end_month+1, len(date)):\n",
    "    if date[i].isdigit() is True:\n",
    "        start_day = i\n",
    "        break\n",
    "    else:\n",
    "        i += 1\n",
    "for j in range(start_day, len(date)):\n",
    "    if date[j].isdigit() is False:\n",
    "        end_day = j - 1\n",
    "        break\n",
    "\n",
    "ROC_year = date[start_year:end_year+1]\n",
    "western_year = int(ROC_year) + 1911"
   ]
  },
  {
   "attachments": {},
   "cell_type": "markdown",
   "metadata": {},
   "source": [
    "找出所有數字"
   ]
  },
  {
   "cell_type": "code",
   "execution_count": 5,
   "metadata": {},
   "outputs": [
    {
     "name": "stdout",
     "output_type": "stream",
     "text": [
      "狀況三\n",
      "[]\n",
      "狀況三\n",
      "[]\n",
      "狀況一\n",
      "['1']\n",
      "狀況二\n",
      "['10']\n",
      "狀況二\n",
      "['108']\n",
      "狀況四\n",
      "['108', '']\n",
      "狀況二\n",
      "['108', '1']\n",
      "狀況二\n",
      "['108', '11']\n",
      "狀況四\n",
      "['108', '11', '']\n",
      "狀況二\n",
      "['108', '11', '1']\n",
      "狀況二\n",
      "['108', '11', '19']\n",
      "狀況四\n",
      "['108', '11', '19', '']\n",
      "狀況四\n",
      "['108', '11', '19', '', '']\n",
      "狀況四\n",
      "['108', '11', '19', '', '', '']\n",
      "狀況二\n",
      "['108', '11', '19', '', '', '9']\n",
      "狀況四\n",
      "['108', '11', '19', '', '', '9', '']\n",
      "狀況二\n",
      "['108', '11', '19', '', '', '9', '3']\n",
      "狀況二\n",
      "['108', '11', '19', '', '', '9', '30']\n",
      "狀況四\n",
      "['108', '11', '19', '', '', '9', '30', '']\n"
     ]
    }
   ],
   "source": [
    "date = \"民國108年11月19日下午9點30分\"\n",
    "list_of_number = []\n",
    "j = 0\n",
    "for i in range(len(date)):\n",
    "    if (date[i].isdigit()) and (list_of_number == []) is True:\n",
    "        print(\"狀況一\")\n",
    "        list_of_number.append(date[i])\n",
    "        i += 1\n",
    "        print(list_of_number)\n",
    "    elif (date[i].isdigit()) is True and (list_of_number == []) is False:\n",
    "        print(\"狀況二\")\n",
    "        list_of_number[j-1] = list_of_number[j-1] + date[i]\n",
    "        print(list_of_number)\n",
    "    elif (date[i].isdigit()) is False and (list_of_number == []) is True:\n",
    "        print(\"狀況三\")\n",
    "        i += 1\n",
    "        print(list_of_number)\n",
    "    elif (date[i].isdigit()) is False and (list_of_number == []) is False:\n",
    "        print(\"狀況四\")\n",
    "        list_of_number.append(\"\")\n",
    "        i += 1\n",
    "        print(list_of_number)"
   ]
  },
  {
   "cell_type": "code",
   "execution_count": 19,
   "metadata": {},
   "outputs": [],
   "source": [
    "A string that contains the date and time.\n",
    "date = \"民國108年11月19日下午9點30分\"\n",
    "list_of_number = []\n",
    "\n",
    "for i in range(len(date)):\n",
    "    if date[i].isdigit() is False and list_of_number == [] is False:\n",
    "        end_digit = i - 1\n",
    "        break\n",
    "    elif date[i].isdigit() is False and list_of_number == [] is True:\n",
    "        i += 1\n",
    "    elif date[i].isdigit() is True and list_of_number == [] is True:\n",
    "        start_digit = i\n",
    "        list_of_number.append(date[start_digit])\n",
    "        i += 1\n",
    "    elif date[i].isdigit() is True and list_of_number == [] is False:\n",
    "        list_of_number[i] = list_of_number[i] + date[i]\n",
    "        i += 1"
   ]
  },
  {
   "cell_type": "code",
   "execution_count": null,
   "metadata": {},
   "outputs": [],
   "source": [
    "for i in range(len(date)):\n",
    "    if type(date[i]) == int:\n",
    "        x_year = i\n",
    "        i += 1\n",
    "    else:\n",
    "        i += 1\n",
    "for j in range(x_year+1, len(date)):\n",
    "    if type(date) == int:\n",
    "        x_month = j"
   ]
  }
 ],
 "metadata": {
  "kernelspec": {
   "display_name": "Python 3",
   "language": "python",
   "name": "python3"
  },
  "language_info": {
   "codemirror_mode": {
    "name": "ipython",
    "version": 3
   },
   "file_extension": ".py",
   "mimetype": "text/x-python",
   "name": "python",
   "nbconvert_exporter": "python",
   "pygments_lexer": "ipython3",
   "version": "3.9.6"
  },
  "orig_nbformat": 4,
  "vscode": {
   "interpreter": {
    "hash": "aee8b7b246df8f9039afb4144a1f6fd8d2ca17a180786b69acc140d282b71a49"
   }
  }
 },
 "nbformat": 4,
 "nbformat_minor": 2
}
