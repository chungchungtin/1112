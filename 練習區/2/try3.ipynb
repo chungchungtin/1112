{
 "cells": [
  {
   "cell_type": "code",
   "execution_count": 2,
   "metadata": {},
   "outputs": [],
   "source": [
    "date = input(\"歡迎使用日期轉換器，請輸入日期\")"
   ]
  },
  {
   "cell_type": "code",
   "execution_count": 3,
   "metadata": {},
   "outputs": [],
   "source": [
    "date = \"民國108年11月19日下午9點30分\""
   ]
  },
  {
   "cell_type": "code",
   "execution_count": 4,
   "metadata": {},
   "outputs": [],
   "source": [
    "def number_retriever(date):\n",
    "    for i in range(len(date)):\n",
    "        if type(date[i]) == int:\n",
    "            print(date[i])\n",
    "            x_year = i\n",
    "            i += 1\n",
    "        else:\n",
    "            i += 1"
   ]
  },
  {
   "cell_type": "code",
   "execution_count": 5,
   "metadata": {},
   "outputs": [],
   "source": [
    "for i in date:\n",
    "    if i.isdigit():\n",
    "        x_year = i"
   ]
  },
  {
   "attachments": {},
   "cell_type": "markdown",
   "metadata": {},
   "source": [
    "先列出列表?"
   ]
  },
  {
   "attachments": {},
   "cell_type": "markdown",
   "metadata": {},
   "source": [
    "先找出數字"
   ]
  },
  {
   "cell_type": "code",
   "execution_count": 6,
   "metadata": {},
   "outputs": [],
   "source": [
    "#列出哪些是數字\n",
    "date = \"民國108年11月19日下午9點30分\"\n",
    "x_number = 0\n",
    "x_year = 0\n",
    "x_month = 0\n",
    "x_date = 0\n",
    "x_list = []\n",
    "for i in range(len(date)):\n",
    "    if date[i].isdigit() is True:\n",
    "        x_number = i\n",
    "        x_list.append(x_number)\n",
    "    else:\n",
    "        i += 1"
   ]
  },
  {
   "attachments": {},
   "cell_type": "markdown",
   "metadata": {},
   "source": [
    "僅限於找出三組數字"
   ]
  },
  {
   "cell_type": "code",
   "execution_count": 7,
   "metadata": {},
   "outputs": [],
   "source": [
    "date = \"民國108年11月19日下午9點30分\"\n",
    "start_year = 0\n",
    "start_month = 0\n",
    "start_day = 0\n",
    "end_year = 0\n",
    "end_month = 0\n",
    "end_day = 0\n",
    "#找出年份的開始與結束\n",
    "for i in range(len(date)):\n",
    "    if date[i].isdigit() is True:\n",
    "        start_year = i\n",
    "        break\n",
    "    else:\n",
    "        i += 1\n",
    "for j in range(start_year, len(date)):\n",
    "    if date[j].isdigit() is False:\n",
    "        end_year = j - 1\n",
    "        break\n",
    "    \n",
    "#找出月份的開始與結束\n",
    "i = 0\n",
    "j = 0\n",
    "for i in range(end_year+1, len(date)):\n",
    "    if date[i].isdigit() is True:\n",
    "        start_month = i\n",
    "        break\n",
    "    else:\n",
    "        i += 1\n",
    "for j in range(start_month, len(date)):\n",
    "    if date[j].isdigit() is False:\n",
    "        end_month = j - 1\n",
    "        break\n",
    "\n",
    "#找出日期的開始與結束\n",
    "i = 0\n",
    "j = 0\n",
    "for i in range(end_month+1, len(date)):\n",
    "    if date[i].isdigit() is True:\n",
    "        start_day = i\n",
    "        break\n",
    "    else:\n",
    "        i += 1\n",
    "for j in range(start_day, len(date)):\n",
    "    if date[j].isdigit() is False:\n",
    "        end_day = j - 1\n",
    "        break\n",
    "\n",
    "ROC_year = date[start_year:end_year+1]\n",
    "western_year = int(ROC_year) + 1911"
   ]
  },
  {
   "cell_type": "code",
   "execution_count": 8,
   "metadata": {},
   "outputs": [
    {
     "name": "stdout",
     "output_type": "stream",
     "text": [
      "2019/11/19\n"
     ]
    },
    {
     "data": {
      "text/plain": [
       "['108', '11', '19', '9', '30']"
      ]
     },
     "execution_count": 8,
     "metadata": {},
     "output_type": "execute_result"
    }
   ],
   "source": [
    "time = \"民國108年11月19日下午9點30分\"\n",
    "def tran_date():\n",
    "    import re\n",
    "    number_list = re.findall(r'(\\d+)', time)\n",
    "    date_list = [number_list[0], number_list[1], number_list[2]]\n",
    "    western_year = int(date_list[0]) + 1911\n",
    "    month = int(date_list[1])\n",
    "    day = int(date_list[2])\n",
    "    date = str(western_year) + '/' + str(month) + \"/\" + str(day)\n",
    "    print(date)\n",
    "    return number_list\n",
    "tran_date()"
   ]
  },
  {
   "attachments": {},
   "cell_type": "markdown",
   "metadata": {},
   "source": [
    "找出所有數字"
   ]
  },
  {
   "cell_type": "code",
   "execution_count": 9,
   "metadata": {},
   "outputs": [
    {
     "name": "stdout",
     "output_type": "stream",
     "text": [
      "['', '', 1, 0, 8, '', 1, 1, '', 1, 9, '', '', '', 9, '', 3, 0, '', 1, 1, '']\n",
      "22\n"
     ]
    }
   ],
   "source": [
    "# 5th try\n",
    "date = \"民國108年11月19日下午9點30分11秒\"\n",
    "list_of_str = []\n",
    "for i in range(len(date)):\n",
    "    if date[i].isdigit():\n",
    "        list_of_str.append(int(date[i]))\n",
    "    else:\n",
    "        list_of_str.append('')\n",
    "print(list_of_str)\n",
    "print(len(list_of_str))\n",
    "\n",
    "list2 = []\n",
    "j = 0\n",
    "for j in range(len(list_of_str)):\n",
    "    if j == 0:\n",
    "        if list_of_str[j] == '':\n",
    "            continue\n",
    "        elif list_of_str[j] != '':\n",
    "            list2.append(list_of_str[j])\n",
    "            continue\n",
    "    elif j == len(list_of_str) - 1:\n",
    "        if list_of_str[j] == '':\n",
    "            list2.append('')\n",
    "            continue\n",
    "        elif list_of_str[j] != '':\n",
    "            list2.append(list_of_str[j])\n",
    "            list2.append('')\n",
    "            continue\n",
    "    else:\n",
    "        if list_of_str[j] == '':\n",
    "            if list_of_str[j + 1] == '':\n",
    "                continue\n",
    "            elif list_of_str[j + 1] != '':\n",
    "                list2.append(list_of_str[j])\n",
    "        elif list_of_str[j] != '':\n",
    "            list2.append(list_of_str[j])\n",
    "\n",
    "final_list = []\n",
    "number_count = 0\n",
    "for k in range(len(list2)):\n",
    "    if k == 0:\n",
    "        final_list.append(list2[k])\n",
    "        number_count += 1\n",
    "    elif k == len(list2) - 1:\n",
    "        break\n",
    "    else:\n",
    "        if list2[k] == '':\n",
    "            final_list.append(list2[k])\n",
    "            number_count += 1\n",
    "        elif list2[k] != '':\n",
    "            final_list[number_count-1] = str(final_list[number_count-1]) + str(list2[k])"
   ]
  },
  {
   "cell_type": "code",
   "execution_count": 12,
   "metadata": {},
   "outputs": [
    {
     "data": {
      "text/plain": [
       "['108', '11', '19', '9', '30', '11']"
      ]
     },
     "execution_count": 12,
     "metadata": {},
     "output_type": "execute_result"
    }
   ],
   "source": [
    "#成功\n",
    "def list_numbers(string):\n",
    "    list_of_str = []\n",
    "    for i in range(len(string)):\n",
    "        if string[i].isdigit():\n",
    "            list_of_str.append(int(string[i]))\n",
    "        else:\n",
    "            list_of_str.append('')\n",
    "\n",
    "    list2 = []\n",
    "    j = 0\n",
    "    for j in range(len(list_of_str)):\n",
    "        if j == 0:\n",
    "            if list_of_str[j] == '':\n",
    "                continue\n",
    "            elif list_of_str[j] != '':\n",
    "                list2.append(list_of_str[j])\n",
    "                continue\n",
    "        elif j == len(list_of_str) - 1:\n",
    "            if list_of_str[j] == '':\n",
    "                list2.append('')\n",
    "                continue\n",
    "            elif list_of_str[j] != '':\n",
    "                list2.append(list_of_str[j])\n",
    "                list2.append('')\n",
    "                continue\n",
    "        else:\n",
    "            if list_of_str[j] == '':\n",
    "                if list_of_str[j + 1] == '':\n",
    "                    continue\n",
    "                elif list_of_str[j + 1] != '':\n",
    "                    list2.append(list_of_str[j])\n",
    "            elif list_of_str[j] != '':\n",
    "                list2.append(list_of_str[j])\n",
    "\n",
    "    final_list = []\n",
    "    number_count = 0\n",
    "    for k in range(len(list2)):\n",
    "        if k == 0:\n",
    "            final_list.append(list2[k])\n",
    "            number_count += 1\n",
    "        elif k == len(list2) - 1:\n",
    "            break\n",
    "        else:\n",
    "            if list2[k] == '':\n",
    "                final_list.append(list2[k])\n",
    "                number_count += 1\n",
    "            elif list2[k] != '':\n",
    "                final_list[number_count-1] = str(final_list[number_count-1]) + str(list2[k])\n",
    "    return final_list\n",
    "list_numbers(date)"
   ]
  },
  {
   "cell_type": "code",
   "execution_count": 11,
   "metadata": {},
   "outputs": [
    {
     "ename": "TypeError",
     "evalue": "list_numbers() missing 1 required positional argument: 'string'",
     "output_type": "error",
     "traceback": [
      "\u001b[1;31m---------------------------------------------------------------------------\u001b[0m",
      "\u001b[1;31mTypeError\u001b[0m                                 Traceback (most recent call last)",
      "Cell \u001b[1;32mIn[11], line 1\u001b[0m\n\u001b[1;32m----> 1\u001b[0m list_numbers()\n",
      "\u001b[1;31mTypeError\u001b[0m: list_numbers() missing 1 required positional argument: 'string'"
     ]
    }
   ],
   "source": [
    "list_numbers()"
   ]
  },
  {
   "cell_type": "code",
   "execution_count": null,
   "metadata": {},
   "outputs": [
    {
     "name": "stdout",
     "output_type": "stream",
     "text": [
      "['', '', 1, 0, 8, '', 1, 1, '', 1, 9, '', '', '', 9, '', 3, 0]\n",
      "18\n"
     ]
    }
   ],
   "source": [
    "# 4th try\n",
    "date = \"民國108年11月19日下午9點30\"\n",
    "list_of_numbers = []\n",
    "for i in range(len(date)):\n",
    "    if date[i].isdigit():\n",
    "        list_of_numbers.append(int(date[i]))\n",
    "    else:\n",
    "        list_of_numbers.append('')\n",
    "print(list_of_numbers)\n",
    "print(len(list_of_numbers))\n",
    "\n",
    "j = 0\n",
    "for j in range(len(list_of_numbers)):\n",
    "    if j == 0:\n",
    "        if list_of_numbers[j] == '' and list_of_numbers[j + 1] == '':\n",
    "            list_of_numbers.remove(list_of_numbers[j])\n",
    "            continue\n",
    "        elif list_of_numbers[j] == '' and list_of_numbers[j + 1] != '':\n",
    "            continue\n",
    "    elif j == len(list_of_numbers) - 1:\n",
    "        if list_of_numbers[j] == '':\n",
    "            break\n",
    "        elif list_of_numbers[j] != '':\n",
    "            list_of_numbers.append('')\n",
    "            break\n",
    "    else:\n",
    "        if list_of_numbers[j] == '' and list_of_numbers[j + 1] == '':\n",
    "            list_of_numbers.remove(list_of_numbers[j])\n",
    "            continue\n",
    "        elif list_of_numbers[j] == '' and list_of_numbers[j + 1] != '':\n",
    "            continue"
   ]
  },
  {
   "cell_type": "code",
   "execution_count": null,
   "metadata": {},
   "outputs": [
    {
     "name": "stdout",
     "output_type": "stream",
     "text": [
      "狀況三\n",
      "[]\n",
      "狀況三\n",
      "[]\n",
      "狀況一\n",
      "['1']\n",
      "狀況二\n",
      "['10']\n",
      "狀況二\n",
      "['108']\n",
      "狀況四\n",
      "['108', '']\n",
      "狀況二\n",
      "['1081', '']\n",
      "狀況二\n",
      "['10811', '']\n",
      "狀況四\n",
      "['10811', '', '']\n",
      "狀況二\n",
      "['10811', '1', '']\n",
      "狀況二\n",
      "['10811', '19', '']\n",
      "狀況四\n",
      "['10811', '19', '', '']\n",
      "狀況四\n",
      "['10811', '19', '', '', '']\n",
      "狀況四\n",
      "['10811', '19', '', '', '', '']\n",
      "狀況二\n",
      "['10811', '19', '', '', '9', '']\n",
      "狀況四\n",
      "['10811', '19', '', '', '9', '', '']\n",
      "狀況二\n",
      "['10811', '19', '', '', '9', '3', '']\n",
      "狀況二\n",
      "['10811', '19', '', '', '9', '30', '']\n",
      "狀況四\n",
      "['10811', '19', '', '', '9', '30', '', '']\n"
     ]
    }
   ],
   "source": [
    "# 3rd try \n",
    "date = \"民國108年11月19日下午9點30分\"\n",
    "list_of_number = []\n",
    "j = 0\n",
    "for i in range(len(date)):\n",
    "    if (date[i].isdigit()) is False and (list_of_number == []) is True:\n",
    "        print(\"狀況三\")\n",
    "        print(list_of_number)\n",
    "    elif (date[i].isdigit()) is False and (list_of_number == []) is False:\n",
    "        print(\"狀況四\")\n",
    "        j += 1\n",
    "        list_of_number.append('')\n",
    "        print(list_of_number)\n",
    "    elif (date[i].isdigit()) is True and (list_of_number == []) is False:\n",
    "        print(\"狀況二\")\n",
    "        list_of_number[j-1] = list_of_number[j-1] + date[i]\n",
    "        print(list_of_number)\n",
    "    elif (date[i].isdigit()) and (list_of_number == []) is True:\n",
    "        print(\"狀況一\")\n",
    "        list_of_number.append(date[i])\n",
    "        print(list_of_number)"
   ]
  },
  {
   "cell_type": "code",
   "execution_count": null,
   "metadata": {},
   "outputs": [],
   "source": [
    "# 2nd try\n",
    "# A string that contains the date and time.\n",
    "date = \"民國108年11月19日下午9點30分\"\n",
    "list_of_number = []\n",
    "\n",
    "for i in range(len(date)):\n",
    "    if date[i].isdigit() is False and list_of_number == [] is False:\n",
    "        end_digit = i - 1\n",
    "        break\n",
    "    elif date[i].isdigit() is False and list_of_number == [] is True:\n",
    "        i += 1\n",
    "    elif date[i].isdigit() is True and list_of_number == [] is True:\n",
    "        start_digit = i\n",
    "        list_of_number.append(date[start_digit])\n",
    "        i += 1\n",
    "    elif date[i].isdigit() is True and list_of_number == [] is False:\n",
    "        list_of_number[i] = list_of_number[i] + date[i]\n",
    "        i += 1"
   ]
  },
  {
   "cell_type": "code",
   "execution_count": null,
   "metadata": {},
   "outputs": [],
   "source": [
    "# 1st try\n",
    "for i in range(len(date)):\n",
    "    if type(date[i]) == int:\n",
    "        x_year = i\n",
    "        i += 1\n",
    "    else:\n",
    "        i += 1\n",
    "for j in range(x_year+1, len(date)):\n",
    "    if type(date) == int:\n",
    "        x_month = j"
   ]
  }
 ],
 "metadata": {
  "kernelspec": {
   "display_name": "Python 3",
   "language": "python",
   "name": "python3"
  },
  "language_info": {
   "codemirror_mode": {
    "name": "ipython",
    "version": 3
   },
   "file_extension": ".py",
   "mimetype": "text/x-python",
   "name": "python",
   "nbconvert_exporter": "python",
   "pygments_lexer": "ipython3",
   "version": "3.11.2"
  },
  "orig_nbformat": 4,
  "vscode": {
   "interpreter": {
    "hash": "aee8b7b246df8f9039afb4144a1f6fd8d2ca17a180786b69acc140d282b71a49"
   }
  }
 },
 "nbformat": 4,
 "nbformat_minor": 2
}
