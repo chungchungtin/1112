{
 "cells": [
  {
   "cell_type": "code",
   "execution_count": 1,
   "metadata": {},
   "outputs": [],
   "source": [
    "date = input(\"歡迎使用日期轉換器，請輸入日期\")"
   ]
  },
  {
   "cell_type": "code",
   "execution_count": 2,
   "metadata": {},
   "outputs": [],
   "source": [
    "date = \"民國108年11月19日下午9點30分\""
   ]
  },
  {
   "cell_type": "code",
   "execution_count": 3,
   "metadata": {},
   "outputs": [],
   "source": [
    "def number_retriever(date):\n",
    "    for i in range(len(date)):\n",
    "        if type(date[i]) == int:\n",
    "            print(date[i])\n",
    "            x_year = i\n",
    "            i += 1\n",
    "        else:\n",
    "            i += 1"
   ]
  },
  {
   "cell_type": "code",
   "execution_count": 4,
   "metadata": {},
   "outputs": [],
   "source": [
    "for i in date:\n",
    "    if i.isdigit():\n",
    "        x_year = i"
   ]
  },
  {
   "attachments": {},
   "cell_type": "markdown",
   "metadata": {},
   "source": [
    "先列出列表?"
   ]
  },
  {
   "attachments": {},
   "cell_type": "markdown",
   "metadata": {},
   "source": [
    "先找出數字"
   ]
  },
  {
   "cell_type": "code",
   "execution_count": 12,
   "metadata": {},
   "outputs": [],
   "source": [
    "#列出哪些是數字\n",
    "date = \"民國108年11月19日下午9點30分\"\n",
    "x_number = 0\n",
    "x_year = 0\n",
    "x_month = 0\n",
    "x_date = 0\n",
    "x_list = []\n",
    "for i in range(len(date)):\n",
    "    if date[i].isdigit() is True:\n",
    "        x_number = i\n",
    "        x_list.append(x_number)\n",
    "    else:\n",
    "        i += 1"
   ]
  },
  {
   "cell_type": "code",
   "execution_count": null,
   "metadata": {},
   "outputs": [],
   "source": [
    "date = \"民國108年11月19日下午9點30分\"\n"
   ]
  },
  {
   "cell_type": "code",
   "execution_count": 8,
   "metadata": {},
   "outputs": [],
   "source": [
    "for i in range(len(date)):\n",
    "    if type(date[i]) == int:\n",
    "        x_year = i\n",
    "        i += 1\n",
    "    else:\n",
    "        i += 1\n",
    "for j in range(x_year+1, len(date)):\n",
    "    if type(date) == int:\n",
    "        x_month = j"
   ]
  }
 ],
 "metadata": {
  "kernelspec": {
   "display_name": "Python 3",
   "language": "python",
   "name": "python3"
  },
  "language_info": {
   "codemirror_mode": {
    "name": "ipython",
    "version": 3
   },
   "file_extension": ".py",
   "mimetype": "text/x-python",
   "name": "python",
   "nbconvert_exporter": "python",
   "pygments_lexer": "ipython3",
   "version": "3.11.2"
  },
  "orig_nbformat": 4,
  "vscode": {
   "interpreter": {
    "hash": "aee8b7b246df8f9039afb4144a1f6fd8d2ca17a180786b69acc140d282b71a49"
   }
  }
 },
 "nbformat": 4,
 "nbformat_minor": 2
}
