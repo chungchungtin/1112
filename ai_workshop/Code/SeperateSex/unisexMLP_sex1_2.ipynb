{
  "cells": [
    {
      "cell_type": "markdown",
      "metadata": {
        "id": "esp1X9Dx3oaX"
      },
      "source": [
        "# ~ 環境準備"
      ]
    },
    {
      "cell_type": "code",
      "execution_count": 1,
      "metadata": {
        "colab": {
          "base_uri": "https://localhost:8080/"
        },
        "id": "6yS6hmST3YMu",
        "outputId": "562845be-d998-4ed5-e618-5354c2859d5f"
      },
      "outputs": [],
      "source": [
        "# 掛載雲端硬碟 Mount google drive in CoLab enviroment\n",
        "#from google.colab import drive\n",
        "#drive.mount('gdrive')"
      ]
    },
    {
      "cell_type": "code",
      "execution_count": 2,
      "metadata": {
        "id": "fldnr8ox3sZ_"
      },
      "outputs": [],
      "source": [
        "# 匯入需要的 python 模組\n",
        "import os\n",
        "import numpy as np\n",
        "import pandas as pd\n",
        "from sklearn.model_selection import train_test_split\n",
        "from sklearn.utils import class_weight\n",
        "import tensorflow as tf\n",
        "from tensorflow.keras.models import Model, load_model\n",
        "from tensorflow.keras import layers, callbacks\n",
        "from tensorflow.keras.utils import plot_model\n",
        "from tensorflow.keras import backend as K\n",
        "import matplotlib.pyplot as plt\n",
        "from sklearn.metrics import roc_curve, auc, confusion_matrix, classification_report, recall_score\n",
        "from itertools import cycle, product\n",
        "from scipy import interp"
      ]
    },
    {
      "cell_type": "code",
      "execution_count": 3,
      "metadata": {
        "id": "6hUnX1xI367W"
      },
      "outputs": [],
      "source": [
        "# 變更工作資料夾 --> 自己組別的資料夾 ex.\"/content/gdrive/Shareddrives/1112_AI智慧醫療三日工作坊/第01大組_\"\n",
        "my_working_root = \"/Users/zhongyongting/1112/ai_workshop\"\n",
        "os.chdir(my_working_root)"
      ]
    },
    {
      "cell_type": "markdown",
      "metadata": {
        "id": "jnH9sNAI43ST"
      },
      "source": [
        "# 1 資料處理\n",
        "|變項(中文)|變項(英文)|Coding|說明(中文)|說明(英文)|\n",
        "|---|---|---|---|---|\n",
        "|嗓音診斷分類(target)|Disease category|1/2/3/4/5|嗓音誤用/聲帶閉合不全/聲帶麻痺/聲帶腫瘤/聲帶正常|Phonotrauma/Incomplete glottic closure/Vocal palsy/Neoplasm/Normal|\n",
        "|性別|Sex|1/2|男性/女性|Male/Female\n",
        "|年齡|Age|numbers| |  \t\n",
        "|音域變窄|Narrow pitch range|0/1|無/有|No/Yes\n",
        "|說話音量變小|Decreased volume|0/1|無/有|No/Yes\n",
        "|說話久了容易累|Fatigue|0/1|無/有|No/Yes\n",
        "|喉嚨常覺得乾|Dryness|0/1|無/有|No/Yes\n",
        "|喉嚨有異物感|Lumping|0/1|無/有|No/Yes\n",
        "|胸口有灼熱感|Heartburn|0/1|無/有|No/Yes\n",
        "|吞東西容易嗆到|Choking|0/1|無/有|No/Yes\n",
        "|眼睛乾澀|Eye dryness|0/1|無/有|No/Yes\n",
        "|鼻涕倒流|PND|0/1|無/有|No/Yes\n",
        "|糖尿病|Diabetes|0/1|無/有|No/Yes\n",
        "|高血壓|Hypertension|0/1|無/有|No/Yes\n",
        "|心臟病|CAD|0/1|無/有|No/Yes\n",
        "|頭頸部腫瘤|Head and Neck Cancer|0/1|無/有|No/Yes\n",
        "|頭部損傷|Head injury|0/1|無/有|No/Yes\n",
        "|腦中風|CVA|0/1|無/有|No/Yes\n",
        "|抽菸|Smoking|0/1/2/3|從未/已戒菸/有抽菸/電子菸|Never/past/active/e-cigarette\n",
        "|PPD|PPD|numbers|一天幾包菸|pack (of cigarrette) per day\n",
        "|喝酒|Drinking|0/1/2|從未喝酒/已戒酒/有喝酒|Never/past/active \n",
        "|喝酒頻率|Frequency|0/1/2/3|偶爾喝/每周喝/幾乎每天|Not/occasionally/ weekly/daily \n",
        "|症狀如何發生的|Onset of dysphonia|1/2/3/4/5|突然/逐漸變差/時好時壞/從小開始/其他|Sudden/Gradually/On and off/Since childhood/Other \n",
        "|工作環境是否吵雜|Noise at work|1/2/3|否/有一點/很吵|Not/a little/noisy \n",
        "|聲音何時最差|Diurnal pattern|1/2/3/4|早上/下午、晚上 /都一樣/不一定|Worse in the morning/Worse in the afternoon/Similar all day/Fluctuating \n",
        "|用聲情形|Occupational vocal demand|1/2/3/4|總是需要/經常需要/偶而需要/不需要|Always/Frequent/Occasional/Minimal \n",
        "|VHI-10嗓音障礙指標|Voice handicap index - 10|0 to 40| |\t\t"
      ]
    },
    {
      "cell_type": "code",
      "execution_count": 4,
      "metadata": {
        "id": "fTCxNjdf4y3t"
      },
      "outputs": [],
      "source": [
        "# 讀取資料表\n",
        "df = pd.read_csv(\"/Users/zhongyongting/1112/ai_workshop/Data/Training Dataset/training datalist.csv\")\n",
        "df = df.loc[df['Sex'] == 1]"
      ]
    },
    {
      "cell_type": "code",
      "execution_count": 5,
      "metadata": {
        "colab": {
          "base_uri": "https://localhost:8080/"
        },
        "id": "B4fQSxuU5Jy0",
        "outputId": "0a6241b9-e4f5-473e-f7ba-ba92e5e73a3f"
      },
      "outputs": [
        {
          "name": "stdout",
          "output_type": "stream",
          "text": [
            "<class 'pandas.core.frame.DataFrame'>\n",
            "Int64Index: 378 entries, 1 to 999\n",
            "Data columns (total 28 columns):\n",
            " #   Column                     Non-Null Count  Dtype  \n",
            "---  ------                     --------------  -----  \n",
            " 0   ID                         378 non-null    object \n",
            " 1   Sex                        378 non-null    int64  \n",
            " 2   Age                        378 non-null    int64  \n",
            " 3   Disease category           378 non-null    int64  \n",
            " 4   Narrow pitch range         378 non-null    int64  \n",
            " 5   Decreased volume           378 non-null    int64  \n",
            " 6   Fatigue                    378 non-null    int64  \n",
            " 7   Dryness                    378 non-null    int64  \n",
            " 8   Lumping                    378 non-null    int64  \n",
            " 9   heartburn                  378 non-null    int64  \n",
            " 10  Choking                    378 non-null    int64  \n",
            " 11  Eye dryness                378 non-null    int64  \n",
            " 12  PND                        378 non-null    int64  \n",
            " 13  Smoking                    378 non-null    int64  \n",
            " 14  PPD                        90 non-null     float64\n",
            " 15  Drinking                   378 non-null    int64  \n",
            " 16  frequency                  378 non-null    int64  \n",
            " 17  Diurnal pattern            378 non-null    int64  \n",
            " 18  Onset of dysphonia         378 non-null    int64  \n",
            " 19  Noise at work              378 non-null    int64  \n",
            " 20  Occupational vocal demand  378 non-null    int64  \n",
            " 21  Diabetes                   378 non-null    int64  \n",
            " 22  Hypertension               378 non-null    int64  \n",
            " 23  CAD                        378 non-null    int64  \n",
            " 24  Head and Neck Cancer       378 non-null    int64  \n",
            " 25  Head injury                378 non-null    int64  \n",
            " 26  CVA                        378 non-null    int64  \n",
            " 27  Voice handicap index - 10  374 non-null    float64\n",
            "dtypes: float64(2), int64(25), object(1)\n",
            "memory usage: 85.6+ KB\n"
          ]
        }
      ],
      "source": [
        "#資料表資料\n",
        "df.info()"
      ]
    },
    {
      "cell_type": "markdown",
      "metadata": {
        "id": "4EqQexSPftzq"
      },
      "source": [
        "## 1.0 標籤分析"
      ]
    },
    {
      "cell_type": "code",
      "execution_count": 6,
      "metadata": {
        "colab": {
          "base_uri": "https://localhost:8080/",
          "height": 424
        },
        "id": "S-oHgMK1fgnB",
        "outputId": "9ed29cfd-b956-489a-a9ed-5105df37ca7b"
      },
      "outputs": [
        {
          "data": {
            "text/plain": [
              "<Axes: ylabel='Disease category'>"
            ]
          },
          "execution_count": 6,
          "metadata": {},
          "output_type": "execute_result"
        },
        {
          "data": {
            "image/png": "[encoded data removed]",
            "text/plain": [
              "<Figure size 640x480 with 1 Axes>"
            ]
          },
          "metadata": {},
          "output_type": "display_data"
        }
      ],
      "source": [
        "# 分類標籤\n",
        "CLASSES = [\"Phonotrauma\", \"Incomplete glottic closure\", \"Vocal palsy\", \"Neoplasm\", \"Normal\"]\n",
        "df['Disease category'].value_counts().plot.pie()"
      ]
    },
    {
      "cell_type": "markdown",
      "metadata": {
        "id": "N25tKVwcBILi"
      },
      "source": [
        "下面block可優化"
      ]
    },
    {
      "cell_type": "code",
      "execution_count": 7,
      "metadata": {
        "colab": {
          "base_uri": "https://localhost:8080/",
          "height": 540
        },
        "id": "zHDyHzbTpYb6",
        "outputId": "c3d98f16-2709-4317-d945-5973e06af0de"
      },
      "outputs": [
        {
          "data": {
            "text/html": [
              "<div>\n",
              "<style scoped>\n",
              "    .dataframe tbody tr th:only-of-type {\n",
              "        vertical-align: middle;\n",
              "    }\n",
              "\n",
              "    .dataframe tbody tr th {\n",
              "        vertical-align: top;\n",
              "    }\n",
              "\n",
              "    .dataframe thead th {\n",
              "        text-align: right;\n",
              "    }\n",
              "</style>\n",
              "<table border=\"1\" class=\"dataframe\">\n",
              "  <thead>\n",
              "    <tr style=\"text-align: right;\">\n",
              "      <th></th>\n",
              "      <th>ID</th>\n",
              "      <th>Sex</th>\n",
              "      <th>Age</th>\n",
              "      <th>Disease category</th>\n",
              "      <th>Narrow pitch range</th>\n",
              "      <th>Decreased volume</th>\n",
              "      <th>Fatigue</th>\n",
              "      <th>Dryness</th>\n",
              "      <th>Lumping</th>\n",
              "      <th>heartburn</th>\n",
              "      <th>...</th>\n",
              "      <th>Noise at work</th>\n",
              "      <th>Occupational vocal demand</th>\n",
              "      <th>Diabetes</th>\n",
              "      <th>Hypertension</th>\n",
              "      <th>CAD</th>\n",
              "      <th>Head and Neck Cancer</th>\n",
              "      <th>Head injury</th>\n",
              "      <th>CVA</th>\n",
              "      <th>Voice handicap index - 10</th>\n",
              "      <th>sample_weight</th>\n",
              "    </tr>\n",
              "  </thead>\n",
              "  <tbody>\n",
              "    <tr>\n",
              "      <th>1</th>\n",
              "      <td>0600ve0</td>\n",
              "      <td>1</td>\n",
              "      <td>69</td>\n",
              "      <td>2</td>\n",
              "      <td>1</td>\n",
              "      <td>1</td>\n",
              "      <td>1</td>\n",
              "      <td>1</td>\n",
              "      <td>0</td>\n",
              "      <td>0</td>\n",
              "      <td>...</td>\n",
              "      <td>1</td>\n",
              "      <td>3</td>\n",
              "      <td>0</td>\n",
              "      <td>0</td>\n",
              "      <td>0</td>\n",
              "      <td>0</td>\n",
              "      <td>0</td>\n",
              "      <td>1</td>\n",
              "      <td>19.0</td>\n",
              "      <td>0.657391</td>\n",
              "    </tr>\n",
              "    <tr>\n",
              "      <th>4</th>\n",
              "      <td>0402jvt</td>\n",
              "      <td>1</td>\n",
              "      <td>87</td>\n",
              "      <td>1</td>\n",
              "      <td>0</td>\n",
              "      <td>0</td>\n",
              "      <td>0</td>\n",
              "      <td>0</td>\n",
              "      <td>0</td>\n",
              "      <td>0</td>\n",
              "      <td>...</td>\n",
              "      <td>1</td>\n",
              "      <td>4</td>\n",
              "      <td>0</td>\n",
              "      <td>1</td>\n",
              "      <td>0</td>\n",
              "      <td>0</td>\n",
              "      <td>0</td>\n",
              "      <td>0</td>\n",
              "      <td>16.0</td>\n",
              "      <td>0.547826</td>\n",
              "    </tr>\n",
              "    <tr>\n",
              "      <th>9</th>\n",
              "      <td>11019sl</td>\n",
              "      <td>1</td>\n",
              "      <td>51</td>\n",
              "      <td>1</td>\n",
              "      <td>1</td>\n",
              "      <td>1</td>\n",
              "      <td>0</td>\n",
              "      <td>1</td>\n",
              "      <td>1</td>\n",
              "      <td>0</td>\n",
              "      <td>...</td>\n",
              "      <td>3</td>\n",
              "      <td>2</td>\n",
              "      <td>0</td>\n",
              "      <td>1</td>\n",
              "      <td>0</td>\n",
              "      <td>0</td>\n",
              "      <td>0</td>\n",
              "      <td>0</td>\n",
              "      <td>14.0</td>\n",
              "      <td>0.547826</td>\n",
              "    </tr>\n",
              "    <tr>\n",
              "      <th>14</th>\n",
              "      <td>0402svh</td>\n",
              "      <td>1</td>\n",
              "      <td>91</td>\n",
              "      <td>4</td>\n",
              "      <td>0</td>\n",
              "      <td>0</td>\n",
              "      <td>0</td>\n",
              "      <td>0</td>\n",
              "      <td>0</td>\n",
              "      <td>0</td>\n",
              "      <td>...</td>\n",
              "      <td>1</td>\n",
              "      <td>4</td>\n",
              "      <td>0</td>\n",
              "      <td>0</td>\n",
              "      <td>0</td>\n",
              "      <td>0</td>\n",
              "      <td>0</td>\n",
              "      <td>0</td>\n",
              "      <td>7.0</td>\n",
              "      <td>2.290909</td>\n",
              "    </tr>\n",
              "    <tr>\n",
              "      <th>15</th>\n",
              "      <td>0T0018b</td>\n",
              "      <td>1</td>\n",
              "      <td>74</td>\n",
              "      <td>3</td>\n",
              "      <td>0</td>\n",
              "      <td>1</td>\n",
              "      <td>0</td>\n",
              "      <td>1</td>\n",
              "      <td>0</td>\n",
              "      <td>0</td>\n",
              "      <td>...</td>\n",
              "      <td>1</td>\n",
              "      <td>3</td>\n",
              "      <td>0</td>\n",
              "      <td>1</td>\n",
              "      <td>0</td>\n",
              "      <td>0</td>\n",
              "      <td>0</td>\n",
              "      <td>0</td>\n",
              "      <td>15.0</td>\n",
              "      <td>0.956962</td>\n",
              "    </tr>\n",
              "    <tr>\n",
              "      <th>...</th>\n",
              "      <td>...</td>\n",
              "      <td>...</td>\n",
              "      <td>...</td>\n",
              "      <td>...</td>\n",
              "      <td>...</td>\n",
              "      <td>...</td>\n",
              "      <td>...</td>\n",
              "      <td>...</td>\n",
              "      <td>...</td>\n",
              "      <td>...</td>\n",
              "      <td>...</td>\n",
              "      <td>...</td>\n",
              "      <td>...</td>\n",
              "      <td>...</td>\n",
              "      <td>...</td>\n",
              "      <td>...</td>\n",
              "      <td>...</td>\n",
              "      <td>...</td>\n",
              "      <td>...</td>\n",
              "      <td>...</td>\n",
              "      <td>...</td>\n",
              "    </tr>\n",
              "    <tr>\n",
              "      <th>993</th>\n",
              "      <td>1201pl2</td>\n",
              "      <td>1</td>\n",
              "      <td>35</td>\n",
              "      <td>1</td>\n",
              "      <td>1</td>\n",
              "      <td>0</td>\n",
              "      <td>1</td>\n",
              "      <td>1</td>\n",
              "      <td>1</td>\n",
              "      <td>1</td>\n",
              "      <td>...</td>\n",
              "      <td>2</td>\n",
              "      <td>1</td>\n",
              "      <td>0</td>\n",
              "      <td>0</td>\n",
              "      <td>0</td>\n",
              "      <td>0</td>\n",
              "      <td>0</td>\n",
              "      <td>0</td>\n",
              "      <td>28.0</td>\n",
              "      <td>0.547826</td>\n",
              "    </tr>\n",
              "    <tr>\n",
              "      <th>994</th>\n",
              "      <td>0T022un</td>\n",
              "      <td>1</td>\n",
              "      <td>52</td>\n",
              "      <td>3</td>\n",
              "      <td>1</td>\n",
              "      <td>1</td>\n",
              "      <td>0</td>\n",
              "      <td>0</td>\n",
              "      <td>0</td>\n",
              "      <td>0</td>\n",
              "      <td>...</td>\n",
              "      <td>1</td>\n",
              "      <td>3</td>\n",
              "      <td>0</td>\n",
              "      <td>0</td>\n",
              "      <td>0</td>\n",
              "      <td>0</td>\n",
              "      <td>0</td>\n",
              "      <td>0</td>\n",
              "      <td>37.0</td>\n",
              "      <td>0.956962</td>\n",
              "    </tr>\n",
              "    <tr>\n",
              "      <th>995</th>\n",
              "      <td>0G00ftn</td>\n",
              "      <td>1</td>\n",
              "      <td>75</td>\n",
              "      <td>3</td>\n",
              "      <td>0</td>\n",
              "      <td>0</td>\n",
              "      <td>0</td>\n",
              "      <td>0</td>\n",
              "      <td>0</td>\n",
              "      <td>0</td>\n",
              "      <td>...</td>\n",
              "      <td>1</td>\n",
              "      <td>4</td>\n",
              "      <td>1</td>\n",
              "      <td>1</td>\n",
              "      <td>1</td>\n",
              "      <td>0</td>\n",
              "      <td>0</td>\n",
              "      <td>0</td>\n",
              "      <td>21.0</td>\n",
              "      <td>0.956962</td>\n",
              "    </tr>\n",
              "    <tr>\n",
              "      <th>996</th>\n",
              "      <td>1201pkr</td>\n",
              "      <td>1</td>\n",
              "      <td>40</td>\n",
              "      <td>4</td>\n",
              "      <td>0</td>\n",
              "      <td>0</td>\n",
              "      <td>1</td>\n",
              "      <td>0</td>\n",
              "      <td>0</td>\n",
              "      <td>0</td>\n",
              "      <td>...</td>\n",
              "      <td>1</td>\n",
              "      <td>2</td>\n",
              "      <td>0</td>\n",
              "      <td>0</td>\n",
              "      <td>0</td>\n",
              "      <td>0</td>\n",
              "      <td>0</td>\n",
              "      <td>0</td>\n",
              "      <td>21.0</td>\n",
              "      <td>2.290909</td>\n",
              "    </tr>\n",
              "    <tr>\n",
              "      <th>999</th>\n",
              "      <td>04027it</td>\n",
              "      <td>1</td>\n",
              "      <td>72</td>\n",
              "      <td>2</td>\n",
              "      <td>1</td>\n",
              "      <td>1</td>\n",
              "      <td>1</td>\n",
              "      <td>1</td>\n",
              "      <td>0</td>\n",
              "      <td>0</td>\n",
              "      <td>...</td>\n",
              "      <td>1</td>\n",
              "      <td>3</td>\n",
              "      <td>0</td>\n",
              "      <td>0</td>\n",
              "      <td>0</td>\n",
              "      <td>0</td>\n",
              "      <td>0</td>\n",
              "      <td>0</td>\n",
              "      <td>17.0</td>\n",
              "      <td>0.657391</td>\n",
              "    </tr>\n",
              "  </tbody>\n",
              "</table>\n",
              "<p>378 rows × 29 columns</p>\n",
              "</div>"
            ],
            "text/plain": [
              "          ID  Sex  Age  Disease category  Narrow pitch range  \\\n",
              "1    0600ve0    1   69                 2                   1   \n",
              "4    0402jvt    1   87                 1                   0   \n",
              "9    11019sl    1   51                 1                   1   \n",
              "14   0402svh    1   91                 4                   0   \n",
              "15   0T0018b    1   74                 3                   0   \n",
              "..       ...  ...  ...               ...                 ...   \n",
              "993  1201pl2    1   35                 1                   1   \n",
              "994  0T022un    1   52                 3                   1   \n",
              "995  0G00ftn    1   75                 3                   0   \n",
              "996  1201pkr    1   40                 4                   0   \n",
              "999  04027it    1   72                 2                   1   \n",
              "\n",
              "     Decreased volume  Fatigue  Dryness  Lumping  heartburn  ...  \\\n",
              "1                   1        1        1        0          0  ...   \n",
              "4                   0        0        0        0          0  ...   \n",
              "9                   1        0        1        1          0  ...   \n",
              "14                  0        0        0        0          0  ...   \n",
              "15                  1        0        1        0          0  ...   \n",
              "..                ...      ...      ...      ...        ...  ...   \n",
              "993                 0        1        1        1          1  ...   \n",
              "994                 1        0        0        0          0  ...   \n",
              "995                 0        0        0        0          0  ...   \n",
              "996                 0        1        0        0          0  ...   \n",
              "999                 1        1        1        0          0  ...   \n",
              "\n",
              "     Noise at work  Occupational vocal demand  Diabetes  Hypertension  CAD  \\\n",
              "1                1                          3         0             0    0   \n",
              "4                1                          4         0             1    0   \n",
              "9                3                          2         0             1    0   \n",
              "14               1                          4         0             0    0   \n",
              "15               1                          3         0             1    0   \n",
              "..             ...                        ...       ...           ...  ...   \n",
              "993              2                          1         0             0    0   \n",
              "994              1                          3         0             0    0   \n",
              "995              1                          4         1             1    1   \n",
              "996              1                          2         0             0    0   \n",
              "999              1                          3         0             0    0   \n",
              "\n",
              "     Head and Neck Cancer  Head injury  CVA  Voice handicap index - 10  \\\n",
              "1                       0            0    1                       19.0   \n",
              "4                       0            0    0                       16.0   \n",
              "9                       0            0    0                       14.0   \n",
              "14                      0            0    0                        7.0   \n",
              "15                      0            0    0                       15.0   \n",
              "..                    ...          ...  ...                        ...   \n",
              "993                     0            0    0                       28.0   \n",
              "994                     0            0    0                       37.0   \n",
              "995                     0            0    0                       21.0   \n",
              "996                     0            0    0                       21.0   \n",
              "999                     0            0    0                       17.0   \n",
              "\n",
              "     sample_weight  \n",
              "1         0.657391  \n",
              "4         0.547826  \n",
              "9         0.547826  \n",
              "14        2.290909  \n",
              "15        0.956962  \n",
              "..             ...  \n",
              "993       0.547826  \n",
              "994       0.956962  \n",
              "995       0.956962  \n",
              "996       2.290909  \n",
              "999       0.657391  \n",
              "\n",
              "[378 rows x 29 columns]"
            ]
          },
          "execution_count": 7,
          "metadata": {},
          "output_type": "execute_result"
        }
      ],
      "source": [
        "# 樣本權重 sample weight  (for imbalance data)\n",
        "df['sample_weight'] = class_weight.compute_sample_weight('balanced', y=df['Disease category'])\n",
        "df"
      ]
    },
    {
      "cell_type": "code",
      "execution_count": 8,
      "metadata": {
        "colab": {
          "base_uri": "https://localhost:8080/"
        },
        "id": "JyYzCYeUidVI",
        "outputId": "2f1e8da1-d274-466b-cd27-599ad97283fc"
      },
      "outputs": [
        {
          "name": "stdout",
          "output_type": "stream",
          "text": [
            "CLASSES: ['Phonotrauma', 'Incomplete glottic closure', 'Vocal palsy', 'Neoplasm', 'Normal']\n",
            "class_weight_dict = {0: 0.5478260869565217, 1: 0.6573913043478261, 2: 0.9569620253164557, 3: 2.290909090909091, 4: 5.815384615384615}\n"
          ]
        }
      ],
      "source": [
        "# class weight (for imbalance data)\n",
        "cw = class_weight.compute_class_weight('balanced', classes=np.array([1,2,3,4,5]), y=df['Disease category'])\n",
        "class_weight_dict = dict(enumerate(cw))\n",
        "print(\"CLASSES:\", CLASSES)\n",
        "print(\"class_weight_dict =\", class_weight_dict)"
      ]
    },
    {
      "cell_type": "markdown",
      "metadata": {
        "id": "pvJ2YL2Z-Dcc"
      },
      "source": [
        "## 1.1 清理缺失值 (NA)"
      ]
    },
    {
      "cell_type": "code",
      "execution_count": 9,
      "metadata": {
        "colab": {
          "base_uri": "https://localhost:8080/"
        },
        "id": "7c9V9mol-IcR",
        "outputId": "f1165c92-7698-498a-db9d-58afc5c8b62b"
      },
      "outputs": [
        {
          "name": "stdout",
          "output_type": "stream",
          "text": [
            "'PPD' na number = 0\n"
          ]
        }
      ],
      "source": [
        "# PPD (一天幾包菸)\n",
        "df['PPD'] = df['PPD'].fillna(0)  # 缺值補0\n",
        "print(\"'PPD' na number =\", df['PPD'].isna().sum())"
      ]
    },
    {
      "cell_type": "code",
      "execution_count": 10,
      "metadata": {
        "colab": {
          "base_uri": "https://localhost:8080/",
          "height": 66
        },
        "id": "yIB_stGLAWtd",
        "outputId": "479e6c94-aead-45c6-c812-85cc5e583471"
      },
      "outputs": [
        {
          "data": {
            "text/plain": [
              "<Axes: >"
            ]
          },
          "execution_count": 10,
          "metadata": {},
          "output_type": "execute_result"
        },
        {
          "data": {
            "image/png": "[encoded data removed]",
            "text/plain": [
              "<Figure size 20000x500 with 1 Axes>"
            ]
          },
          "metadata": {},
          "output_type": "display_data"
        }
      ],
      "source": [
        "df['Voice handicap index - 10'].plot(kind = 'bar', figsize = (200, 5))"
      ]
    },
    {
      "cell_type": "markdown",
      "metadata": {
        "id": "pQDz5hBv9yY-"
      },
      "source": [
        "下面Block可優化"
      ]
    },
    {
      "cell_type": "code",
      "execution_count": 11,
      "metadata": {
        "colab": {
          "base_uri": "https://localhost:8080/"
        },
        "id": "sg46NqmI5qVA",
        "outputId": "5fe60b3e-b9e3-4fbd-8ee7-c63c47cad1bf"
      },
      "outputs": [
        {
          "name": "stdout",
          "output_type": "stream",
          "text": [
            "count    374.000000\n",
            "mean      22.729947\n",
            "std        9.901624\n",
            "min        0.000000\n",
            "25%       16.000000\n",
            "50%       23.000000\n",
            "75%       30.000000\n",
            "max       40.000000\n",
            "Name: Voice handicap index - 10, dtype: float64\n",
            "'Voice handicap index - 10' na number = 0\n"
          ]
        }
      ],
      "source": [
        "# Voice handicap index - 10  (VHI-10嗓音障礙指標) 0-40\n",
        "print(df['Voice handicap index - 10'].describe())\n",
        "df.loc[df['Voice handicap index - 10'].isna(), 'Voice handicap index - 10'] = 23  # 缺值補23(中位數)\n",
        "print(\"'Voice handicap index - 10' na number =\", df['Voice handicap index - 10'].isna().sum())"
      ]
    },
    {
      "cell_type": "code",
      "execution_count": 12,
      "metadata": {
        "colab": {
          "base_uri": "https://localhost:8080/",
          "height": 66
        },
        "id": "cllDjTWS-tf6",
        "outputId": "ee74409a-70a7-4588-af5c-c714b6b8f640"
      },
      "outputs": [
        {
          "data": {
            "text/plain": [
              "<Axes: >"
            ]
          },
          "execution_count": 12,
          "metadata": {},
          "output_type": "execute_result"
        },
        {
          "data": {
            "image/png": "[encoded data removed]",
            "text/plain": [
              "<Figure size 20000x500 with 1 Axes>"
            ]
          },
          "metadata": {},
          "output_type": "display_data"
        }
      ],
      "source": [
        "df['Voice handicap index - 10'].plot(kind = 'bar', figsize = (200, 5))"
      ]
    },
    {
      "cell_type": "markdown",
      "metadata": {
        "id": "9s5av4e1Clfu"
      },
      "source": [
        "## 1.2 處理 類別變項 (Categorical Feature) --> one-hot encoding\n",
        "其他方法：https://axk51013.medium.com/%E4%B8%8D%E8%A6%81%E5%86%8D%E5%81%9Aone-hot-encoding-b5126d3f8a63  "
      ]
    },
    {
      "cell_type": "code",
      "execution_count": 13,
      "metadata": {
        "colab": {
          "base_uri": "https://localhost:8080/"
        },
        "id": "QJXa6AkOK90i",
        "outputId": "1592eff0-8ab5-4c3f-9b22-566534a18e18"
      },
      "outputs": [
        {
          "name": "stdout",
          "output_type": "stream",
          "text": [
            "所有的欄位： Index(['ID', 'Sex', 'Age', 'Disease category', 'Narrow pitch range',\n",
            "       'Decreased volume', 'Fatigue', 'Dryness', 'Lumping', 'heartburn',\n",
            "       'Choking', 'Eye dryness', 'PND', 'Smoking', 'PPD', 'Drinking',\n",
            "       'frequency', 'Diurnal pattern', 'Onset of dysphonia ', 'Noise at work',\n",
            "       'Occupational vocal demand', 'Diabetes', 'Hypertension', 'CAD',\n",
            "       'Head and Neck Cancer', 'Head injury', 'CVA',\n",
            "       'Voice handicap index - 10', 'sample_weight'],\n",
            "      dtype='object')\n"
          ]
        }
      ],
      "source": [
        "print(\"所有的欄位：\", df.columns)"
      ]
    },
    {
      "cell_type": "code",
      "execution_count": 14,
      "metadata": {
        "colab": {
          "base_uri": "https://localhost:8080/",
          "height": 522
        },
        "id": "CdyDYPkwCdw3",
        "outputId": "c5e3da8b-8796-4090-e52a-9ede8e2f1a31"
      },
      "outputs": [
        {
          "data": {
            "text/html": [
              "<div>\n",
              "<style scoped>\n",
              "    .dataframe tbody tr th:only-of-type {\n",
              "        vertical-align: middle;\n",
              "    }\n",
              "\n",
              "    .dataframe tbody tr th {\n",
              "        vertical-align: top;\n",
              "    }\n",
              "\n",
              "    .dataframe thead th {\n",
              "        text-align: right;\n",
              "    }\n",
              "</style>\n",
              "<table border=\"1\" class=\"dataframe\">\n",
              "  <thead>\n",
              "    <tr style=\"text-align: right;\">\n",
              "      <th></th>\n",
              "      <th>ID</th>\n",
              "      <th>Age</th>\n",
              "      <th>Disease category</th>\n",
              "      <th>Narrow pitch range</th>\n",
              "      <th>Decreased volume</th>\n",
              "      <th>Fatigue</th>\n",
              "      <th>Dryness</th>\n",
              "      <th>Lumping</th>\n",
              "      <th>heartburn</th>\n",
              "      <th>Choking</th>\n",
              "      <th>...</th>\n",
              "      <th>Diurnal pattern_4</th>\n",
              "      <th>Onset of dysphonia _1</th>\n",
              "      <th>Onset of dysphonia _2</th>\n",
              "      <th>Onset of dysphonia _3</th>\n",
              "      <th>Onset of dysphonia _4</th>\n",
              "      <th>Onset of dysphonia _5</th>\n",
              "      <th>Occupational vocal demand_1</th>\n",
              "      <th>Occupational vocal demand_2</th>\n",
              "      <th>Occupational vocal demand_3</th>\n",
              "      <th>Occupational vocal demand_4</th>\n",
              "    </tr>\n",
              "  </thead>\n",
              "  <tbody>\n",
              "    <tr>\n",
              "      <th>1</th>\n",
              "      <td>0600ve0</td>\n",
              "      <td>69</td>\n",
              "      <td>2</td>\n",
              "      <td>1</td>\n",
              "      <td>1</td>\n",
              "      <td>1</td>\n",
              "      <td>1</td>\n",
              "      <td>0</td>\n",
              "      <td>0</td>\n",
              "      <td>1</td>\n",
              "      <td>...</td>\n",
              "      <td>0</td>\n",
              "      <td>0</td>\n",
              "      <td>1</td>\n",
              "      <td>0</td>\n",
              "      <td>0</td>\n",
              "      <td>0</td>\n",
              "      <td>0</td>\n",
              "      <td>0</td>\n",
              "      <td>1</td>\n",
              "      <td>0</td>\n",
              "    </tr>\n",
              "    <tr>\n",
              "      <th>4</th>\n",
              "      <td>0402jvt</td>\n",
              "      <td>87</td>\n",
              "      <td>1</td>\n",
              "      <td>0</td>\n",
              "      <td>0</td>\n",
              "      <td>0</td>\n",
              "      <td>0</td>\n",
              "      <td>0</td>\n",
              "      <td>0</td>\n",
              "      <td>0</td>\n",
              "      <td>...</td>\n",
              "      <td>1</td>\n",
              "      <td>1</td>\n",
              "      <td>0</td>\n",
              "      <td>0</td>\n",
              "      <td>0</td>\n",
              "      <td>0</td>\n",
              "      <td>0</td>\n",
              "      <td>0</td>\n",
              "      <td>0</td>\n",
              "      <td>1</td>\n",
              "    </tr>\n",
              "    <tr>\n",
              "      <th>9</th>\n",
              "      <td>11019sl</td>\n",
              "      <td>51</td>\n",
              "      <td>1</td>\n",
              "      <td>1</td>\n",
              "      <td>1</td>\n",
              "      <td>0</td>\n",
              "      <td>1</td>\n",
              "      <td>1</td>\n",
              "      <td>0</td>\n",
              "      <td>0</td>\n",
              "      <td>...</td>\n",
              "      <td>1</td>\n",
              "      <td>0</td>\n",
              "      <td>1</td>\n",
              "      <td>0</td>\n",
              "      <td>0</td>\n",
              "      <td>0</td>\n",
              "      <td>0</td>\n",
              "      <td>1</td>\n",
              "      <td>0</td>\n",
              "      <td>0</td>\n",
              "    </tr>\n",
              "    <tr>\n",
              "      <th>14</th>\n",
              "      <td>0402svh</td>\n",
              "      <td>91</td>\n",
              "      <td>4</td>\n",
              "      <td>0</td>\n",
              "      <td>0</td>\n",
              "      <td>0</td>\n",
              "      <td>0</td>\n",
              "      <td>0</td>\n",
              "      <td>0</td>\n",
              "      <td>0</td>\n",
              "      <td>...</td>\n",
              "      <td>0</td>\n",
              "      <td>0</td>\n",
              "      <td>1</td>\n",
              "      <td>0</td>\n",
              "      <td>0</td>\n",
              "      <td>0</td>\n",
              "      <td>0</td>\n",
              "      <td>0</td>\n",
              "      <td>0</td>\n",
              "      <td>1</td>\n",
              "    </tr>\n",
              "    <tr>\n",
              "      <th>15</th>\n",
              "      <td>0T0018b</td>\n",
              "      <td>74</td>\n",
              "      <td>3</td>\n",
              "      <td>0</td>\n",
              "      <td>1</td>\n",
              "      <td>0</td>\n",
              "      <td>1</td>\n",
              "      <td>0</td>\n",
              "      <td>0</td>\n",
              "      <td>0</td>\n",
              "      <td>...</td>\n",
              "      <td>0</td>\n",
              "      <td>1</td>\n",
              "      <td>0</td>\n",
              "      <td>0</td>\n",
              "      <td>0</td>\n",
              "      <td>0</td>\n",
              "      <td>0</td>\n",
              "      <td>0</td>\n",
              "      <td>1</td>\n",
              "      <td>0</td>\n",
              "    </tr>\n",
              "    <tr>\n",
              "      <th>...</th>\n",
              "      <td>...</td>\n",
              "      <td>...</td>\n",
              "      <td>...</td>\n",
              "      <td>...</td>\n",
              "      <td>...</td>\n",
              "      <td>...</td>\n",
              "      <td>...</td>\n",
              "      <td>...</td>\n",
              "      <td>...</td>\n",
              "      <td>...</td>\n",
              "      <td>...</td>\n",
              "      <td>...</td>\n",
              "      <td>...</td>\n",
              "      <td>...</td>\n",
              "      <td>...</td>\n",
              "      <td>...</td>\n",
              "      <td>...</td>\n",
              "      <td>...</td>\n",
              "      <td>...</td>\n",
              "      <td>...</td>\n",
              "      <td>...</td>\n",
              "    </tr>\n",
              "    <tr>\n",
              "      <th>993</th>\n",
              "      <td>1201pl2</td>\n",
              "      <td>35</td>\n",
              "      <td>1</td>\n",
              "      <td>1</td>\n",
              "      <td>0</td>\n",
              "      <td>1</td>\n",
              "      <td>1</td>\n",
              "      <td>1</td>\n",
              "      <td>1</td>\n",
              "      <td>0</td>\n",
              "      <td>...</td>\n",
              "      <td>1</td>\n",
              "      <td>0</td>\n",
              "      <td>1</td>\n",
              "      <td>0</td>\n",
              "      <td>0</td>\n",
              "      <td>0</td>\n",
              "      <td>1</td>\n",
              "      <td>0</td>\n",
              "      <td>0</td>\n",
              "      <td>0</td>\n",
              "    </tr>\n",
              "    <tr>\n",
              "      <th>994</th>\n",
              "      <td>0T022un</td>\n",
              "      <td>52</td>\n",
              "      <td>3</td>\n",
              "      <td>1</td>\n",
              "      <td>1</td>\n",
              "      <td>0</td>\n",
              "      <td>0</td>\n",
              "      <td>0</td>\n",
              "      <td>0</td>\n",
              "      <td>1</td>\n",
              "      <td>...</td>\n",
              "      <td>1</td>\n",
              "      <td>0</td>\n",
              "      <td>1</td>\n",
              "      <td>0</td>\n",
              "      <td>0</td>\n",
              "      <td>0</td>\n",
              "      <td>0</td>\n",
              "      <td>0</td>\n",
              "      <td>1</td>\n",
              "      <td>0</td>\n",
              "    </tr>\n",
              "    <tr>\n",
              "      <th>995</th>\n",
              "      <td>0G00ftn</td>\n",
              "      <td>75</td>\n",
              "      <td>3</td>\n",
              "      <td>0</td>\n",
              "      <td>0</td>\n",
              "      <td>0</td>\n",
              "      <td>0</td>\n",
              "      <td>0</td>\n",
              "      <td>0</td>\n",
              "      <td>1</td>\n",
              "      <td>...</td>\n",
              "      <td>0</td>\n",
              "      <td>1</td>\n",
              "      <td>0</td>\n",
              "      <td>0</td>\n",
              "      <td>0</td>\n",
              "      <td>0</td>\n",
              "      <td>0</td>\n",
              "      <td>0</td>\n",
              "      <td>0</td>\n",
              "      <td>1</td>\n",
              "    </tr>\n",
              "    <tr>\n",
              "      <th>996</th>\n",
              "      <td>1201pkr</td>\n",
              "      <td>40</td>\n",
              "      <td>4</td>\n",
              "      <td>0</td>\n",
              "      <td>0</td>\n",
              "      <td>1</td>\n",
              "      <td>0</td>\n",
              "      <td>0</td>\n",
              "      <td>0</td>\n",
              "      <td>1</td>\n",
              "      <td>...</td>\n",
              "      <td>0</td>\n",
              "      <td>0</td>\n",
              "      <td>1</td>\n",
              "      <td>0</td>\n",
              "      <td>0</td>\n",
              "      <td>0</td>\n",
              "      <td>0</td>\n",
              "      <td>1</td>\n",
              "      <td>0</td>\n",
              "      <td>0</td>\n",
              "    </tr>\n",
              "    <tr>\n",
              "      <th>999</th>\n",
              "      <td>04027it</td>\n",
              "      <td>72</td>\n",
              "      <td>2</td>\n",
              "      <td>1</td>\n",
              "      <td>1</td>\n",
              "      <td>1</td>\n",
              "      <td>1</td>\n",
              "      <td>0</td>\n",
              "      <td>0</td>\n",
              "      <td>1</td>\n",
              "      <td>...</td>\n",
              "      <td>0</td>\n",
              "      <td>0</td>\n",
              "      <td>1</td>\n",
              "      <td>0</td>\n",
              "      <td>0</td>\n",
              "      <td>0</td>\n",
              "      <td>0</td>\n",
              "      <td>0</td>\n",
              "      <td>1</td>\n",
              "      <td>0</td>\n",
              "    </tr>\n",
              "  </tbody>\n",
              "</table>\n",
              "<p>378 rows × 42 columns</p>\n",
              "</div>"
            ],
            "text/plain": [
              "          ID  Age  Disease category  Narrow pitch range  Decreased volume  \\\n",
              "1    0600ve0   69                 2                   1                 1   \n",
              "4    0402jvt   87                 1                   0                 0   \n",
              "9    11019sl   51                 1                   1                 1   \n",
              "14   0402svh   91                 4                   0                 0   \n",
              "15   0T0018b   74                 3                   0                 1   \n",
              "..       ...  ...               ...                 ...               ...   \n",
              "993  1201pl2   35                 1                   1                 0   \n",
              "994  0T022un   52                 3                   1                 1   \n",
              "995  0G00ftn   75                 3                   0                 0   \n",
              "996  1201pkr   40                 4                   0                 0   \n",
              "999  04027it   72                 2                   1                 1   \n",
              "\n",
              "     Fatigue  Dryness  Lumping  heartburn  Choking  ...  Diurnal pattern_4  \\\n",
              "1          1        1        0          0        1  ...                  0   \n",
              "4          0        0        0          0        0  ...                  1   \n",
              "9          0        1        1          0        0  ...                  1   \n",
              "14         0        0        0          0        0  ...                  0   \n",
              "15         0        1        0          0        0  ...                  0   \n",
              "..       ...      ...      ...        ...      ...  ...                ...   \n",
              "993        1        1        1          1        0  ...                  1   \n",
              "994        0        0        0          0        1  ...                  1   \n",
              "995        0        0        0          0        1  ...                  0   \n",
              "996        1        0        0          0        1  ...                  0   \n",
              "999        1        1        0          0        1  ...                  0   \n",
              "\n",
              "     Onset of dysphonia _1  Onset of dysphonia _2  Onset of dysphonia _3  \\\n",
              "1                        0                      1                      0   \n",
              "4                        1                      0                      0   \n",
              "9                        0                      1                      0   \n",
              "14                       0                      1                      0   \n",
              "15                       1                      0                      0   \n",
              "..                     ...                    ...                    ...   \n",
              "993                      0                      1                      0   \n",
              "994                      0                      1                      0   \n",
              "995                      1                      0                      0   \n",
              "996                      0                      1                      0   \n",
              "999                      0                      1                      0   \n",
              "\n",
              "     Onset of dysphonia _4  Onset of dysphonia _5  \\\n",
              "1                        0                      0   \n",
              "4                        0                      0   \n",
              "9                        0                      0   \n",
              "14                       0                      0   \n",
              "15                       0                      0   \n",
              "..                     ...                    ...   \n",
              "993                      0                      0   \n",
              "994                      0                      0   \n",
              "995                      0                      0   \n",
              "996                      0                      0   \n",
              "999                      0                      0   \n",
              "\n",
              "     Occupational vocal demand_1  Occupational vocal demand_2  \\\n",
              "1                              0                            0   \n",
              "4                              0                            0   \n",
              "9                              0                            1   \n",
              "14                             0                            0   \n",
              "15                             0                            0   \n",
              "..                           ...                          ...   \n",
              "993                            1                            0   \n",
              "994                            0                            0   \n",
              "995                            0                            0   \n",
              "996                            0                            1   \n",
              "999                            0                            0   \n",
              "\n",
              "     Occupational vocal demand_3  Occupational vocal demand_4  \n",
              "1                              1                            0  \n",
              "4                              0                            1  \n",
              "9                              0                            0  \n",
              "14                             0                            1  \n",
              "15                             1                            0  \n",
              "..                           ...                          ...  \n",
              "993                            0                            0  \n",
              "994                            1                            0  \n",
              "995                            0                            1  \n",
              "996                            0                            0  \n",
              "999                            1                            0  \n",
              "\n",
              "[378 rows x 42 columns]"
            ]
          },
          "execution_count": 14,
          "metadata": {},
          "output_type": "execute_result"
        }
      ],
      "source": [
        "# 類別欄位 處理成one-hot (是非題的變因不處理)\n",
        "categorical_columns = ['Sex', 'Smoking', 'Diurnal pattern', 'Onset of dysphonia ', 'Occupational vocal demand']\n",
        "df_trans = pd.get_dummies(df, columns=categorical_columns)\n",
        "df_trans"
      ]
    },
    {
      "cell_type": "code",
      "execution_count": 15,
      "metadata": {
        "colab": {
          "base_uri": "https://localhost:8080/"
        },
        "id": "i-aZiz-2M-fL",
        "outputId": "410f2bf1-ecc8-4409-9408-b5c179f5f5e7"
      },
      "outputs": [
        {
          "name": "stdout",
          "output_type": "stream",
          "text": [
            "<class 'pandas.core.frame.DataFrame'>\n",
            "Int64Index: 378 entries, 1 to 999\n",
            "Data columns (total 42 columns):\n",
            " #   Column                       Non-Null Count  Dtype  \n",
            "---  ------                       --------------  -----  \n",
            " 0   ID                           378 non-null    object \n",
            " 1   Age                          378 non-null    int64  \n",
            " 2   Disease category             378 non-null    int64  \n",
            " 3   Narrow pitch range           378 non-null    int64  \n",
            " 4   Decreased volume             378 non-null    int64  \n",
            " 5   Fatigue                      378 non-null    int64  \n",
            " 6   Dryness                      378 non-null    int64  \n",
            " 7   Lumping                      378 non-null    int64  \n",
            " 8   heartburn                    378 non-null    int64  \n",
            " 9   Choking                      378 non-null    int64  \n",
            " 10  Eye dryness                  378 non-null    int64  \n",
            " 11  PND                          378 non-null    int64  \n",
            " 12  PPD                          378 non-null    float64\n",
            " 13  Drinking                     378 non-null    int64  \n",
            " 14  frequency                    378 non-null    int64  \n",
            " 15  Noise at work                378 non-null    int64  \n",
            " 16  Diabetes                     378 non-null    int64  \n",
            " 17  Hypertension                 378 non-null    int64  \n",
            " 18  CAD                          378 non-null    int64  \n",
            " 19  Head and Neck Cancer         378 non-null    int64  \n",
            " 20  Head injury                  378 non-null    int64  \n",
            " 21  CVA                          378 non-null    int64  \n",
            " 22  Voice handicap index - 10    378 non-null    float64\n",
            " 23  sample_weight                378 non-null    float64\n",
            " 24  Sex_1                        378 non-null    uint8  \n",
            " 25  Smoking_0                    378 non-null    uint8  \n",
            " 26  Smoking_1                    378 non-null    uint8  \n",
            " 27  Smoking_2                    378 non-null    uint8  \n",
            " 28  Smoking_3                    378 non-null    uint8  \n",
            " 29  Diurnal pattern_1            378 non-null    uint8  \n",
            " 30  Diurnal pattern_2            378 non-null    uint8  \n",
            " 31  Diurnal pattern_3            378 non-null    uint8  \n",
            " 32  Diurnal pattern_4            378 non-null    uint8  \n",
            " 33  Onset of dysphonia _1        378 non-null    uint8  \n",
            " 34  Onset of dysphonia _2        378 non-null    uint8  \n",
            " 35  Onset of dysphonia _3        378 non-null    uint8  \n",
            " 36  Onset of dysphonia _4        378 non-null    uint8  \n",
            " 37  Onset of dysphonia _5        378 non-null    uint8  \n",
            " 38  Occupational vocal demand_1  378 non-null    uint8  \n",
            " 39  Occupational vocal demand_2  378 non-null    uint8  \n",
            " 40  Occupational vocal demand_3  378 non-null    uint8  \n",
            " 41  Occupational vocal demand_4  378 non-null    uint8  \n",
            "dtypes: float64(3), int64(20), object(1), uint8(18)\n",
            "memory usage: 80.5+ KB\n"
          ]
        }
      ],
      "source": [
        "df_trans.info()"
      ]
    },
    {
      "cell_type": "markdown",
      "metadata": {
        "id": "KRm3iFHiMtas"
      },
      "source": [
        "## 1.3 處理 連續變項 (Continuous Feature)"
      ]
    },
    {
      "cell_type": "code",
      "execution_count": 16,
      "metadata": {
        "colab": {
          "base_uri": "https://localhost:8080/",
          "height": 428
        },
        "id": "sgjK0SeiMtat",
        "outputId": "8a032d52-d204-48be-af66-a75fefda70cd"
      },
      "outputs": [
        {
          "data": {
            "text/html": [
              "<div>\n",
              "<style scoped>\n",
              "    .dataframe tbody tr th:only-of-type {\n",
              "        vertical-align: middle;\n",
              "    }\n",
              "\n",
              "    .dataframe tbody tr th {\n",
              "        vertical-align: top;\n",
              "    }\n",
              "\n",
              "    .dataframe thead th {\n",
              "        text-align: right;\n",
              "    }\n",
              "</style>\n",
              "<table border=\"1\" class=\"dataframe\">\n",
              "  <thead>\n",
              "    <tr style=\"text-align: right;\">\n",
              "      <th></th>\n",
              "      <th>Age</th>\n",
              "      <th>Disease category</th>\n",
              "      <th>Narrow pitch range</th>\n",
              "      <th>Decreased volume</th>\n",
              "      <th>Fatigue</th>\n",
              "      <th>Dryness</th>\n",
              "      <th>Lumping</th>\n",
              "      <th>heartburn</th>\n",
              "      <th>Choking</th>\n",
              "      <th>Eye dryness</th>\n",
              "      <th>...</th>\n",
              "      <th>Onset of dysphonia _1</th>\n",
              "      <th>Onset of dysphonia _2</th>\n",
              "      <th>Onset of dysphonia _3</th>\n",
              "      <th>Onset of dysphonia _4</th>\n",
              "      <th>Onset of dysphonia _5</th>\n",
              "      <th>Occupational vocal demand_1</th>\n",
              "      <th>Occupational vocal demand_2</th>\n",
              "      <th>Occupational vocal demand_3</th>\n",
              "      <th>Occupational vocal demand_4</th>\n",
              "      <th>Occupational vocal demand</th>\n",
              "    </tr>\n",
              "  </thead>\n",
              "  <tbody>\n",
              "    <tr>\n",
              "      <th>count</th>\n",
              "      <td>378.000000</td>\n",
              "      <td>378.000000</td>\n",
              "      <td>378.000000</td>\n",
              "      <td>378.000000</td>\n",
              "      <td>378.000000</td>\n",
              "      <td>378.000000</td>\n",
              "      <td>378.000000</td>\n",
              "      <td>378.000000</td>\n",
              "      <td>378.000000</td>\n",
              "      <td>378.000000</td>\n",
              "      <td>...</td>\n",
              "      <td>378.000000</td>\n",
              "      <td>378.000000</td>\n",
              "      <td>378.000000</td>\n",
              "      <td>378.000000</td>\n",
              "      <td>378.000000</td>\n",
              "      <td>378.000000</td>\n",
              "      <td>378.000000</td>\n",
              "      <td>378.000000</td>\n",
              "      <td>378.000000</td>\n",
              "      <td>378.000000</td>\n",
              "    </tr>\n",
              "    <tr>\n",
              "      <th>mean</th>\n",
              "      <td>0.519471</td>\n",
              "      <td>2.121693</td>\n",
              "      <td>0.402116</td>\n",
              "      <td>0.396825</td>\n",
              "      <td>0.423280</td>\n",
              "      <td>0.436508</td>\n",
              "      <td>0.351852</td>\n",
              "      <td>0.063492</td>\n",
              "      <td>0.195767</td>\n",
              "      <td>0.145503</td>\n",
              "      <td>...</td>\n",
              "      <td>0.275132</td>\n",
              "      <td>0.396825</td>\n",
              "      <td>0.179894</td>\n",
              "      <td>0.055556</td>\n",
              "      <td>0.092593</td>\n",
              "      <td>0.349206</td>\n",
              "      <td>0.280423</td>\n",
              "      <td>0.264550</td>\n",
              "      <td>0.105820</td>\n",
              "      <td>0.624339</td>\n",
              "    </tr>\n",
              "    <tr>\n",
              "      <th>std</th>\n",
              "      <td>0.155934</td>\n",
              "      <td>1.105091</td>\n",
              "      <td>0.490975</td>\n",
              "      <td>0.489888</td>\n",
              "      <td>0.494734</td>\n",
              "      <td>0.496610</td>\n",
              "      <td>0.478181</td>\n",
              "      <td>0.244169</td>\n",
              "      <td>0.397316</td>\n",
              "      <td>0.353074</td>\n",
              "      <td>...</td>\n",
              "      <td>0.447173</td>\n",
              "      <td>0.489888</td>\n",
              "      <td>0.384608</td>\n",
              "      <td>0.229365</td>\n",
              "      <td>0.290245</td>\n",
              "      <td>0.477351</td>\n",
              "      <td>0.449801</td>\n",
              "      <td>0.441678</td>\n",
              "      <td>0.308015</td>\n",
              "      <td>0.337247</td>\n",
              "    </tr>\n",
              "    <tr>\n",
              "      <th>min</th>\n",
              "      <td>0.200000</td>\n",
              "      <td>1.000000</td>\n",
              "      <td>0.000000</td>\n",
              "      <td>0.000000</td>\n",
              "      <td>0.000000</td>\n",
              "      <td>0.000000</td>\n",
              "      <td>0.000000</td>\n",
              "      <td>0.000000</td>\n",
              "      <td>0.000000</td>\n",
              "      <td>0.000000</td>\n",
              "      <td>...</td>\n",
              "      <td>0.000000</td>\n",
              "      <td>0.000000</td>\n",
              "      <td>0.000000</td>\n",
              "      <td>0.000000</td>\n",
              "      <td>0.000000</td>\n",
              "      <td>0.000000</td>\n",
              "      <td>0.000000</td>\n",
              "      <td>0.000000</td>\n",
              "      <td>0.000000</td>\n",
              "      <td>0.000000</td>\n",
              "    </tr>\n",
              "    <tr>\n",
              "      <th>25%</th>\n",
              "      <td>0.390000</td>\n",
              "      <td>1.000000</td>\n",
              "      <td>0.000000</td>\n",
              "      <td>0.000000</td>\n",
              "      <td>0.000000</td>\n",
              "      <td>0.000000</td>\n",
              "      <td>0.000000</td>\n",
              "      <td>0.000000</td>\n",
              "      <td>0.000000</td>\n",
              "      <td>0.000000</td>\n",
              "      <td>...</td>\n",
              "      <td>0.000000</td>\n",
              "      <td>0.000000</td>\n",
              "      <td>0.000000</td>\n",
              "      <td>0.000000</td>\n",
              "      <td>0.000000</td>\n",
              "      <td>0.000000</td>\n",
              "      <td>0.000000</td>\n",
              "      <td>0.000000</td>\n",
              "      <td>0.000000</td>\n",
              "      <td>0.333333</td>\n",
              "    </tr>\n",
              "    <tr>\n",
              "      <th>50%</th>\n",
              "      <td>0.530000</td>\n",
              "      <td>2.000000</td>\n",
              "      <td>0.000000</td>\n",
              "      <td>0.000000</td>\n",
              "      <td>0.000000</td>\n",
              "      <td>0.000000</td>\n",
              "      <td>0.000000</td>\n",
              "      <td>0.000000</td>\n",
              "      <td>0.000000</td>\n",
              "      <td>0.000000</td>\n",
              "      <td>...</td>\n",
              "      <td>0.000000</td>\n",
              "      <td>0.000000</td>\n",
              "      <td>0.000000</td>\n",
              "      <td>0.000000</td>\n",
              "      <td>0.000000</td>\n",
              "      <td>0.000000</td>\n",
              "      <td>0.000000</td>\n",
              "      <td>0.000000</td>\n",
              "      <td>0.000000</td>\n",
              "      <td>0.666667</td>\n",
              "    </tr>\n",
              "    <tr>\n",
              "      <th>75%</th>\n",
              "      <td>0.637500</td>\n",
              "      <td>3.000000</td>\n",
              "      <td>1.000000</td>\n",
              "      <td>1.000000</td>\n",
              "      <td>1.000000</td>\n",
              "      <td>1.000000</td>\n",
              "      <td>1.000000</td>\n",
              "      <td>0.000000</td>\n",
              "      <td>0.000000</td>\n",
              "      <td>0.000000</td>\n",
              "      <td>...</td>\n",
              "      <td>1.000000</td>\n",
              "      <td>1.000000</td>\n",
              "      <td>0.000000</td>\n",
              "      <td>0.000000</td>\n",
              "      <td>0.000000</td>\n",
              "      <td>1.000000</td>\n",
              "      <td>1.000000</td>\n",
              "      <td>1.000000</td>\n",
              "      <td>0.000000</td>\n",
              "      <td>1.000000</td>\n",
              "    </tr>\n",
              "    <tr>\n",
              "      <th>max</th>\n",
              "      <td>0.970000</td>\n",
              "      <td>5.000000</td>\n",
              "      <td>1.000000</td>\n",
              "      <td>1.000000</td>\n",
              "      <td>1.000000</td>\n",
              "      <td>1.000000</td>\n",
              "      <td>1.000000</td>\n",
              "      <td>1.000000</td>\n",
              "      <td>1.000000</td>\n",
              "      <td>1.000000</td>\n",
              "      <td>...</td>\n",
              "      <td>1.000000</td>\n",
              "      <td>1.000000</td>\n",
              "      <td>1.000000</td>\n",
              "      <td>1.000000</td>\n",
              "      <td>1.000000</td>\n",
              "      <td>1.000000</td>\n",
              "      <td>1.000000</td>\n",
              "      <td>1.000000</td>\n",
              "      <td>1.000000</td>\n",
              "      <td>1.000000</td>\n",
              "    </tr>\n",
              "  </tbody>\n",
              "</table>\n",
              "<p>8 rows × 42 columns</p>\n",
              "</div>"
            ],
            "text/plain": [
              "              Age  Disease category  Narrow pitch range  Decreased volume  \\\n",
              "count  378.000000        378.000000          378.000000        378.000000   \n",
              "mean     0.519471          2.121693            0.402116          0.396825   \n",
              "std      0.155934          1.105091            0.490975          0.489888   \n",
              "min      0.200000          1.000000            0.000000          0.000000   \n",
              "25%      0.390000          1.000000            0.000000          0.000000   \n",
              "50%      0.530000          2.000000            0.000000          0.000000   \n",
              "75%      0.637500          3.000000            1.000000          1.000000   \n",
              "max      0.970000          5.000000            1.000000          1.000000   \n",
              "\n",
              "          Fatigue     Dryness     Lumping   heartburn     Choking  \\\n",
              "count  378.000000  378.000000  378.000000  378.000000  378.000000   \n",
              "mean     0.423280    0.436508    0.351852    0.063492    0.195767   \n",
              "std      0.494734    0.496610    0.478181    0.244169    0.397316   \n",
              "min      0.000000    0.000000    0.000000    0.000000    0.000000   \n",
              "25%      0.000000    0.000000    0.000000    0.000000    0.000000   \n",
              "50%      0.000000    0.000000    0.000000    0.000000    0.000000   \n",
              "75%      1.000000    1.000000    1.000000    0.000000    0.000000   \n",
              "max      1.000000    1.000000    1.000000    1.000000    1.000000   \n",
              "\n",
              "       Eye dryness  ...  Onset of dysphonia _1  Onset of dysphonia _2  \\\n",
              "count   378.000000  ...             378.000000             378.000000   \n",
              "mean      0.145503  ...               0.275132               0.396825   \n",
              "std       0.353074  ...               0.447173               0.489888   \n",
              "min       0.000000  ...               0.000000               0.000000   \n",
              "25%       0.000000  ...               0.000000               0.000000   \n",
              "50%       0.000000  ...               0.000000               0.000000   \n",
              "75%       0.000000  ...               1.000000               1.000000   \n",
              "max       1.000000  ...               1.000000               1.000000   \n",
              "\n",
              "       Onset of dysphonia _3  Onset of dysphonia _4  Onset of dysphonia _5  \\\n",
              "count             378.000000             378.000000             378.000000   \n",
              "mean                0.179894               0.055556               0.092593   \n",
              "std                 0.384608               0.229365               0.290245   \n",
              "min                 0.000000               0.000000               0.000000   \n",
              "25%                 0.000000               0.000000               0.000000   \n",
              "50%                 0.000000               0.000000               0.000000   \n",
              "75%                 0.000000               0.000000               0.000000   \n",
              "max                 1.000000               1.000000               1.000000   \n",
              "\n",
              "       Occupational vocal demand_1  Occupational vocal demand_2  \\\n",
              "count                   378.000000                   378.000000   \n",
              "mean                      0.349206                     0.280423   \n",
              "std                       0.477351                     0.449801   \n",
              "min                       0.000000                     0.000000   \n",
              "25%                       0.000000                     0.000000   \n",
              "50%                       0.000000                     0.000000   \n",
              "75%                       1.000000                     1.000000   \n",
              "max                       1.000000                     1.000000   \n",
              "\n",
              "       Occupational vocal demand_3  Occupational vocal demand_4  \\\n",
              "count                   378.000000                   378.000000   \n",
              "mean                      0.264550                     0.105820   \n",
              "std                       0.441678                     0.308015   \n",
              "min                       0.000000                     0.000000   \n",
              "25%                       0.000000                     0.000000   \n",
              "50%                       0.000000                     0.000000   \n",
              "75%                       1.000000                     0.000000   \n",
              "max                       1.000000                     1.000000   \n",
              "\n",
              "       Occupational vocal demand  \n",
              "count                 378.000000  \n",
              "mean                    0.624339  \n",
              "std                     0.337247  \n",
              "min                     0.000000  \n",
              "25%                     0.333333  \n",
              "50%                     0.666667  \n",
              "75%                     1.000000  \n",
              "max                     1.000000  \n",
              "\n",
              "[8 rows x 42 columns]"
            ]
          },
          "execution_count": 16,
          "metadata": {},
          "output_type": "execute_result"
        }
      ],
      "source": [
        "# 正規化(Normalization) [0.0 ~ 1.0]\n",
        "df_trans['Age'] = df['Age'] / 100\n",
        "df_trans['PPD'] = df['PPD'] / 2\n",
        "df_trans['Drinking'] = df['Drinking'] / 2\n",
        "df_trans['frequency'] = df['frequency'] / 3\n",
        "df_trans['Noise at work'] = (df['Noise at work'] - 1) / 2\n",
        "df_trans['Occupational vocal demand'] = (4 - df['Occupational vocal demand']) / 3\n",
        "df_trans['Voice handicap index - 10'] = df['Voice handicap index - 10'] / 40\n",
        "df_trans.describe()"
      ]
    },
    {
      "cell_type": "markdown",
      "metadata": {
        "id": "3NWGNMsmFxkz"
      },
      "source": [
        "## 1.4 處理 目標欄位 (target)"
      ]
    },
    {
      "cell_type": "code",
      "execution_count": 17,
      "metadata": {
        "colab": {
          "base_uri": "https://localhost:8080/",
          "height": 522
        },
        "id": "L3mvKrXyNaI-",
        "outputId": "79a287e3-fe71-408d-d6fc-6fd2c1a9b8fb"
      },
      "outputs": [
        {
          "data": {
            "text/html": [
              "<div>\n",
              "<style scoped>\n",
              "    .dataframe tbody tr th:only-of-type {\n",
              "        vertical-align: middle;\n",
              "    }\n",
              "\n",
              "    .dataframe tbody tr th {\n",
              "        vertical-align: top;\n",
              "    }\n",
              "\n",
              "    .dataframe thead th {\n",
              "        text-align: right;\n",
              "    }\n",
              "</style>\n",
              "<table border=\"1\" class=\"dataframe\">\n",
              "  <thead>\n",
              "    <tr style=\"text-align: right;\">\n",
              "      <th></th>\n",
              "      <th>ID</th>\n",
              "      <th>Age</th>\n",
              "      <th>Narrow pitch range</th>\n",
              "      <th>Decreased volume</th>\n",
              "      <th>Fatigue</th>\n",
              "      <th>Dryness</th>\n",
              "      <th>Lumping</th>\n",
              "      <th>heartburn</th>\n",
              "      <th>Choking</th>\n",
              "      <th>Eye dryness</th>\n",
              "      <th>...</th>\n",
              "      <th>Occupational vocal demand_1</th>\n",
              "      <th>Occupational vocal demand_2</th>\n",
              "      <th>Occupational vocal demand_3</th>\n",
              "      <th>Occupational vocal demand_4</th>\n",
              "      <th>Occupational vocal demand</th>\n",
              "      <th>Disease category_1</th>\n",
              "      <th>Disease category_2</th>\n",
              "      <th>Disease category_3</th>\n",
              "      <th>Disease category_4</th>\n",
              "      <th>Disease category_5</th>\n",
              "    </tr>\n",
              "  </thead>\n",
              "  <tbody>\n",
              "    <tr>\n",
              "      <th>1</th>\n",
              "      <td>0600ve0</td>\n",
              "      <td>0.69</td>\n",
              "      <td>1</td>\n",
              "      <td>1</td>\n",
              "      <td>1</td>\n",
              "      <td>1</td>\n",
              "      <td>0</td>\n",
              "      <td>0</td>\n",
              "      <td>1</td>\n",
              "      <td>0</td>\n",
              "      <td>...</td>\n",
              "      <td>0</td>\n",
              "      <td>0</td>\n",
              "      <td>1</td>\n",
              "      <td>0</td>\n",
              "      <td>0.333333</td>\n",
              "      <td>0</td>\n",
              "      <td>1</td>\n",
              "      <td>0</td>\n",
              "      <td>0</td>\n",
              "      <td>0</td>\n",
              "    </tr>\n",
              "    <tr>\n",
              "      <th>4</th>\n",
              "      <td>0402jvt</td>\n",
              "      <td>0.87</td>\n",
              "      <td>0</td>\n",
              "      <td>0</td>\n",
              "      <td>0</td>\n",
              "      <td>0</td>\n",
              "      <td>0</td>\n",
              "      <td>0</td>\n",
              "      <td>0</td>\n",
              "      <td>0</td>\n",
              "      <td>...</td>\n",
              "      <td>0</td>\n",
              "      <td>0</td>\n",
              "      <td>0</td>\n",
              "      <td>1</td>\n",
              "      <td>0.000000</td>\n",
              "      <td>1</td>\n",
              "      <td>0</td>\n",
              "      <td>0</td>\n",
              "      <td>0</td>\n",
              "      <td>0</td>\n",
              "    </tr>\n",
              "    <tr>\n",
              "      <th>9</th>\n",
              "      <td>11019sl</td>\n",
              "      <td>0.51</td>\n",
              "      <td>1</td>\n",
              "      <td>1</td>\n",
              "      <td>0</td>\n",
              "      <td>1</td>\n",
              "      <td>1</td>\n",
              "      <td>0</td>\n",
              "      <td>0</td>\n",
              "      <td>0</td>\n",
              "      <td>...</td>\n",
              "      <td>0</td>\n",
              "      <td>1</td>\n",
              "      <td>0</td>\n",
              "      <td>0</td>\n",
              "      <td>0.666667</td>\n",
              "      <td>1</td>\n",
              "      <td>0</td>\n",
              "      <td>0</td>\n",
              "      <td>0</td>\n",
              "      <td>0</td>\n",
              "    </tr>\n",
              "    <tr>\n",
              "      <th>14</th>\n",
              "      <td>0402svh</td>\n",
              "      <td>0.91</td>\n",
              "      <td>0</td>\n",
              "      <td>0</td>\n",
              "      <td>0</td>\n",
              "      <td>0</td>\n",
              "      <td>0</td>\n",
              "      <td>0</td>\n",
              "      <td>0</td>\n",
              "      <td>1</td>\n",
              "      <td>...</td>\n",
              "      <td>0</td>\n",
              "      <td>0</td>\n",
              "      <td>0</td>\n",
              "      <td>1</td>\n",
              "      <td>0.000000</td>\n",
              "      <td>0</td>\n",
              "      <td>0</td>\n",
              "      <td>0</td>\n",
              "      <td>1</td>\n",
              "      <td>0</td>\n",
              "    </tr>\n",
              "    <tr>\n",
              "      <th>15</th>\n",
              "      <td>0T0018b</td>\n",
              "      <td>0.74</td>\n",
              "      <td>0</td>\n",
              "      <td>1</td>\n",
              "      <td>0</td>\n",
              "      <td>1</td>\n",
              "      <td>0</td>\n",
              "      <td>0</td>\n",
              "      <td>0</td>\n",
              "      <td>1</td>\n",
              "      <td>...</td>\n",
              "      <td>0</td>\n",
              "      <td>0</td>\n",
              "      <td>1</td>\n",
              "      <td>0</td>\n",
              "      <td>0.333333</td>\n",
              "      <td>0</td>\n",
              "      <td>0</td>\n",
              "      <td>1</td>\n",
              "      <td>0</td>\n",
              "      <td>0</td>\n",
              "    </tr>\n",
              "    <tr>\n",
              "      <th>...</th>\n",
              "      <td>...</td>\n",
              "      <td>...</td>\n",
              "      <td>...</td>\n",
              "      <td>...</td>\n",
              "      <td>...</td>\n",
              "      <td>...</td>\n",
              "      <td>...</td>\n",
              "      <td>...</td>\n",
              "      <td>...</td>\n",
              "      <td>...</td>\n",
              "      <td>...</td>\n",
              "      <td>...</td>\n",
              "      <td>...</td>\n",
              "      <td>...</td>\n",
              "      <td>...</td>\n",
              "      <td>...</td>\n",
              "      <td>...</td>\n",
              "      <td>...</td>\n",
              "      <td>...</td>\n",
              "      <td>...</td>\n",
              "      <td>...</td>\n",
              "    </tr>\n",
              "    <tr>\n",
              "      <th>993</th>\n",
              "      <td>1201pl2</td>\n",
              "      <td>0.35</td>\n",
              "      <td>1</td>\n",
              "      <td>0</td>\n",
              "      <td>1</td>\n",
              "      <td>1</td>\n",
              "      <td>1</td>\n",
              "      <td>1</td>\n",
              "      <td>0</td>\n",
              "      <td>0</td>\n",
              "      <td>...</td>\n",
              "      <td>1</td>\n",
              "      <td>0</td>\n",
              "      <td>0</td>\n",
              "      <td>0</td>\n",
              "      <td>1.000000</td>\n",
              "      <td>1</td>\n",
              "      <td>0</td>\n",
              "      <td>0</td>\n",
              "      <td>0</td>\n",
              "      <td>0</td>\n",
              "    </tr>\n",
              "    <tr>\n",
              "      <th>994</th>\n",
              "      <td>0T022un</td>\n",
              "      <td>0.52</td>\n",
              "      <td>1</td>\n",
              "      <td>1</td>\n",
              "      <td>0</td>\n",
              "      <td>0</td>\n",
              "      <td>0</td>\n",
              "      <td>0</td>\n",
              "      <td>1</td>\n",
              "      <td>1</td>\n",
              "      <td>...</td>\n",
              "      <td>0</td>\n",
              "      <td>0</td>\n",
              "      <td>1</td>\n",
              "      <td>0</td>\n",
              "      <td>0.333333</td>\n",
              "      <td>0</td>\n",
              "      <td>0</td>\n",
              "      <td>1</td>\n",
              "      <td>0</td>\n",
              "      <td>0</td>\n",
              "    </tr>\n",
              "    <tr>\n",
              "      <th>995</th>\n",
              "      <td>0G00ftn</td>\n",
              "      <td>0.75</td>\n",
              "      <td>0</td>\n",
              "      <td>0</td>\n",
              "      <td>0</td>\n",
              "      <td>0</td>\n",
              "      <td>0</td>\n",
              "      <td>0</td>\n",
              "      <td>1</td>\n",
              "      <td>0</td>\n",
              "      <td>...</td>\n",
              "      <td>0</td>\n",
              "      <td>0</td>\n",
              "      <td>0</td>\n",
              "      <td>1</td>\n",
              "      <td>0.000000</td>\n",
              "      <td>0</td>\n",
              "      <td>0</td>\n",
              "      <td>1</td>\n",
              "      <td>0</td>\n",
              "      <td>0</td>\n",
              "    </tr>\n",
              "    <tr>\n",
              "      <th>996</th>\n",
              "      <td>1201pkr</td>\n",
              "      <td>0.40</td>\n",
              "      <td>0</td>\n",
              "      <td>0</td>\n",
              "      <td>1</td>\n",
              "      <td>0</td>\n",
              "      <td>0</td>\n",
              "      <td>0</td>\n",
              "      <td>1</td>\n",
              "      <td>0</td>\n",
              "      <td>...</td>\n",
              "      <td>0</td>\n",
              "      <td>1</td>\n",
              "      <td>0</td>\n",
              "      <td>0</td>\n",
              "      <td>0.666667</td>\n",
              "      <td>0</td>\n",
              "      <td>0</td>\n",
              "      <td>0</td>\n",
              "      <td>1</td>\n",
              "      <td>0</td>\n",
              "    </tr>\n",
              "    <tr>\n",
              "      <th>999</th>\n",
              "      <td>04027it</td>\n",
              "      <td>0.72</td>\n",
              "      <td>1</td>\n",
              "      <td>1</td>\n",
              "      <td>1</td>\n",
              "      <td>1</td>\n",
              "      <td>0</td>\n",
              "      <td>0</td>\n",
              "      <td>1</td>\n",
              "      <td>1</td>\n",
              "      <td>...</td>\n",
              "      <td>0</td>\n",
              "      <td>0</td>\n",
              "      <td>1</td>\n",
              "      <td>0</td>\n",
              "      <td>0.333333</td>\n",
              "      <td>0</td>\n",
              "      <td>1</td>\n",
              "      <td>0</td>\n",
              "      <td>0</td>\n",
              "      <td>0</td>\n",
              "    </tr>\n",
              "  </tbody>\n",
              "</table>\n",
              "<p>378 rows × 47 columns</p>\n",
              "</div>"
            ],
            "text/plain": [
              "          ID   Age  Narrow pitch range  Decreased volume  Fatigue  Dryness  \\\n",
              "1    0600ve0  0.69                   1                 1        1        1   \n",
              "4    0402jvt  0.87                   0                 0        0        0   \n",
              "9    11019sl  0.51                   1                 1        0        1   \n",
              "14   0402svh  0.91                   0                 0        0        0   \n",
              "15   0T0018b  0.74                   0                 1        0        1   \n",
              "..       ...   ...                 ...               ...      ...      ...   \n",
              "993  1201pl2  0.35                   1                 0        1        1   \n",
              "994  0T022un  0.52                   1                 1        0        0   \n",
              "995  0G00ftn  0.75                   0                 0        0        0   \n",
              "996  1201pkr  0.40                   0                 0        1        0   \n",
              "999  04027it  0.72                   1                 1        1        1   \n",
              "\n",
              "     Lumping  heartburn  Choking  Eye dryness  ...  \\\n",
              "1          0          0        1            0  ...   \n",
              "4          0          0        0            0  ...   \n",
              "9          1          0        0            0  ...   \n",
              "14         0          0        0            1  ...   \n",
              "15         0          0        0            1  ...   \n",
              "..       ...        ...      ...          ...  ...   \n",
              "993        1          1        0            0  ...   \n",
              "994        0          0        1            1  ...   \n",
              "995        0          0        1            0  ...   \n",
              "996        0          0        1            0  ...   \n",
              "999        0          0        1            1  ...   \n",
              "\n",
              "     Occupational vocal demand_1  Occupational vocal demand_2  \\\n",
              "1                              0                            0   \n",
              "4                              0                            0   \n",
              "9                              0                            1   \n",
              "14                             0                            0   \n",
              "15                             0                            0   \n",
              "..                           ...                          ...   \n",
              "993                            1                            0   \n",
              "994                            0                            0   \n",
              "995                            0                            0   \n",
              "996                            0                            1   \n",
              "999                            0                            0   \n",
              "\n",
              "     Occupational vocal demand_3  Occupational vocal demand_4  \\\n",
              "1                              1                            0   \n",
              "4                              0                            1   \n",
              "9                              0                            0   \n",
              "14                             0                            1   \n",
              "15                             1                            0   \n",
              "..                           ...                          ...   \n",
              "993                            0                            0   \n",
              "994                            1                            0   \n",
              "995                            0                            1   \n",
              "996                            0                            0   \n",
              "999                            1                            0   \n",
              "\n",
              "     Occupational vocal demand  Disease category_1  Disease category_2  \\\n",
              "1                     0.333333                   0                   1   \n",
              "4                     0.000000                   1                   0   \n",
              "9                     0.666667                   1                   0   \n",
              "14                    0.000000                   0                   0   \n",
              "15                    0.333333                   0                   0   \n",
              "..                         ...                 ...                 ...   \n",
              "993                   1.000000                   1                   0   \n",
              "994                   0.333333                   0                   0   \n",
              "995                   0.000000                   0                   0   \n",
              "996                   0.666667                   0                   0   \n",
              "999                   0.333333                   0                   1   \n",
              "\n",
              "     Disease category_3  Disease category_4  Disease category_5  \n",
              "1                     0                   0                   0  \n",
              "4                     0                   0                   0  \n",
              "9                     0                   0                   0  \n",
              "14                    0                   1                   0  \n",
              "15                    1                   0                   0  \n",
              "..                  ...                 ...                 ...  \n",
              "993                   0                   0                   0  \n",
              "994                   1                   0                   0  \n",
              "995                   1                   0                   0  \n",
              "996                   0                   1                   0  \n",
              "999                   0                   0                   0  \n",
              "\n",
              "[378 rows x 47 columns]"
            ]
          },
          "execution_count": 17,
          "metadata": {},
          "output_type": "execute_result"
        }
      ],
      "source": [
        "df_trans = pd.get_dummies(df_trans, columns=['Disease category'])\n",
        "df_trans"
      ]
    },
    {
      "cell_type": "code",
      "execution_count": 18,
      "metadata": {
        "colab": {
          "base_uri": "https://localhost:8080/"
        },
        "id": "QpIgITA1ZxZu",
        "outputId": "bba1fc7f-663d-402b-cd1e-57eb3203bfe4"
      },
      "outputs": [
        {
          "data": {
            "text/plain": [
              "Index(['ID', 'Age', 'Narrow pitch range', 'Decreased volume', 'Fatigue',\n",
              "       'Dryness', 'Lumping', 'heartburn', 'Choking', 'Eye dryness', 'PND',\n",
              "       'PPD', 'Drinking', 'frequency', 'Noise at work', 'Diabetes',\n",
              "       'Hypertension', 'CAD', 'Head and Neck Cancer', 'Head injury', 'CVA',\n",
              "       'Voice handicap index - 10', 'sample_weight', 'Sex_1', 'Smoking_0',\n",
              "       'Smoking_1', 'Smoking_2', 'Smoking_3', 'Diurnal pattern_1',\n",
              "       'Diurnal pattern_2', 'Diurnal pattern_3', 'Diurnal pattern_4',\n",
              "       'Onset of dysphonia _1', 'Onset of dysphonia _2',\n",
              "       'Onset of dysphonia _3', 'Onset of dysphonia _4',\n",
              "       'Onset of dysphonia _5', 'Occupational vocal demand_1',\n",
              "       'Occupational vocal demand_2', 'Occupational vocal demand_3',\n",
              "       'Occupational vocal demand_4', 'Occupational vocal demand',\n",
              "       'Disease category_1', 'Disease category_2', 'Disease category_3',\n",
              "       'Disease category_4', 'Disease category_5'],\n",
              "      dtype='object')"
            ]
          },
          "execution_count": 18,
          "metadata": {},
          "output_type": "execute_result"
        }
      ],
      "source": [
        "df_trans.columns"
      ]
    },
    {
      "cell_type": "code",
      "execution_count": 19,
      "metadata": {
        "colab": {
          "base_uri": "https://localhost:8080/"
        },
        "id": "G_ZiABZAaP-x",
        "outputId": "13628740-f2ce-4611-efc6-158f6a08c719"
      },
      "outputs": [
        {
          "name": "stdout",
          "output_type": "stream",
          "text": [
            "特徵欄位數量 = 40\n",
            "目標欄位數量 = 5\n"
          ]
        }
      ],
      "source": [
        "# 特徵欄位 ('ID'不是特徵)\n",
        "feature_columns = ['Age', 'Narrow pitch range', 'Decreased volume', 'Fatigue',\n",
        "       'Dryness', 'Lumping', 'heartburn', 'Choking', 'Eye dryness', 'PND',\n",
        "       'PPD', 'Drinking', 'frequency', 'Noise at work', 'Diabetes',\n",
        "       'Hypertension', 'CAD', 'Head and Neck Cancer', 'Head injury', 'CVA',\n",
        "       'Voice handicap index - 10', 'Sex_1', 'Smoking_0', 'Smoking_1',\n",
        "       'Smoking_2', 'Smoking_3', 'Diurnal pattern_1', 'Diurnal pattern_2',\n",
        "       'Diurnal pattern_3', 'Diurnal pattern_4', 'Onset of dysphonia _1',\n",
        "       'Onset of dysphonia _2', 'Onset of dysphonia _3',\n",
        "       'Onset of dysphonia _4', 'Onset of dysphonia _5',\n",
        "       'Occupational vocal demand_1', 'Occupational vocal demand_2',\n",
        "       'Occupational vocal demand_3', 'Occupational vocal demand_4',\n",
        "       'Occupational vocal demand']\n",
        "# 分類目標欄位\n",
        "target_columns = ['Disease category_1', 'Disease category_2', 'Disease category_3', 'Disease category_4', 'Disease category_5']\n",
        "\n",
        "print(\"特徵欄位數量 =\", len(feature_columns))\n",
        "print(\"目標欄位數量 =\", len(target_columns))"
      ]
    },
    {
      "cell_type": "markdown",
      "metadata": {
        "id": "fvpm0f5HYReo"
      },
      "source": [
        "## 1.5 資料及分割 (train/valid)\n",
        "https://scikit-learn.org/stable/modules/generated/sklearn.model_selection.train_test_split.html"
      ]
    },
    {
      "cell_type": "code",
      "execution_count": 20,
      "metadata": {
        "colab": {
          "base_uri": "https://localhost:8080/"
        },
        "id": "v4eJX8ufYacv",
        "outputId": "31d9cabf-3efe-47a7-84b0-26918ded50b0"
      },
      "outputs": [
        {
          "name": "stdout",
          "output_type": "stream",
          "text": [
            "train_index shape = (302,)\n",
            "valid_index shape = (76,)\n"
          ]
        }
      ],
      "source": [
        "# 按診斷分類 切分 train/valid\n",
        "train_index, valid_index = train_test_split(df_trans.index, train_size=0.8, random_state=333, stratify=df['Disease category'])\n",
        "print('train_index shape =', train_index.shape)\n",
        "print('valid_index shape =', valid_index.shape)"
      ]
    },
    {
      "cell_type": "markdown",
      "metadata": {
        "id": "7F1kdj4JdR8j"
      },
      "source": [
        "## 1.6 樣本產生器(generator)\n",
        "https://www.tensorflow.org/api_docs/python/tf/data/Dataset"
      ]
    },
    {
      "cell_type": "code",
      "execution_count": 21,
      "metadata": {
        "colab": {
          "base_uri": "https://localhost:8080/"
        },
        "id": "k8WAQ_8mpfmd",
        "outputId": "027d7439-9871-4c1e-f49c-59654b36d55c"
      },
      "outputs": [
        {
          "name": "stdout",
          "output_type": "stream",
          "text": [
            "X shape=(40,) dtype=float32\n",
            "y = tf.Tensor([1. 0. 0. 0. 0.], shape=(5,), dtype=float32)\n",
            "sample_weight = tf.Tensor(0.5478261, shape=(), dtype=float32)\n"
          ]
        }
      ],
      "source": [
        "# define tensorflow function\n",
        "def train_preprocessing(idx):\n",
        "    def py_preproc(idx):  # input tensor\n",
        "        idx = idx.numpy()\n",
        "        feats = df_trans.loc[idx, feature_columns].values\n",
        "        label = df_trans.loc[idx, target_columns].values\n",
        "        sample_weight = df_trans.loc[idx, 'sample_weight']       \n",
        "        return feats, label, sample_weight\n",
        "\n",
        "    feats, label, sample_weight = tf.py_function(func=py_preproc, inp=[idx], Tout=[tf.float32, tf.float32, tf.float32])\n",
        "    return feats, label, sample_weight  # tensor output\n",
        "\n",
        "def valid_preprocessing(idx):  # same as train_preprocessing but without augmentation and sample_weight\n",
        "    def py_preproc(idx):  # input tensor\n",
        "        idx = idx.numpy()\n",
        "        feats = df_trans.loc[idx, feature_columns].values\n",
        "        label = df_trans.loc[idx, target_columns].values\n",
        "        return feats, label\n",
        "        \n",
        "    feats, label = tf.py_function(func=py_preproc, inp=[idx], Tout=[tf.float32, tf.float32])\n",
        "    return feats, label  # tensor output\n",
        "\n",
        "# tf function test:\n",
        "idx = np.random.choice(df.index, size=1)[0]  # 隨機選一個資料索引\n",
        "X, y, sw = train_preprocessing(idx)\n",
        "print(f\"X shape={X.shape} dtype={X.dtype.name}\")\n",
        "print(\"y =\", y)\n",
        "print(\"sample_weight =\", sw)"
      ]
    },
    {
      "cell_type": "code",
      "execution_count": 22,
      "metadata": {
        "colab": {
          "base_uri": "https://localhost:8080/"
        },
        "id": "PK9tewRudRUP",
        "outputId": "e8c9d0f7-9a08-4298-f568-7f52e5ccb4ed"
      },
      "outputs": [
        {
          "name": "stdout",
          "output_type": "stream",
          "text": [
            "batch_x shape: (64, 40)\n",
            "batch_y shape: (64, 5)\n",
            "batch_sw shape: (64,)\n"
          ]
        },
        {
          "name": "stderr",
          "output_type": "stream",
          "text": [
            "2023-05-20 11:22:55.010762: I tensorflow/core/common_runtime/executor.cc:1210] [/device:CPU:0] (DEBUG INFO) Executor start aborting (this does not indicate an error and you can ignore this message): INVALID_ARGUMENT: You must feed a value for placeholder tensor 'Placeholder/_0' with dtype int64 and shape [302]\n",
            "\t [[{{node Placeholder/_0}}]]\n",
            "2023-05-20 11:22:55.010917: I tensorflow/core/common_runtime/executor.cc:1210] [/device:CPU:0] (DEBUG INFO) Executor start aborting (this does not indicate an error and you can ignore this message): INVALID_ARGUMENT: You must feed a value for placeholder tensor 'Placeholder/_0' with dtype int64 and shape [302]\n",
            "\t [[{{node Placeholder/_0}}]]\n"
          ]
        }
      ],
      "source": [
        "# prepare dataset as generator\n",
        "batch_size = 64\n",
        "autotune = tf.data.experimental.AUTOTUNE\n",
        "\n",
        "train_generator = tf.data.Dataset.from_tensor_slices(train_index)  # train index\n",
        "train_generator = train_generator.shuffle(len(train_index), reshuffle_each_iteration=True) \\\n",
        "                                .map(train_preprocessing, num_parallel_calls=4) \\\n",
        "                                .batch(batch_size) \\\n",
        "                                .prefetch(2)\n",
        "\n",
        "valid_generator = tf.data.Dataset.from_tensor_slices(valid_index)  # valid index\n",
        "valid_generator = valid_generator.map(valid_preprocessing, num_parallel_calls=4) \\\n",
        "                                .batch(batch_size) \\\n",
        "                                .prefetch(2)\n",
        "\n",
        "# train_generator test:\n",
        "for batch_x, batch_y, batch_sw in train_generator:\n",
        "    print(\"batch_x shape:\", batch_x.shape)\n",
        "    print(\"batch_y shape:\", batch_y.shape)\n",
        "    print(\"batch_sw shape:\", batch_sw.shape)\n",
        "    break"
      ]
    },
    {
      "cell_type": "markdown",
      "metadata": {
        "id": "Fj9O1s5kXK_i"
      },
      "source": [
        "# 2 模型 Model"
      ]
    },
    {
      "cell_type": "code",
      "execution_count": 23,
      "metadata": {
        "colab": {
          "base_uri": "https://localhost:8080/"
        },
        "id": "8oEJCK9QUsMY",
        "outputId": "d8479e3c-601a-4bc2-965f-9859fa5c974a"
      },
      "outputs": [
        {
          "name": "stdout",
          "output_type": "stream",
          "text": [
            "Model: \"feat40_Unisex_Sex2\"\n",
            "________________________________________________________________________________________________________________________________________________________________\n",
            " Layer (type)                                                           Output Shape                                                    Param #                 \n",
            "================================================================================================================================================================\n",
            " feats_sex2 (InputLayer)                                                [(None, 40)]                                                    0                       \n",
            "                                                                                                                                                                \n",
            " dense_sex2 (Dense)                                                     (None, 64)                                                      2624                    \n",
            "                                                                                                                                                                \n",
            " dense_1_sex2 (Dense)                                                   (None, 64)                                                      4160                    \n",
            "                                                                                                                                                                \n",
            " dropout_sex2 (Dropout)                                                 (None, 64)                                                      0                       \n",
            "                                                                                                                                                                \n",
            " logits_sex2 (Dense)                                                    (None, 5)                                                       325                     \n",
            "                                                                                                                                                                \n",
            "================================================================================================================================================================\n",
            "Total params: 7109 (27.77 KB)\n",
            "Trainable params: 7109 (27.77 KB)\n",
            "Non-trainable params: 0 (0.00 Byte)\n",
            "________________________________________________________________________________________________________________________________________________________________\n"
          ]
        }
      ],
      "source": [
        "def build_model(feature_num, num_classes=5):\n",
        "    inputs = layers.Input(shape=(feature_num, ), name=\"feats_sex2\")\n",
        "\n",
        "    # MLP\n",
        "    x = layers.Dense(64, activation=\"relu\", name=\"dense_sex2\")(inputs)\n",
        "    x = layers.Dense(64, activation=\"relu\", name = 'dense_1_sex2')(x)\n",
        "    x = layers.Dropout(0.1, name = 'dropout_sex2')(x)\n",
        "    \n",
        "    logits = layers.Dense(num_classes, name=\"logits_sex2\")(x)\n",
        "\n",
        "    model = Model(inputs=inputs, outputs=logits, name=f\"feat{feature_num}_Unisex_Sex2\")  # <-- 為模型命名(存檔資料夾名稱)\n",
        "    return model\n",
        "\n",
        "# Build model.\n",
        "K.clear_session()\n",
        "model = build_model(feature_num=len(feature_columns))\n",
        "model.summary(line_length=160)"
      ]
    },
    {
      "cell_type": "code",
      "execution_count": 24,
      "metadata": {
        "colab": {
          "base_uri": "https://localhost:8080/",
          "height": 352
        },
        "id": "px7zk7H3b13P",
        "outputId": "558c8071-863b-4ed3-c504-d74a500a21d0"
      },
      "outputs": [
        {
          "name": "stdout",
          "output_type": "stream",
          "text": [
            "You must install pydot (`pip install pydot`) and install graphviz (see instructions at https://graphviz.gitlab.io/download/) for plot_model to work.\n"
          ]
        }
      ],
      "source": [
        "# 看看設計架構\n",
        "plot_model(model, to_file=\"/tmp/model.png\", show_shapes=True, show_dtype=True, show_layer_names=True, dpi=48)"
      ]
    },
    {
      "cell_type": "code",
      "execution_count": 25,
      "metadata": {
        "id": "THP7I7M1cCoC"
      },
      "outputs": [
        {
          "name": "stderr",
          "output_type": "stream",
          "text": [
            "WARNING:absl:At this time, the v2.11+ optimizer `tf.keras.optimizers.Adam` runs slowly on M1/M2 Macs, please use the legacy Keras optimizer instead, located at `tf.keras.optimizers.legacy.Adam`.\n",
            "WARNING:absl:There is a known slowdown when using v2.11+ Keras optimizers on M1/M2 Macs. Falling back to the legacy Keras optimizer, i.e., `tf.keras.optimizers.legacy.Adam`.\n"
          ]
        }
      ],
      "source": [
        "def f1(y_true, y_pred):    \n",
        "    def recall_m(y_true, y_pred):\n",
        "        TP = K.sum(K.round(K.clip(y_true * y_pred, 0, 1)))\n",
        "        Positives = K.sum(K.round(K.clip(y_true, 0, 1)))\n",
        "        recall = TP / (Positives+K.epsilon())    \n",
        "        return recall \n",
        "    def precision_m(y_true, y_pred):\n",
        "        TP = K.sum(K.round(K.clip(y_true * y_pred, 0, 1)))\n",
        "        Pred_Positives = K.sum(K.round(K.clip(y_pred, 0, 1)))\n",
        "        precision = TP / (Pred_Positives+K.epsilon())\n",
        "        return precision \n",
        "    precision, recall = precision_m(y_true, y_pred), recall_m(y_true, y_pred)\n",
        "    return 2*((precision*recall)/(precision+recall+K.epsilon()))\n",
        "\n",
        "# Compile model\n",
        "model.compile(loss=tf.keras.losses.CategoricalCrossentropy(from_logits=True), \n",
        "              optimizer=tf.keras.optimizers.Adam(learning_rate=0.001), \n",
        "              metrics=[tf.keras.metrics.AUC(name='auc'), \n",
        "                       f1, \n",
        "                       ])"
      ]
    },
    {
      "cell_type": "markdown",
      "metadata": {
        "id": "q_k-49tbbpwP"
      },
      "source": [
        "# 3 訓練 Training"
      ]
    },
    {
      "cell_type": "code",
      "execution_count": 26,
      "metadata": {
        "colab": {
          "base_uri": "https://localhost:8080/"
        },
        "id": "KmzTBt-HxfCR",
        "outputId": "f221131d-2962-4521-a5f7-4fb7f3c4c355"
      },
      "outputs": [
        {
          "name": "stdout",
          "output_type": "stream",
          "text": [
            "Epoch 1/300\n",
            "5/5 [==============================] - ETA: 0s - loss: 1.6402 - auc: 0.3981 - f1: 0.0374"
          ]
        },
        {
          "name": "stderr",
          "output_type": "stream",
          "text": [
            "2023-05-20 11:22:55.996761: I tensorflow/core/common_runtime/executor.cc:1210] [/device:CPU:0] (DEBUG INFO) Executor start aborting (this does not indicate an error and you can ignore this message): INVALID_ARGUMENT: You must feed a value for placeholder tensor 'Placeholder/_0' with dtype int64 and shape [76]\n",
            "\t [[{{node Placeholder/_0}}]]\n"
          ]
        },
        {
          "name": "stdout",
          "output_type": "stream",
          "text": [
            "5/5 [==============================] - 1s 101ms/step - loss: 1.6402 - auc: 0.3981 - f1: 0.0374 - val_loss: 1.6434 - val_auc: 0.4668 - val_f1: 0.0141 - lr: 0.0010\n",
            "Epoch 2/300\n",
            "5/5 [==============================] - ETA: 0s - loss: 1.5760 - auc: 0.5178 - f1: 0.0309"
          ]
        },
        {
          "name": "stderr",
          "output_type": "stream",
          "text": [
            "/Library/Frameworks/Python.framework/Versions/3.11/lib/python3.11/site-packages/keras/src/engine/training.py:3000: UserWarning: You are saving your model as an HDF5 file via `model.save()`. This file format is considered legacy. We recommend using instead the native Keras format, e.g. `model.save('my_model.keras')`.\n",
            "  saving_api.save_model(\n"
          ]
        },
        {
          "name": "stdout",
          "output_type": "stream",
          "text": [
            "5/5 [==============================] - 0s 46ms/step - loss: 1.5760 - auc: 0.5178 - f1: 0.0309 - val_loss: 1.5938 - val_auc: 0.5634 - val_f1: 0.0143 - lr: 0.0010\n",
            "Epoch 3/300\n",
            "3/5 [=================>............] - ETA: 0s - loss: 1.5759 - auc: 0.6019 - f1: 0.0801"
          ]
        },
        {
          "name": "stderr",
          "output_type": "stream",
          "text": [
            "/Library/Frameworks/Python.framework/Versions/3.11/lib/python3.11/site-packages/keras/src/engine/training.py:3000: UserWarning: You are saving your model as an HDF5 file via `model.save()`. This file format is considered legacy. We recommend using instead the native Keras format, e.g. `model.save('my_model.keras')`.\n",
            "  saving_api.save_model(\n"
          ]
        },
        {
          "name": "stdout",
          "output_type": "stream",
          "text": [
            "5/5 [==============================] - 0s 41ms/step - loss: 1.5310 - auc: 0.6097 - f1: 0.1023 - val_loss: 1.5641 - val_auc: 0.6183 - val_f1: 0.0282 - lr: 0.0010\n",
            "Epoch 4/300\n",
            "5/5 [==============================] - ETA: 0s - loss: 1.5183 - auc: 0.6581 - f1: 0.1536"
          ]
        },
        {
          "name": "stderr",
          "output_type": "stream",
          "text": [
            "/Library/Frameworks/Python.framework/Versions/3.11/lib/python3.11/site-packages/keras/src/engine/training.py:3000: UserWarning: You are saving your model as an HDF5 file via `model.save()`. This file format is considered legacy. We recommend using instead the native Keras format, e.g. `model.save('my_model.keras')`.\n",
            "  saving_api.save_model(\n"
          ]
        },
        {
          "name": "stdout",
          "output_type": "stream",
          "text": [
            "5/5 [==============================] - 0s 41ms/step - loss: 1.5183 - auc: 0.6581 - f1: 0.1536 - val_loss: 1.5417 - val_auc: 0.6459 - val_f1: 0.0278 - lr: 0.0010\n",
            "Epoch 5/300\n",
            "5/5 [==============================] - 0s 38ms/step - loss: 1.4599 - auc: 0.7066 - f1: 0.2383 - val_loss: 1.5275 - val_auc: 0.6639 - val_f1: 0.0270 - lr: 0.0010\n",
            "Epoch 6/300\n",
            "5/5 [==============================] - 0s 42ms/step - loss: 1.4449 - auc: 0.7254 - f1: 0.2781 - val_loss: 1.5156 - val_auc: 0.6719 - val_f1: 0.0506 - lr: 0.0010\n",
            "Epoch 7/300\n",
            "5/5 [==============================] - ETA: 0s - loss: 1.4117 - auc: 0.7330 - f1: 0.2945"
          ]
        },
        {
          "name": "stderr",
          "output_type": "stream",
          "text": [
            "/Library/Frameworks/Python.framework/Versions/3.11/lib/python3.11/site-packages/keras/src/engine/training.py:3000: UserWarning: You are saving your model as an HDF5 file via `model.save()`. This file format is considered legacy. We recommend using instead the native Keras format, e.g. `model.save('my_model.keras')`.\n",
            "  saving_api.save_model(\n"
          ]
        },
        {
          "name": "stdout",
          "output_type": "stream",
          "text": [
            "5/5 [==============================] - 0s 44ms/step - loss: 1.4117 - auc: 0.7330 - f1: 0.2945 - val_loss: 1.5142 - val_auc: 0.6708 - val_f1: 0.0930 - lr: 0.0010\n",
            "Epoch 8/300\n",
            "5/5 [==============================] - ETA: 0s - loss: 1.3757 - auc: 0.7507 - f1: 0.4140"
          ]
        },
        {
          "name": "stderr",
          "output_type": "stream",
          "text": [
            "/Library/Frameworks/Python.framework/Versions/3.11/lib/python3.11/site-packages/keras/src/engine/training.py:3000: UserWarning: You are saving your model as an HDF5 file via `model.save()`. This file format is considered legacy. We recommend using instead the native Keras format, e.g. `model.save('my_model.keras')`.\n",
            "  saving_api.save_model(\n"
          ]
        },
        {
          "name": "stdout",
          "output_type": "stream",
          "text": [
            "5/5 [==============================] - 0s 40ms/step - loss: 1.3757 - auc: 0.7507 - f1: 0.4140 - val_loss: 1.5054 - val_auc: 0.6790 - val_f1: 0.0889 - lr: 0.0010\n",
            "Epoch 9/300\n",
            "5/5 [==============================] - 0s 44ms/step - loss: 1.3628 - auc: 0.7501 - f1: 0.4209 - val_loss: 1.5005 - val_auc: 0.6781 - val_f1: 0.1778 - lr: 0.0010\n",
            "Epoch 10/300\n",
            "3/5 [=================>............] - ETA: 0s - loss: 1.1997 - auc: 0.7596 - f1: 0.4555"
          ]
        },
        {
          "name": "stderr",
          "output_type": "stream",
          "text": [
            "/Library/Frameworks/Python.framework/Versions/3.11/lib/python3.11/site-packages/keras/src/engine/training.py:3000: UserWarning: You are saving your model as an HDF5 file via `model.save()`. This file format is considered legacy. We recommend using instead the native Keras format, e.g. `model.save('my_model.keras')`.\n",
            "  saving_api.save_model(\n"
          ]
        },
        {
          "name": "stdout",
          "output_type": "stream",
          "text": [
            "5/5 [==============================] - 0s 42ms/step - loss: 1.3117 - auc: 0.7632 - f1: 0.4259 - val_loss: 1.4777 - val_auc: 0.6915 - val_f1: 0.3015 - lr: 0.0010\n",
            "Epoch 11/300\n",
            "5/5 [==============================] - ETA: 0s - loss: 1.2635 - auc: 0.7673 - f1: 0.4554"
          ]
        },
        {
          "name": "stderr",
          "output_type": "stream",
          "text": [
            "/Library/Frameworks/Python.framework/Versions/3.11/lib/python3.11/site-packages/keras/src/engine/training.py:3000: UserWarning: You are saving your model as an HDF5 file via `model.save()`. This file format is considered legacy. We recommend using instead the native Keras format, e.g. `model.save('my_model.keras')`.\n",
            "  saving_api.save_model(\n"
          ]
        },
        {
          "name": "stdout",
          "output_type": "stream",
          "text": [
            "5/5 [==============================] - 0s 42ms/step - loss: 1.2635 - auc: 0.7673 - f1: 0.4554 - val_loss: 1.4685 - val_auc: 0.6950 - val_f1: 0.3651 - lr: 0.0010\n",
            "Epoch 12/300\n",
            "5/5 [==============================] - ETA: 0s - loss: 1.2376 - auc: 0.7803 - f1: 0.5031"
          ]
        },
        {
          "name": "stderr",
          "output_type": "stream",
          "text": [
            "/Library/Frameworks/Python.framework/Versions/3.11/lib/python3.11/site-packages/keras/src/engine/training.py:3000: UserWarning: You are saving your model as an HDF5 file via `model.save()`. This file format is considered legacy. We recommend using instead the native Keras format, e.g. `model.save('my_model.keras')`.\n",
            "  saving_api.save_model(\n"
          ]
        },
        {
          "name": "stdout",
          "output_type": "stream",
          "text": [
            "5/5 [==============================] - 0s 44ms/step - loss: 1.2376 - auc: 0.7803 - f1: 0.5031 - val_loss: 1.4483 - val_auc: 0.7078 - val_f1: 0.3829 - lr: 0.0010\n",
            "Epoch 13/300\n",
            "3/5 [=================>............] - ETA: 0s - loss: 1.1547 - auc: 0.7976 - f1: 0.5230"
          ]
        },
        {
          "name": "stderr",
          "output_type": "stream",
          "text": [
            "/Library/Frameworks/Python.framework/Versions/3.11/lib/python3.11/site-packages/keras/src/engine/training.py:3000: UserWarning: You are saving your model as an HDF5 file via `model.save()`. This file format is considered legacy. We recommend using instead the native Keras format, e.g. `model.save('my_model.keras')`.\n",
            "  saving_api.save_model(\n"
          ]
        },
        {
          "name": "stdout",
          "output_type": "stream",
          "text": [
            "5/5 [==============================] - 0s 40ms/step - loss: 1.1850 - auc: 0.7922 - f1: 0.5097 - val_loss: 1.4246 - val_auc: 0.7113 - val_f1: 0.3818 - lr: 0.0010\n",
            "Epoch 14/300\n",
            "5/5 [==============================] - 0s 43ms/step - loss: 1.1468 - auc: 0.8077 - f1: 0.5347 - val_loss: 1.4021 - val_auc: 0.7206 - val_f1: 0.4203 - lr: 0.0010\n",
            "Epoch 15/300\n",
            "5/5 [==============================] - ETA: 0s - loss: 1.1286 - auc: 0.8137 - f1: 0.5591"
          ]
        },
        {
          "name": "stderr",
          "output_type": "stream",
          "text": [
            "/Library/Frameworks/Python.framework/Versions/3.11/lib/python3.11/site-packages/keras/src/engine/training.py:3000: UserWarning: You are saving your model as an HDF5 file via `model.save()`. This file format is considered legacy. We recommend using instead the native Keras format, e.g. `model.save('my_model.keras')`.\n",
            "  saving_api.save_model(\n"
          ]
        },
        {
          "name": "stdout",
          "output_type": "stream",
          "text": [
            "5/5 [==============================] - 0s 40ms/step - loss: 1.1286 - auc: 0.8137 - f1: 0.5591 - val_loss: 1.3984 - val_auc: 0.7204 - val_f1: 0.4174 - lr: 0.0010\n",
            "Epoch 16/300\n",
            "5/5 [==============================] - 0s 42ms/step - loss: 1.0733 - auc: 0.8141 - f1: 0.5441 - val_loss: 1.3966 - val_auc: 0.7136 - val_f1: 0.4283 - lr: 0.0010\n",
            "Epoch 17/300\n",
            "5/5 [==============================] - ETA: 0s - loss: 1.0540 - auc: 0.8111 - f1: 0.5350"
          ]
        },
        {
          "name": "stderr",
          "output_type": "stream",
          "text": [
            "/Library/Frameworks/Python.framework/Versions/3.11/lib/python3.11/site-packages/keras/src/engine/training.py:3000: UserWarning: You are saving your model as an HDF5 file via `model.save()`. This file format is considered legacy. We recommend using instead the native Keras format, e.g. `model.save('my_model.keras')`.\n",
            "  saving_api.save_model(\n"
          ]
        },
        {
          "name": "stdout",
          "output_type": "stream",
          "text": [
            "5/5 [==============================] - 0s 44ms/step - loss: 1.0540 - auc: 0.8111 - f1: 0.5350 - val_loss: 1.3841 - val_auc: 0.7244 - val_f1: 0.4922 - lr: 0.0010\n",
            "Epoch 18/300\n",
            "3/5 [=================>............] - ETA: 0s - loss: 1.0473 - auc: 0.8010 - f1: 0.5243"
          ]
        },
        {
          "name": "stderr",
          "output_type": "stream",
          "text": [
            "/Library/Frameworks/Python.framework/Versions/3.11/lib/python3.11/site-packages/keras/src/engine/training.py:3000: UserWarning: You are saving your model as an HDF5 file via `model.save()`. This file format is considered legacy. We recommend using instead the native Keras format, e.g. `model.save('my_model.keras')`.\n",
            "  saving_api.save_model(\n"
          ]
        },
        {
          "name": "stdout",
          "output_type": "stream",
          "text": [
            "5/5 [==============================] - 0s 41ms/step - loss: 1.0229 - auc: 0.8130 - f1: 0.5490 - val_loss: 1.3773 - val_auc: 0.7253 - val_f1: 0.4915 - lr: 0.0010\n",
            "Epoch 19/300\n",
            "5/5 [==============================] - 0s 42ms/step - loss: 0.9838 - auc: 0.8311 - f1: 0.5634 - val_loss: 1.3518 - val_auc: 0.7340 - val_f1: 0.4856 - lr: 0.0010\n",
            "Epoch 20/300\n",
            "5/5 [==============================] - 0s 40ms/step - loss: 0.9769 - auc: 0.8199 - f1: 0.5571 - val_loss: 1.3387 - val_auc: 0.7452 - val_f1: 0.4655 - lr: 0.0010\n",
            "Epoch 21/300\n",
            "5/5 [==============================] - 0s 41ms/step - loss: 0.9437 - auc: 0.8306 - f1: 0.5589 - val_loss: 1.3569 - val_auc: 0.7388 - val_f1: 0.5119 - lr: 0.0010\n",
            "Epoch 22/300\n",
            "3/5 [=================>............] - ETA: 0s - loss: 0.9289 - auc: 0.8139 - f1: 0.5549"
          ]
        },
        {
          "name": "stderr",
          "output_type": "stream",
          "text": [
            "/Library/Frameworks/Python.framework/Versions/3.11/lib/python3.11/site-packages/keras/src/engine/training.py:3000: UserWarning: You are saving your model as an HDF5 file via `model.save()`. This file format is considered legacy. We recommend using instead the native Keras format, e.g. `model.save('my_model.keras')`.\n",
            "  saving_api.save_model(\n"
          ]
        },
        {
          "name": "stdout",
          "output_type": "stream",
          "text": [
            "5/5 [==============================] - 0s 39ms/step - loss: 0.9153 - auc: 0.8256 - f1: 0.5655 - val_loss: 1.3478 - val_auc: 0.7423 - val_f1: 0.4962 - lr: 0.0010\n",
            "Epoch 23/300\n",
            "5/5 [==============================] - 0s 38ms/step - loss: 0.8854 - auc: 0.8341 - f1: 0.5548 - val_loss: 1.3211 - val_auc: 0.7524 - val_f1: 0.4942 - lr: 0.0010\n",
            "Epoch 24/300\n",
            "5/5 [==============================] - 0s 39ms/step - loss: 0.8765 - auc: 0.8355 - f1: 0.5643 - val_loss: 1.3321 - val_auc: 0.7498 - val_f1: 0.4842 - lr: 0.0010\n",
            "Epoch 25/300\n",
            "5/5 [==============================] - 0s 37ms/step - loss: 0.8547 - auc: 0.8342 - f1: 0.5629 - val_loss: 1.3597 - val_auc: 0.7427 - val_f1: 0.4845 - lr: 0.0010\n",
            "Epoch 26/300\n",
            "5/5 [==============================] - 0s 39ms/step - loss: 0.8144 - auc: 0.8336 - f1: 0.5660 - val_loss: 1.3459 - val_auc: 0.7465 - val_f1: 0.4924 - lr: 0.0010\n",
            "Epoch 27/300\n",
            "5/5 [==============================] - 0s 40ms/step - loss: 0.8085 - auc: 0.8398 - f1: 0.5551 - val_loss: 1.3305 - val_auc: 0.7503 - val_f1: 0.5031 - lr: 0.0010\n",
            "Epoch 28/300\n",
            "5/5 [==============================] - 0s 42ms/step - loss: 0.7767 - auc: 0.8490 - f1: 0.5790 - val_loss: 1.3327 - val_auc: 0.7477 - val_f1: 0.4988 - lr: 0.0010\n",
            "Epoch 29/300\n",
            "5/5 [==============================] - 0s 42ms/step - loss: 0.7660 - auc: 0.8541 - f1: 0.5801 - val_loss: 1.3386 - val_auc: 0.7425 - val_f1: 0.5017 - lr: 0.0010\n",
            "Epoch 30/300\n",
            "5/5 [==============================] - 0s 41ms/step - loss: 0.7663 - auc: 0.8474 - f1: 0.5695 - val_loss: 1.3505 - val_auc: 0.7398 - val_f1: 0.4994 - lr: 0.0010\n",
            "Epoch 31/300\n",
            "5/5 [==============================] - 0s 36ms/step - loss: 0.7198 - auc: 0.8560 - f1: 0.5786 - val_loss: 1.3398 - val_auc: 0.7450 - val_f1: 0.4943 - lr: 0.0010\n",
            "Epoch 32/300\n",
            "5/5 [==============================] - 0s 43ms/step - loss: 0.7154 - auc: 0.8548 - f1: 0.5798 - val_loss: 1.3324 - val_auc: 0.7424 - val_f1: 0.4891 - lr: 0.0010\n",
            "Epoch 33/300\n",
            "5/5 [==============================] - 0s 42ms/step - loss: 0.6969 - auc: 0.8553 - f1: 0.5829 - val_loss: 1.3361 - val_auc: 0.7399 - val_f1: 0.4862 - lr: 0.0010\n",
            "Epoch 34/300\n",
            "5/5 [==============================] - 0s 40ms/step - loss: 0.6833 - auc: 0.8619 - f1: 0.5916 - val_loss: 1.3510 - val_auc: 0.7423 - val_f1: 0.4958 - lr: 0.0010\n",
            "Epoch 35/300\n",
            "5/5 [==============================] - 0s 41ms/step - loss: 0.6595 - auc: 0.8532 - f1: 0.5836 - val_loss: 1.3528 - val_auc: 0.7413 - val_f1: 0.4879 - lr: 0.0010\n",
            "Epoch 36/300\n",
            "5/5 [==============================] - 0s 41ms/step - loss: 0.6826 - auc: 0.8528 - f1: 0.5748 - val_loss: 1.3527 - val_auc: 0.7402 - val_f1: 0.4777 - lr: 0.0010\n",
            "Epoch 37/300\n",
            "5/5 [==============================] - 0s 41ms/step - loss: 0.6500 - auc: 0.8582 - f1: 0.5800 - val_loss: 1.3481 - val_auc: 0.7400 - val_f1: 0.4879 - lr: 0.0010\n",
            "Epoch 38/300\n",
            "5/5 [==============================] - 0s 40ms/step - loss: 0.6542 - auc: 0.8542 - f1: 0.5778 - val_loss: 1.3496 - val_auc: 0.7403 - val_f1: 0.4793 - lr: 0.0010\n",
            "Epoch 39/300\n",
            "5/5 [==============================] - 0s 42ms/step - loss: 0.6244 - auc: 0.8607 - f1: 0.5875 - val_loss: 1.3560 - val_auc: 0.7378 - val_f1: 0.4841 - lr: 5.0000e-04\n",
            "Epoch 40/300\n",
            "5/5 [==============================] - 0s 43ms/step - loss: 0.6298 - auc: 0.8561 - f1: 0.5839 - val_loss: 1.3561 - val_auc: 0.7379 - val_f1: 0.4804 - lr: 5.0000e-04\n",
            "Epoch 41/300\n",
            "5/5 [==============================] - 0s 42ms/step - loss: 0.5953 - auc: 0.8638 - f1: 0.5910 - val_loss: 1.3573 - val_auc: 0.7386 - val_f1: 0.4804 - lr: 5.0000e-04\n",
            "Epoch 42/300\n",
            "5/5 [==============================] - 0s 40ms/step - loss: 0.6088 - auc: 0.8612 - f1: 0.5769 - val_loss: 1.3669 - val_auc: 0.7403 - val_f1: 0.4815 - lr: 5.0000e-04\n",
            "Epoch 43/300\n",
            "5/5 [==============================] - 0s 42ms/step - loss: 0.6015 - auc: 0.8565 - f1: 0.5789 - val_loss: 1.3612 - val_auc: 0.7405 - val_f1: 0.4754 - lr: 5.0000e-04\n",
            "Epoch 44/300\n",
            "5/5 [==============================] - 0s 40ms/step - loss: 0.5849 - auc: 0.8667 - f1: 0.6015 - val_loss: 1.3536 - val_auc: 0.7405 - val_f1: 0.4732 - lr: 5.0000e-04\n",
            "Epoch 45/300\n",
            "5/5 [==============================] - 0s 42ms/step - loss: 0.5904 - auc: 0.8673 - f1: 0.5905 - val_loss: 1.3557 - val_auc: 0.7399 - val_f1: 0.4758 - lr: 5.0000e-04\n",
            "Epoch 46/300\n",
            "5/5 [==============================] - 0s 41ms/step - loss: 0.5993 - auc: 0.8643 - f1: 0.5924 - val_loss: 1.3613 - val_auc: 0.7393 - val_f1: 0.4674 - lr: 5.0000e-04\n",
            "Epoch 47/300\n",
            "5/5 [==============================] - 0s 44ms/step - loss: 0.5821 - auc: 0.8613 - f1: 0.5833 - val_loss: 1.3686 - val_auc: 0.7394 - val_f1: 0.4674 - lr: 5.0000e-04\n",
            "Epoch 48/300\n",
            "5/5 [==============================] - 0s 40ms/step - loss: 0.5634 - auc: 0.8605 - f1: 0.5805 - val_loss: 1.3711 - val_auc: 0.7398 - val_f1: 0.4732 - lr: 5.0000e-04\n",
            "Epoch 49/300\n",
            "5/5 [==============================] - 0s 41ms/step - loss: 0.5650 - auc: 0.8686 - f1: 0.5943 - val_loss: 1.3811 - val_auc: 0.7378 - val_f1: 0.4674 - lr: 5.0000e-04\n",
            "Epoch 50/300\n",
            "5/5 [==============================] - 0s 40ms/step - loss: 0.5563 - auc: 0.8622 - f1: 0.5908 - val_loss: 1.3707 - val_auc: 0.7379 - val_f1: 0.4674 - lr: 5.0000e-04\n",
            "Epoch 51/300\n",
            "5/5 [==============================] - 0s 40ms/step - loss: 0.5507 - auc: 0.8714 - f1: 0.5942 - val_loss: 1.3714 - val_auc: 0.7362 - val_f1: 0.4674 - lr: 5.0000e-04\n",
            "Epoch 52/300\n",
            "5/5 [==============================] - 0s 38ms/step - loss: 0.5575 - auc: 0.8680 - f1: 0.5912 - val_loss: 1.3757 - val_auc: 0.7373 - val_f1: 0.4663 - lr: 5.0000e-04\n",
            "Epoch 53/300\n",
            "5/5 [==============================] - 0s 38ms/step - loss: 0.5323 - auc: 0.8685 - f1: 0.6045 - val_loss: 1.3872 - val_auc: 0.7331 - val_f1: 0.4674 - lr: 5.0000e-04\n"
          ]
        }
      ],
      "source": [
        "# 建立模型儲存資料夾\n",
        "model_dir = f\"{my_working_root}/model/unisexMLP_sex1\"  # <-- 指定模型儲存的資料夾\n",
        "os.makedirs(model_dir, exist_ok=True)\n",
        "\n",
        "# Define callbacks\n",
        "mc = callbacks.ModelCheckpoint(filepath= model_dir + '/best_model.h5', \n",
        "                               monitor='val_f1', mode='max', save_best_only=True)\n",
        "rl = callbacks.ReduceLROnPlateau(monitor='val_loss', mode='min', factor=0.5, patience=15)\n",
        "es = callbacks.EarlyStopping(monitor='val_loss', mode='min', patience=30)\n",
        "\n",
        "# 開始訓練\n",
        "EPOCHS = 300\n",
        "history = model.fit(train_generator, \n",
        "                    epochs=EPOCHS, \n",
        "                    validation_data=valid_generator, \n",
        "                    callbacks=[mc, rl, es], \n",
        "                    )"
      ]
    },
    {
      "cell_type": "code",
      "execution_count": 27,
      "metadata": {
        "colab": {
          "base_uri": "https://localhost:8080/",
          "height": 356
        },
        "id": "-McPZyROjI1h",
        "outputId": "5d2ca250-143d-4661-8b2e-e79aa90313ee"
      },
      "outputs": [
        {
          "data": {
            "image/png": "[encoded data removed]",
            "text/plain": [
              "<Figure size 1500x400 with 3 Axes>"
            ]
          },
          "metadata": {},
          "output_type": "display_data"
        }
      ],
      "source": [
        "#@title 訓練曲線\n",
        "plt.rcParams.update({'font.size': 8})\n",
        "fig, (ax1, ax2, ax3) = plt.subplots(1, 3, figsize=(15, 4))\n",
        "\n",
        "# Plot training & validation accuracy values\n",
        "ax1.plot(history.history['loss'])\n",
        "ax1.plot(history.history['val_loss'])\n",
        "ax1.set_title('loss')\n",
        "ax1.set(ylabel='loss', xlabel='Epoch')\n",
        "ax1.legend(['Train', 'Valid'], loc='lower left')\n",
        "\n",
        "# Plot training & validation loss values\n",
        "ax2.plot(history.history['auc'])\n",
        "ax2.plot(history.history['val_auc'])\n",
        "ax2.set_title('AUC')\n",
        "ax2.set(ylabel='AUC', xlabel='Epoch')\n",
        "ax2.legend(['Train', 'Valid'], loc='upper left')\n",
        "\n",
        "# Plot training & validation F1-score values\n",
        "ax3.plot(history.history['f1'])\n",
        "ax3.plot(history.history['val_f1'])\n",
        "ax3.set_title('F1-score')\n",
        "ax3.set(ylabel='F1-score', xlabel='Epoch')\n",
        "ax3.legend(['Train', 'Valid'], loc='upper left')\n",
        "\n",
        "plt.show()"
      ]
    },
    {
      "cell_type": "code",
      "execution_count": 28,
      "metadata": {
        "id": "GWlhzLEqjjqG"
      },
      "outputs": [
        {
          "name": "stderr",
          "output_type": "stream",
          "text": [
            "/Library/Frameworks/Python.framework/Versions/3.11/lib/python3.11/site-packages/keras/src/engine/training.py:3000: UserWarning: You are saving your model as an HDF5 file via `model.save()`. This file format is considered legacy. We recommend using instead the native Keras format, e.g. `model.save('my_model.keras')`.\n",
            "  saving_api.save_model(\n"
          ]
        }
      ],
      "source": [
        "# 儲存模型 save model\n",
        "h5_file_path = model_dir + \"/epoch_end.h5\"\n",
        "model.save(h5_file_path)"
      ]
    },
    {
      "cell_type": "markdown",
      "metadata": {
        "id": "Duo-PQmTrKeE"
      },
      "source": [
        "# 4 評估 Evaluation"
      ]
    },
    {
      "cell_type": "code",
      "execution_count": 29,
      "metadata": {
        "id": "3WqBGIYsrKeE"
      },
      "outputs": [],
      "source": [
        "# 讀取模型存檔\n",
        "h5_file_path = model_dir + \"/best_model.h5\"\n",
        "# h5_file_path = model_dir + \"/epoch_end.h5\"\n",
        "model = load_model(h5_file_path, compile=False)"
      ]
    },
    {
      "cell_type": "code",
      "execution_count": 30,
      "metadata": {
        "colab": {
          "base_uri": "https://localhost:8080/"
        },
        "id": "3v0qS9hurKeE",
        "outputId": "da8624e9-36e3-431d-b728-36f2a03b6de9"
      },
      "outputs": [
        {
          "name": "stdout",
          "output_type": "stream",
          "text": [
            "..Done!\n",
            "y_true shape: (76, 5)\n",
            "y_pred shape: (76, 5)\n"
          ]
        }
      ],
      "source": [
        "# 預測 驗證集 predict valid_set eagerly\n",
        "y_true = []\n",
        "y_pred = []\n",
        "for x, y in valid_generator:\n",
        "    y_true.append(y)\n",
        "    pred = model(x, training=False).numpy()\n",
        "    y_pred.append(pred)\n",
        "    print(\".\", end=\"\")\n",
        "print(\"Done!\")\n",
        "\n",
        "y_true = np.concatenate(y_true)\n",
        "y_pred = np.concatenate(y_pred)\n",
        "print(\"y_true shape:\", y_true.shape)\n",
        "print(\"y_pred shape:\", y_pred.shape)"
      ]
    },
    {
      "cell_type": "code",
      "execution_count": 31,
      "metadata": {
        "cellView": "form",
        "colab": {
          "base_uri": "https://localhost:8080/",
          "height": 552
        },
        "id": "zXuMS-dJrKeE",
        "outputId": "9363fdd8-f245-4260-bcb8-f9da2e6a593e"
      },
      "outputs": [
        {
          "data": {
            "image/png": "[encoded data removed]",
            "text/plain": [
              "<Figure size 600x600 with 1 Axes>"
            ]
          },
          "metadata": {},
          "output_type": "display_data"
        }
      ],
      "source": [
        "#@title 畫出 ROC曲線\n",
        "#@markdown https://zh.wikipedia.org/zh-tw/ROC%E6%9B%B2%E7%BA%BF\n",
        "micro_avg = True  #@param {type:\"boolean\"}\n",
        "marco_avg = False  #@param {type:\"boolean\"}\n",
        "\n",
        "# 分別算出每一類別的 FPR(假陽率) TPR(真陽率) AUC(roc_curve底下的面積)\n",
        "N_CLASSES = len(CLASSES)\n",
        "fpr = dict()\n",
        "tpr = dict()\n",
        "lw = 2\n",
        "roc_auc = dict()\n",
        "for i in range(N_CLASSES):\n",
        "    fpr[i], tpr[i], _ = roc_curve(y_true[:, i], y_pred[:, i])\n",
        "    roc_auc[i] = auc(fpr[i], tpr[i])\n",
        "\n",
        "if micro_avg == True:\n",
        "    # 計算 微觀平均曲線\n",
        "    # Compute micro-average ROC curve and ROC area\n",
        "    fpr[\"micro\"], tpr[\"micro\"], _ = roc_curve(y_true.ravel(), y_pred.ravel())\n",
        "    roc_auc[\"micro\"] = auc(fpr[\"micro\"], tpr[\"micro\"])\n",
        "\n",
        "if marco_avg == True:\n",
        "    # 計算 宏觀平均曲線\n",
        "    # Compute macro-average ROC curve and ROC area\n",
        "    \n",
        "    lw = 2\n",
        "    # First aggregate all false positive rates\n",
        "    all_fpr = np.unique(np.concatenate([fpr[i] for i in range(N_CLASSES)]))\n",
        "\n",
        "    # Then interpolate all ROC curves at this points\n",
        "    mean_tpr = np.zeros_like(all_fpr)\n",
        "    for i in range(N_CLASSES):\n",
        "        mean_tpr += interp(all_fpr, fpr[i], tpr[i])\n",
        "\n",
        "    # Finally average it and compute AUC\n",
        "    mean_tpr /= N_CLASSES\n",
        "\n",
        "    fpr[\"macro\"] = all_fpr\n",
        "    tpr[\"macro\"] = mean_tpr\n",
        "    roc_auc[\"macro\"] = auc(fpr[\"macro\"], tpr[\"macro\"])\n",
        "    \n",
        "\n",
        "#### 畫出所有 ROC 曲線 ####\n",
        "plt.rcParams.update({'font.size': 8})\n",
        "fig = plt.figure(figsize=(6,6))\n",
        "ax = fig.add_subplot(111)\n",
        "\n",
        "if micro_avg == True:\n",
        "    plt.plot(fpr[\"micro\"], tpr[\"micro\"],\n",
        "            label='micro-average ROC curve (area = {0:0.2f})'\n",
        "                ''.format(roc_auc[\"micro\"]),\n",
        "            color='deeppink', linestyle=':', linewidth=4)\n",
        "\n",
        "if marco_avg == True:\n",
        "    plt.plot(fpr[\"macro\"], tpr[\"macro\"],\n",
        "            label='macro-average ROC curve (area = {0:0.2f})'\n",
        "                ''.format(roc_auc[\"macro\"]),\n",
        "            color='navy', linestyle=':', linewidth=4)\n",
        "\n",
        "colors = cycle(['cornflowerblue', 'green', 'darkorange', 'red'])\n",
        "for i, color in zip(range(N_CLASSES), colors):\n",
        "    ax.plot(fpr[i], tpr[i], color=color, lw=lw,\n",
        "             label='ROC curve: {0}\\n(area = {1:0.2f})'\n",
        "             ''.format(CLASSES[i], roc_auc[i]))\n",
        "\n",
        "ax.plot([0, 1], [0, 1], 'k--', lw=lw)\n",
        "ax.set(xlim=(0.0, 1.0), ylim=(0.0, 1.0))\n",
        "ax.axis('equal')\n",
        "ax.set_xlabel('False Positive Rate (1-specificity)')\n",
        "ax.set_ylabel('True Positive Rate (sensitivity)')\n",
        "ax.set_title('Some extension of Receiver operating characteristic to multi-class')\n",
        "ax.legend(loc=\"lower right\")\n",
        "plt.show()"
      ]
    },
    {
      "cell_type": "code",
      "execution_count": 32,
      "metadata": {
        "colab": {
          "base_uri": "https://localhost:8080/",
          "height": 1000
        },
        "id": "SSo-A3sHrKeE",
        "outputId": "2f0e82cd-988b-46ec-c6c4-d6e060f91987"
      },
      "outputs": [
        {
          "data": {
            "text/plain": [
              "<Figure size 640x480 with 0 Axes>"
            ]
          },
          "metadata": {},
          "output_type": "display_data"
        },
        {
          "data": {
            "image/png": "[encoded data removed]",
            "text/plain": [
              "<Figure size 500x500 with 1 Axes>"
            ]
          },
          "metadata": {},
          "output_type": "display_data"
        },
        {
          "data": {
            "text/plain": [
              "<Figure size 640x480 with 0 Axes>"
            ]
          },
          "metadata": {},
          "output_type": "display_data"
        },
        {
          "data": {
            "image/png": "[encoded data removed]",
            "text/plain": [
              "<Figure size 500x500 with 1 Axes>"
            ]
          },
          "metadata": {},
          "output_type": "display_data"
        }
      ],
      "source": [
        "#@title 畫出 混淆矩陣 confusion matrix\n",
        "class_names = CLASSES\n",
        "plt.rcParams.update({'font.size': 8})\n",
        "\n",
        "def plot_confusion_matrix(cm, classes,\n",
        "                          normalize=False,\n",
        "                          title='Confusion matrix',\n",
        "                          cmap=plt.cm.Blues):\n",
        "    \"\"\"\n",
        "    This function prints and plots the confusion matrix.\n",
        "    Normalization can be applied by setting `normalize=True`.\n",
        "    \"\"\"\n",
        "    if normalize:\n",
        "        cm = cm.astype('float') / cm.sum(axis=1)[:, np.newaxis]\n",
        "#         print(\"Normalized confusion matrix\")\n",
        "    else:\n",
        "#         print('Confusion matrix, without normalization')\n",
        "        pass\n",
        "#     print(cm)\n",
        "\n",
        "    fig = plt.figure(figsize=(5,5))\n",
        "    ax = fig.add_subplot(111)\n",
        "    ax.imshow(cm, interpolation='nearest', cmap=cmap)\n",
        "    ax.set_title(title)\n",
        "#     plt.colorbar()\n",
        "    tick_marks = np.arange(len(classes))\n",
        "    ax.axis('equal')\n",
        "    plt.xticks(tick_marks, classes, rotation='vertical')\n",
        "    plt.yticks(tick_marks, classes)\n",
        "\n",
        "    fmt = '.4f' if normalize else 'd'\n",
        "    thresh = cm.max() / 2.\n",
        "    for i, j in product(range(cm.shape[0]), range(cm.shape[1])):\n",
        "        ax.text(j, i, format(cm[i, j], fmt),\n",
        "                 horizontalalignment=\"center\",\n",
        "                 color=\"white\" if cm[i, j] > thresh else \"black\")\n",
        "\n",
        "    ax.set_ylabel('Reference')\n",
        "    ax.set_xlabel('Predicted')\n",
        "    plt.tight_layout()\n",
        "\n",
        "# Compute confusion matrix\n",
        "cnf_matrix = confusion_matrix(y_true.argmax(axis=1), y_pred.argmax(axis=1))  #\n",
        "np.set_printoptions(precision=2)\n",
        "\n",
        "# Plot non-normalized confusion matrix and savefig\n",
        "plt.figure()\n",
        "plot_confusion_matrix(cnf_matrix, classes=class_names,\n",
        "                      title='Confusion matrix, without normalization')\n",
        "plt.show()\n",
        "# Plot normalized confusion matrix and savefig\n",
        "plt.figure()\n",
        "plot_confusion_matrix(cnf_matrix, classes=class_names, normalize=True,\n",
        "                      title='Normalized confusion matrix')\n",
        "plt.show()"
      ]
    },
    {
      "cell_type": "code",
      "execution_count": 33,
      "metadata": {
        "colab": {
          "base_uri": "https://localhost:8080/"
        },
        "id": "XQPUp-RarKeE",
        "outputId": "83257499-447c-4083-91f2-0af8bdf5fc1d"
      },
      "outputs": [
        {
          "name": "stdout",
          "output_type": "stream",
          "text": [
            "                            precision    recall  f1-score   support\n",
            "\n",
            "               Phonotrauma     0.5294    0.3214    0.4000        28\n",
            "Incomplete glottic closure     0.4762    0.4348    0.4545        23\n",
            "               Vocal palsy     0.5625    0.5625    0.5625        16\n",
            "                  Neoplasm     0.0000    0.0000    0.0000         7\n",
            "                    Normal     0.0909    0.5000    0.1538         2\n",
            "\n",
            "                  accuracy                         0.3816        76\n",
            "                 macro avg     0.3318    0.3637    0.3142        76\n",
            "              weighted avg     0.4600    0.3816    0.4074        76\n",
            "\n"
          ]
        }
      ],
      "source": [
        "#@title 多分類報告 classification report\n",
        "report = classification_report(y_true.argmax(axis=1), y_pred.argmax(axis=1), target_names=CLASSES, digits=4)\n",
        "print(report)"
      ]
    },
    {
      "cell_type": "code",
      "execution_count": 34,
      "metadata": {
        "colab": {
          "base_uri": "https://localhost:8080/"
        },
        "id": "g-yuY8dHrKeF",
        "outputId": "d33dd135-e3f3-4ac4-fe28-2fe025675f03"
      },
      "outputs": [
        {
          "name": "stdout",
          "output_type": "stream",
          "text": [
            "Validation UAR (Unweighted Average Recall) : 0.3637422360248447\n"
          ]
        }
      ],
      "source": [
        "#@title UAR (Unweighted Average Recall)\n",
        "uar = recall_score(y_true.argmax(axis=1), y_pred.argmax(axis=1), average='macro')\n",
        "print(\"Validation UAR (Unweighted Average Recall) :\", uar)"
      ]
    },
    {
      "cell_type": "markdown",
      "metadata": {
        "id": "pS3Vz2b-Dl9Q"
      },
      "source": [
        "# 5 預測 Prediction\n",
        "對測試資料作答 (public dataset / private dataset)"
      ]
    },
    {
      "cell_type": "code",
      "execution_count": 36,
      "metadata": {
        "id": "N2rIf5eFlG8Z"
      },
      "outputs": [],
      "source": [
        "# 讀取資料表\n",
        "# df = pd.read_csv(\"/content/gdrive/Shareddrives/1112_AI智慧醫療三日工作坊/教材/Public Testing Dataset/test_datalist_public.csv\")\n",
        "df = pd.read_csv(\"/Users/zhongyongting/1112/ai_workshop/Data/Private Testing Dataset/test_datalist_public+private.csv\")\n",
        "df = df.loc[df['Sex'] == 1]"
      ]
    },
    {
      "cell_type": "code",
      "execution_count": 37,
      "metadata": {
        "colab": {
          "base_uri": "https://localhost:8080/"
        },
        "id": "nrXCcgfzhIKc",
        "outputId": "7df4e238-6a1f-4728-f2a9-439f16f96c1f"
      },
      "outputs": [
        {
          "name": "stdout",
          "output_type": "stream",
          "text": [
            "<class 'pandas.core.frame.DataFrame'>\n",
            "Int64Index: 387 entries, 1 to 998\n",
            "Data columns (total 27 columns):\n",
            " #   Column                     Non-Null Count  Dtype  \n",
            "---  ------                     --------------  -----  \n",
            " 0   ID                         387 non-null    object \n",
            " 1   Sex                        387 non-null    int64  \n",
            " 2   Age                        387 non-null    int64  \n",
            " 3   Narrow pitch range         387 non-null    int64  \n",
            " 4   Decreased volume           387 non-null    int64  \n",
            " 5   Fatigue                    387 non-null    int64  \n",
            " 6   Dryness                    387 non-null    int64  \n",
            " 7   Lumping                    387 non-null    int64  \n",
            " 8   heartburn                  387 non-null    int64  \n",
            " 9   Choking                    387 non-null    int64  \n",
            " 10  Eye dryness                387 non-null    int64  \n",
            " 11  PND                        387 non-null    int64  \n",
            " 12  Smoking                    387 non-null    int64  \n",
            " 13  PPD                        71 non-null     float64\n",
            " 14  Drinking                   387 non-null    int64  \n",
            " 15  frequency                  387 non-null    int64  \n",
            " 16  Diurnal pattern            387 non-null    int64  \n",
            " 17  Onset of dysphonia         387 non-null    int64  \n",
            " 18  Noise at work              387 non-null    int64  \n",
            " 19  Occupational vocal demand  387 non-null    int64  \n",
            " 20  Diabetes                   387 non-null    int64  \n",
            " 21  Hypertension               387 non-null    int64  \n",
            " 22  CAD                        387 non-null    int64  \n",
            " 23  Head and Neck Cancer       387 non-null    int64  \n",
            " 24  Head injury                387 non-null    int64  \n",
            " 25  CVA                        387 non-null    int64  \n",
            " 26  Voice handicap index - 10  383 non-null    float64\n",
            "dtypes: float64(2), int64(24), object(1)\n",
            "memory usage: 84.7+ KB\n"
          ]
        }
      ],
      "source": [
        "df.info()"
      ]
    },
    {
      "cell_type": "code",
      "execution_count": 38,
      "metadata": {
        "colab": {
          "base_uri": "https://localhost:8080/",
          "height": 522
        },
        "id": "H4034auSlxTd",
        "outputId": "eaaa90fc-f14d-4f2e-cbed-72faecf238d6"
      },
      "outputs": [
        {
          "data": {
            "text/html": [
              "<div>\n",
              "<style scoped>\n",
              "    .dataframe tbody tr th:only-of-type {\n",
              "        vertical-align: middle;\n",
              "    }\n",
              "\n",
              "    .dataframe tbody tr th {\n",
              "        vertical-align: top;\n",
              "    }\n",
              "\n",
              "    .dataframe thead th {\n",
              "        text-align: right;\n",
              "    }\n",
              "</style>\n",
              "<table border=\"1\" class=\"dataframe\">\n",
              "  <thead>\n",
              "    <tr style=\"text-align: right;\">\n",
              "      <th></th>\n",
              "      <th>ID</th>\n",
              "      <th>Age</th>\n",
              "      <th>Narrow pitch range</th>\n",
              "      <th>Decreased volume</th>\n",
              "      <th>Fatigue</th>\n",
              "      <th>Dryness</th>\n",
              "      <th>Lumping</th>\n",
              "      <th>heartburn</th>\n",
              "      <th>Choking</th>\n",
              "      <th>Eye dryness</th>\n",
              "      <th>...</th>\n",
              "      <th>Onset of dysphonia _1</th>\n",
              "      <th>Onset of dysphonia _2</th>\n",
              "      <th>Onset of dysphonia _3</th>\n",
              "      <th>Onset of dysphonia _4</th>\n",
              "      <th>Onset of dysphonia _5</th>\n",
              "      <th>Occupational vocal demand_1</th>\n",
              "      <th>Occupational vocal demand_2</th>\n",
              "      <th>Occupational vocal demand_3</th>\n",
              "      <th>Occupational vocal demand_4</th>\n",
              "      <th>Occupational vocal demand</th>\n",
              "    </tr>\n",
              "  </thead>\n",
              "  <tbody>\n",
              "    <tr>\n",
              "      <th>1</th>\n",
              "      <td>1100j0u</td>\n",
              "      <td>0.50</td>\n",
              "      <td>0</td>\n",
              "      <td>0</td>\n",
              "      <td>0</td>\n",
              "      <td>0</td>\n",
              "      <td>0</td>\n",
              "      <td>0</td>\n",
              "      <td>0</td>\n",
              "      <td>0</td>\n",
              "      <td>...</td>\n",
              "      <td>1</td>\n",
              "      <td>0</td>\n",
              "      <td>0</td>\n",
              "      <td>0</td>\n",
              "      <td>0</td>\n",
              "      <td>0</td>\n",
              "      <td>1</td>\n",
              "      <td>0</td>\n",
              "      <td>0</td>\n",
              "      <td>0.666667</td>\n",
              "    </tr>\n",
              "    <tr>\n",
              "      <th>2</th>\n",
              "      <td>0G00r5c</td>\n",
              "      <td>0.41</td>\n",
              "      <td>1</td>\n",
              "      <td>1</td>\n",
              "      <td>0</td>\n",
              "      <td>0</td>\n",
              "      <td>0</td>\n",
              "      <td>0</td>\n",
              "      <td>0</td>\n",
              "      <td>1</td>\n",
              "      <td>...</td>\n",
              "      <td>0</td>\n",
              "      <td>0</td>\n",
              "      <td>0</td>\n",
              "      <td>0</td>\n",
              "      <td>1</td>\n",
              "      <td>0</td>\n",
              "      <td>0</td>\n",
              "      <td>1</td>\n",
              "      <td>0</td>\n",
              "      <td>0.333333</td>\n",
              "    </tr>\n",
              "    <tr>\n",
              "      <th>5</th>\n",
              "      <td>1302gp2</td>\n",
              "      <td>0.50</td>\n",
              "      <td>1</td>\n",
              "      <td>1</td>\n",
              "      <td>1</td>\n",
              "      <td>0</td>\n",
              "      <td>1</td>\n",
              "      <td>0</td>\n",
              "      <td>0</td>\n",
              "      <td>0</td>\n",
              "      <td>...</td>\n",
              "      <td>0</td>\n",
              "      <td>0</td>\n",
              "      <td>1</td>\n",
              "      <td>0</td>\n",
              "      <td>0</td>\n",
              "      <td>1</td>\n",
              "      <td>0</td>\n",
              "      <td>0</td>\n",
              "      <td>0</td>\n",
              "      <td>1.000000</td>\n",
              "    </tr>\n",
              "    <tr>\n",
              "      <th>6</th>\n",
              "      <td>0T00ted</td>\n",
              "      <td>0.31</td>\n",
              "      <td>1</td>\n",
              "      <td>1</td>\n",
              "      <td>1</td>\n",
              "      <td>1</td>\n",
              "      <td>0</td>\n",
              "      <td>1</td>\n",
              "      <td>1</td>\n",
              "      <td>1</td>\n",
              "      <td>...</td>\n",
              "      <td>0</td>\n",
              "      <td>1</td>\n",
              "      <td>0</td>\n",
              "      <td>0</td>\n",
              "      <td>0</td>\n",
              "      <td>1</td>\n",
              "      <td>0</td>\n",
              "      <td>0</td>\n",
              "      <td>0</td>\n",
              "      <td>1.000000</td>\n",
              "    </tr>\n",
              "    <tr>\n",
              "      <th>9</th>\n",
              "      <td>0W00632</td>\n",
              "      <td>0.60</td>\n",
              "      <td>0</td>\n",
              "      <td>0</td>\n",
              "      <td>0</td>\n",
              "      <td>1</td>\n",
              "      <td>1</td>\n",
              "      <td>0</td>\n",
              "      <td>0</td>\n",
              "      <td>1</td>\n",
              "      <td>...</td>\n",
              "      <td>0</td>\n",
              "      <td>0</td>\n",
              "      <td>1</td>\n",
              "      <td>0</td>\n",
              "      <td>0</td>\n",
              "      <td>0</td>\n",
              "      <td>0</td>\n",
              "      <td>1</td>\n",
              "      <td>0</td>\n",
              "      <td>0.333333</td>\n",
              "    </tr>\n",
              "    <tr>\n",
              "      <th>...</th>\n",
              "      <td>...</td>\n",
              "      <td>...</td>\n",
              "      <td>...</td>\n",
              "      <td>...</td>\n",
              "      <td>...</td>\n",
              "      <td>...</td>\n",
              "      <td>...</td>\n",
              "      <td>...</td>\n",
              "      <td>...</td>\n",
              "      <td>...</td>\n",
              "      <td>...</td>\n",
              "      <td>...</td>\n",
              "      <td>...</td>\n",
              "      <td>...</td>\n",
              "      <td>...</td>\n",
              "      <td>...</td>\n",
              "      <td>...</td>\n",
              "      <td>...</td>\n",
              "      <td>...</td>\n",
              "      <td>...</td>\n",
              "      <td>...</td>\n",
              "    </tr>\n",
              "    <tr>\n",
              "      <th>988</th>\n",
              "      <td>1001gh1</td>\n",
              "      <td>0.66</td>\n",
              "      <td>0</td>\n",
              "      <td>0</td>\n",
              "      <td>0</td>\n",
              "      <td>0</td>\n",
              "      <td>0</td>\n",
              "      <td>0</td>\n",
              "      <td>0</td>\n",
              "      <td>0</td>\n",
              "      <td>...</td>\n",
              "      <td>0</td>\n",
              "      <td>0</td>\n",
              "      <td>1</td>\n",
              "      <td>0</td>\n",
              "      <td>0</td>\n",
              "      <td>0</td>\n",
              "      <td>1</td>\n",
              "      <td>0</td>\n",
              "      <td>0</td>\n",
              "      <td>0.666667</td>\n",
              "    </tr>\n",
              "    <tr>\n",
              "      <th>989</th>\n",
              "      <td>0W00t01</td>\n",
              "      <td>0.63</td>\n",
              "      <td>0</td>\n",
              "      <td>0</td>\n",
              "      <td>0</td>\n",
              "      <td>0</td>\n",
              "      <td>0</td>\n",
              "      <td>0</td>\n",
              "      <td>0</td>\n",
              "      <td>0</td>\n",
              "      <td>...</td>\n",
              "      <td>1</td>\n",
              "      <td>0</td>\n",
              "      <td>0</td>\n",
              "      <td>0</td>\n",
              "      <td>0</td>\n",
              "      <td>0</td>\n",
              "      <td>1</td>\n",
              "      <td>0</td>\n",
              "      <td>0</td>\n",
              "      <td>0.666667</td>\n",
              "    </tr>\n",
              "    <tr>\n",
              "      <th>993</th>\n",
              "      <td>1002jv1</td>\n",
              "      <td>0.25</td>\n",
              "      <td>0</td>\n",
              "      <td>1</td>\n",
              "      <td>1</td>\n",
              "      <td>0</td>\n",
              "      <td>1</td>\n",
              "      <td>0</td>\n",
              "      <td>0</td>\n",
              "      <td>0</td>\n",
              "      <td>...</td>\n",
              "      <td>0</td>\n",
              "      <td>1</td>\n",
              "      <td>0</td>\n",
              "      <td>0</td>\n",
              "      <td>0</td>\n",
              "      <td>0</td>\n",
              "      <td>1</td>\n",
              "      <td>0</td>\n",
              "      <td>0</td>\n",
              "      <td>0.666667</td>\n",
              "    </tr>\n",
              "    <tr>\n",
              "      <th>997</th>\n",
              "      <td>0W011bi</td>\n",
              "      <td>0.44</td>\n",
              "      <td>0</td>\n",
              "      <td>1</td>\n",
              "      <td>1</td>\n",
              "      <td>1</td>\n",
              "      <td>1</td>\n",
              "      <td>1</td>\n",
              "      <td>0</td>\n",
              "      <td>0</td>\n",
              "      <td>...</td>\n",
              "      <td>0</td>\n",
              "      <td>0</td>\n",
              "      <td>1</td>\n",
              "      <td>0</td>\n",
              "      <td>0</td>\n",
              "      <td>1</td>\n",
              "      <td>0</td>\n",
              "      <td>0</td>\n",
              "      <td>0</td>\n",
              "      <td>1.000000</td>\n",
              "    </tr>\n",
              "    <tr>\n",
              "      <th>998</th>\n",
              "      <td>0R00num</td>\n",
              "      <td>0.63</td>\n",
              "      <td>0</td>\n",
              "      <td>0</td>\n",
              "      <td>1</td>\n",
              "      <td>1</td>\n",
              "      <td>0</td>\n",
              "      <td>0</td>\n",
              "      <td>1</td>\n",
              "      <td>0</td>\n",
              "      <td>...</td>\n",
              "      <td>0</td>\n",
              "      <td>1</td>\n",
              "      <td>0</td>\n",
              "      <td>0</td>\n",
              "      <td>0</td>\n",
              "      <td>0</td>\n",
              "      <td>1</td>\n",
              "      <td>0</td>\n",
              "      <td>0</td>\n",
              "      <td>0.666667</td>\n",
              "    </tr>\n",
              "  </tbody>\n",
              "</table>\n",
              "<p>387 rows × 41 columns</p>\n",
              "</div>"
            ],
            "text/plain": [
              "          ID   Age  Narrow pitch range  Decreased volume  Fatigue  Dryness  \\\n",
              "1    1100j0u  0.50                   0                 0        0        0   \n",
              "2    0G00r5c  0.41                   1                 1        0        0   \n",
              "5    1302gp2  0.50                   1                 1        1        0   \n",
              "6    0T00ted  0.31                   1                 1        1        1   \n",
              "9    0W00632  0.60                   0                 0        0        1   \n",
              "..       ...   ...                 ...               ...      ...      ...   \n",
              "988  1001gh1  0.66                   0                 0        0        0   \n",
              "989  0W00t01  0.63                   0                 0        0        0   \n",
              "993  1002jv1  0.25                   0                 1        1        0   \n",
              "997  0W011bi  0.44                   0                 1        1        1   \n",
              "998  0R00num  0.63                   0                 0        1        1   \n",
              "\n",
              "     Lumping  heartburn  Choking  Eye dryness  ...  Onset of dysphonia _1  \\\n",
              "1          0          0        0            0  ...                      1   \n",
              "2          0          0        0            1  ...                      0   \n",
              "5          1          0        0            0  ...                      0   \n",
              "6          0          1        1            1  ...                      0   \n",
              "9          1          0        0            1  ...                      0   \n",
              "..       ...        ...      ...          ...  ...                    ...   \n",
              "988        0          0        0            0  ...                      0   \n",
              "989        0          0        0            0  ...                      1   \n",
              "993        1          0        0            0  ...                      0   \n",
              "997        1          1        0            0  ...                      0   \n",
              "998        0          0        1            0  ...                      0   \n",
              "\n",
              "     Onset of dysphonia _2  Onset of dysphonia _3  Onset of dysphonia _4  \\\n",
              "1                        0                      0                      0   \n",
              "2                        0                      0                      0   \n",
              "5                        0                      1                      0   \n",
              "6                        1                      0                      0   \n",
              "9                        0                      1                      0   \n",
              "..                     ...                    ...                    ...   \n",
              "988                      0                      1                      0   \n",
              "989                      0                      0                      0   \n",
              "993                      1                      0                      0   \n",
              "997                      0                      1                      0   \n",
              "998                      1                      0                      0   \n",
              "\n",
              "     Onset of dysphonia _5  Occupational vocal demand_1  \\\n",
              "1                        0                            0   \n",
              "2                        1                            0   \n",
              "5                        0                            1   \n",
              "6                        0                            1   \n",
              "9                        0                            0   \n",
              "..                     ...                          ...   \n",
              "988                      0                            0   \n",
              "989                      0                            0   \n",
              "993                      0                            0   \n",
              "997                      0                            1   \n",
              "998                      0                            0   \n",
              "\n",
              "     Occupational vocal demand_2  Occupational vocal demand_3  \\\n",
              "1                              1                            0   \n",
              "2                              0                            1   \n",
              "5                              0                            0   \n",
              "6                              0                            0   \n",
              "9                              0                            1   \n",
              "..                           ...                          ...   \n",
              "988                            1                            0   \n",
              "989                            1                            0   \n",
              "993                            1                            0   \n",
              "997                            0                            0   \n",
              "998                            1                            0   \n",
              "\n",
              "     Occupational vocal demand_4  Occupational vocal demand  \n",
              "1                              0                   0.666667  \n",
              "2                              0                   0.333333  \n",
              "5                              0                   1.000000  \n",
              "6                              0                   1.000000  \n",
              "9                              0                   0.333333  \n",
              "..                           ...                        ...  \n",
              "988                            0                   0.666667  \n",
              "989                            0                   0.666667  \n",
              "993                            0                   0.666667  \n",
              "997                            0                   1.000000  \n",
              "998                            0                   0.666667  \n",
              "\n",
              "[387 rows x 41 columns]"
            ]
          },
          "execution_count": 38,
          "metadata": {},
          "output_type": "execute_result"
        }
      ],
      "source": [
        "# 1.1 清理缺失值\n",
        "df['PPD'] = df['PPD'].fillna(0)  # 缺值補0\n",
        "df.loc[df['Voice handicap index - 10'].isna(), 'Voice handicap index - 10'] = 23  # 缺值補23(中位數)\n",
        "# 1.2 處理 類別變項 (Categorical Feature) --> one-hot encoding\n",
        "categorical_columns = ['Sex', 'Smoking', 'Diurnal pattern', 'Onset of dysphonia ', 'Occupational vocal demand']\n",
        "df_trans = pd.get_dummies(df, columns=categorical_columns)\n",
        "# 1.3 處理 連續變項 (Continuous Feature)\n",
        "df_trans['Age'] = df['Age'] / 100\n",
        "df_trans['PPD'] = df['PPD'] / 2\n",
        "df_trans['Drinking'] = df['Drinking'] / 2\n",
        "df_trans['frequency'] = df['frequency'] / 3\n",
        "df_trans['Noise at work'] = (df['Noise at work'] - 1) / 2\n",
        "df_trans['Occupational vocal demand'] = (4 - df['Occupational vocal demand']) / 3\n",
        "df_trans['Voice handicap index - 10'] = df['Voice handicap index - 10'] / 40\n",
        "df_trans"
      ]
    },
    {
      "cell_type": "code",
      "execution_count": 39,
      "metadata": {
        "colab": {
          "base_uri": "https://localhost:8080/"
        },
        "id": "4c4uctedl5nv",
        "outputId": "fb7f83a3-b1b8-4a53-fad2-1cfb1b43b65f"
      },
      "outputs": [
        {
          "name": "stdout",
          "output_type": "stream",
          "text": [
            "特徵欄位數量 = 40\n"
          ]
        }
      ],
      "source": [
        "# 特徵欄位 (必須與訓練資料的順序相同)\n",
        "feature_columns = ['Age', 'Narrow pitch range', 'Decreased volume', 'Fatigue',\n",
        "       'Dryness', 'Lumping', 'heartburn', 'Choking', 'Eye dryness', 'PND',\n",
        "       'PPD', 'Drinking', 'frequency', 'Noise at work', 'Diabetes',\n",
        "       'Hypertension', 'CAD', 'Head and Neck Cancer', 'Head injury', 'CVA',\n",
        "       'Voice handicap index - 10', 'Sex_1', 'Smoking_0', 'Smoking_1',\n",
        "       'Smoking_2', 'Smoking_3', 'Diurnal pattern_1', 'Diurnal pattern_2',\n",
        "       'Diurnal pattern_3', 'Diurnal pattern_4', 'Onset of dysphonia _1',\n",
        "       'Onset of dysphonia _2', 'Onset of dysphonia _3',\n",
        "       'Onset of dysphonia _4', 'Onset of dysphonia _5',\n",
        "       'Occupational vocal demand_1', 'Occupational vocal demand_2',\n",
        "       'Occupational vocal demand_3', 'Occupational vocal demand_4',\n",
        "       'Occupational vocal demand']\n",
        "\n",
        "print(\"特徵欄位數量 =\", len(feature_columns))"
      ]
    },
    {
      "cell_type": "markdown",
      "metadata": {
        "id": "LBmRiUFCnJVG"
      },
      "source": [
        "## 5.2 模型預測"
      ]
    },
    {
      "cell_type": "code",
      "execution_count": 41,
      "metadata": {
        "id": "Cg_H7q4HlmUy"
      },
      "outputs": [],
      "source": [
        "# 讀取模型存檔\n",
        "h5_file_path = \"/Users/zhongyongting/1112/ai_workshop/model/feat40_Unisex_Sex2/best_model.h5\"  # <-- 確認模型檔案存放的路徑\n",
        "model = load_model(h5_file_path, compile=False)"
      ]
    },
    {
      "cell_type": "code",
      "execution_count": 42,
      "metadata": {
        "colab": {
          "base_uri": "https://localhost:8080/"
        },
        "id": "0Xq7GoS-qKFy",
        "outputId": "a882e58f-896a-4509-a4df-d5da58ffb7c7"
      },
      "outputs": [
        {
          "name": "stdout",
          "output_type": "stream",
          "text": [
            "13/13 [==============================] - 0s 433us/step\n",
            "y_pred shape = (387, 5)\n"
          ]
        },
        {
          "data": {
            "text/plain": [
              "array([[ 3.96, -2.81, -0.63, -0.61, -3.73],\n",
              "       [-0.15,  3.09,  3.78, -3.73, -3.43],\n",
              "       [ 4.65,  0.75, -0.08, -3.62, -5.03],\n",
              "       ...,\n",
              "       [ 1.76,  0.92,  0.98, -3.36, -2.31],\n",
              "       [ 2.75,  1.61, -0.81, -5.08, -2.41],\n",
              "       [ 1.19, -0.44,  2.34, -0.96, -3.64]], dtype=float32)"
            ]
          },
          "execution_count": 42,
          "metadata": {},
          "output_type": "execute_result"
        }
      ],
      "source": [
        "# 取得預測結果\n",
        "y_pred = model.predict(df_trans.loc[:, feature_columns])  # inputs_shape=(n, 41)\n",
        "print(\"y_pred shape =\", y_pred.shape)\n",
        "y_pred"
      ]
    },
    {
      "cell_type": "code",
      "execution_count": 43,
      "metadata": {
        "colab": {
          "base_uri": "https://localhost:8080/"
        },
        "id": "jufReVGjqiSc",
        "outputId": "feff4ee8-223e-483e-df27-3853bc4eed67"
      },
      "outputs": [
        {
          "data": {
            "text/plain": [
              "array([1, 3, 1, 2, 1, 1, 3, 3, 1, 3, 2, 2, 1, 3, 2, 1, 4, 1, 1, 5, 1, 1,\n",
              "       3, 2, 2, 1, 3, 1, 2, 2, 3, 1, 2, 1, 1, 1, 1, 3, 3, 2, 1, 1, 3, 1,\n",
              "       1, 3, 4, 1, 2, 1, 2, 1, 1, 3, 4, 1, 2, 1, 1, 3, 2, 1, 3, 2, 1, 1,\n",
              "       1, 3, 3, 2, 4, 3, 1, 3, 2, 1, 2, 3, 1, 2, 2, 1, 4, 3, 2, 2, 1, 3,\n",
              "       1, 3, 1, 3, 1, 3, 1, 3, 1, 1, 2, 1, 1, 1, 2, 5, 1, 1, 3, 1, 1, 2,\n",
              "       3, 3, 1, 3, 3, 1, 1, 2, 1, 3, 3, 1, 3, 1, 2, 3, 4, 4, 1, 2, 2, 1,\n",
              "       1, 3, 1, 1, 1, 1, 1, 1, 2, 3, 3, 2, 3, 1, 2, 1, 1, 3, 3, 1, 1, 1,\n",
              "       1, 1, 2, 2, 3, 2, 1, 1, 1, 2, 4, 3, 1, 2, 2, 1, 1, 3, 4, 3, 1, 3,\n",
              "       1, 5, 2, 3, 3, 1, 2, 4, 1, 1, 1, 1, 3, 1, 2, 1, 2, 1, 1, 1, 4, 1,\n",
              "       1, 2, 4, 3, 1, 2, 1, 1, 1, 2, 1, 1, 3, 1, 1, 3, 1, 1, 3, 1, 1, 1,\n",
              "       1, 2, 3, 1, 1, 1, 2, 3, 2, 1, 3, 1, 1, 3, 3, 1, 2, 2, 2, 1, 3, 1,\n",
              "       3, 1, 1, 1, 1, 2, 1, 3, 1, 3, 1, 2, 1, 1, 1, 3, 2, 1, 2, 3, 1, 5,\n",
              "       2, 1, 3, 4, 2, 5, 3, 2, 3, 3, 3, 2, 2, 3, 3, 1, 1, 2, 3, 3, 3, 1,\n",
              "       2, 3, 1, 5, 3, 1, 1, 2, 3, 3, 1, 1, 1, 2, 1, 3, 4, 3, 1, 2, 1, 1,\n",
              "       2, 2, 3, 3, 1, 1, 3, 2, 1, 3, 1, 3, 1, 1, 3, 1, 3, 3, 1, 3, 2, 1,\n",
              "       1, 1, 1, 3, 5, 3, 3, 1, 1, 3, 3, 2, 2, 1, 1, 2, 1, 3, 2, 3, 3, 3,\n",
              "       1, 1, 1, 1, 3, 1, 1, 3, 1, 3, 3, 3, 1, 1, 1, 3, 2, 4, 2, 2, 1, 3,\n",
              "       4, 1, 3, 3, 2, 1, 1, 1, 1, 1, 1, 1, 3])"
            ]
          },
          "execution_count": 43,
          "metadata": {},
          "output_type": "execute_result"
        }
      ],
      "source": [
        "# 轉換為 疾病類別(1-5)\n",
        "disease_category = np.argmax(y_pred, axis=1) + 1  # 取每筆最高的預測位置 + 1\n",
        "disease_category"
      ]
    },
    {
      "cell_type": "code",
      "execution_count": 44,
      "metadata": {
        "colab": {
          "base_uri": "https://localhost:8080/",
          "height": 424
        },
        "id": "xXm_iKL8rSDZ",
        "outputId": "572ac718-d6b4-47b3-f87a-4d930c21beb5"
      },
      "outputs": [
        {
          "data": {
            "text/html": [
              "<div>\n",
              "<style scoped>\n",
              "    .dataframe tbody tr th:only-of-type {\n",
              "        vertical-align: middle;\n",
              "    }\n",
              "\n",
              "    .dataframe tbody tr th {\n",
              "        vertical-align: top;\n",
              "    }\n",
              "\n",
              "    .dataframe thead th {\n",
              "        text-align: right;\n",
              "    }\n",
              "</style>\n",
              "<table border=\"1\" class=\"dataframe\">\n",
              "  <thead>\n",
              "    <tr style=\"text-align: right;\">\n",
              "      <th></th>\n",
              "      <th>ID</th>\n",
              "      <th>Category</th>\n",
              "    </tr>\n",
              "  </thead>\n",
              "  <tbody>\n",
              "    <tr>\n",
              "      <th>1</th>\n",
              "      <td>1100j0u</td>\n",
              "      <td>1</td>\n",
              "    </tr>\n",
              "    <tr>\n",
              "      <th>2</th>\n",
              "      <td>0G00r5c</td>\n",
              "      <td>3</td>\n",
              "    </tr>\n",
              "    <tr>\n",
              "      <th>5</th>\n",
              "      <td>1302gp2</td>\n",
              "      <td>1</td>\n",
              "    </tr>\n",
              "    <tr>\n",
              "      <th>6</th>\n",
              "      <td>0T00ted</td>\n",
              "      <td>2</td>\n",
              "    </tr>\n",
              "    <tr>\n",
              "      <th>9</th>\n",
              "      <td>0W00632</td>\n",
              "      <td>1</td>\n",
              "    </tr>\n",
              "    <tr>\n",
              "      <th>...</th>\n",
              "      <td>...</td>\n",
              "      <td>...</td>\n",
              "    </tr>\n",
              "    <tr>\n",
              "      <th>988</th>\n",
              "      <td>1001gh1</td>\n",
              "      <td>1</td>\n",
              "    </tr>\n",
              "    <tr>\n",
              "      <th>989</th>\n",
              "      <td>0W00t01</td>\n",
              "      <td>1</td>\n",
              "    </tr>\n",
              "    <tr>\n",
              "      <th>993</th>\n",
              "      <td>1002jv1</td>\n",
              "      <td>1</td>\n",
              "    </tr>\n",
              "    <tr>\n",
              "      <th>997</th>\n",
              "      <td>0W011bi</td>\n",
              "      <td>1</td>\n",
              "    </tr>\n",
              "    <tr>\n",
              "      <th>998</th>\n",
              "      <td>0R00num</td>\n",
              "      <td>3</td>\n",
              "    </tr>\n",
              "  </tbody>\n",
              "</table>\n",
              "<p>387 rows × 2 columns</p>\n",
              "</div>"
            ],
            "text/plain": [
              "          ID  Category\n",
              "1    1100j0u         1\n",
              "2    0G00r5c         3\n",
              "5    1302gp2         1\n",
              "6    0T00ted         2\n",
              "9    0W00632         1\n",
              "..       ...       ...\n",
              "988  1001gh1         1\n",
              "989  0W00t01         1\n",
              "993  1002jv1         1\n",
              "997  0W011bi         1\n",
              "998  0R00num         3\n",
              "\n",
              "[387 rows x 2 columns]"
            ]
          },
          "execution_count": 44,
          "metadata": {},
          "output_type": "execute_result"
        }
      ],
      "source": [
        "# 準備競賽 提交檔案 submission\n",
        "df_submit = pd.DataFrame()\n",
        "df_submit['ID'] = df['ID']\n",
        "df_submit['Category'] = disease_category\n",
        "df_submit"
      ]
    },
    {
      "cell_type": "code",
      "execution_count": 48,
      "metadata": {
        "colab": {
          "base_uri": "https://localhost:8080/",
          "height": 17
        },
        "id": "AI4HLnmBsBQ6",
        "outputId": "3997988d-99e9-4cb9-e8f1-c319a18f4801"
      },
      "outputs": [],
      "source": [
        "df_submit.to_csv(\"/Users/zhongyongting/1112/ai_workshop/Submission/submission_public+private-MLP_Sex1.csv\", index=False)  # <-- 確認提交檔案存放的路徑"
      ]
    }
  ],
  "metadata": {
    "accelerator": "GPU",
    "colab": {
      "gpuType": "T4",
      "provenance": [],
      "toc_visible": true
    },
    "gpuClass": "standard",
    "kernelspec": {
      "display_name": "Python 3",
      "name": "python3"
    },
    "language_info": {
      "codemirror_mode": {
        "name": "ipython",
        "version": 3
      },
      "file_extension": ".py",
      "mimetype": "text/x-python",
      "name": "python",
      "nbconvert_exporter": "python",
      "pygments_lexer": "ipython3",
      "version": "3.11.2"
    }
  },
  "nbformat": 4,
  "nbformat_minor": 0
}
