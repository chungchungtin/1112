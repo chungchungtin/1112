{
 "cells": [
  {
   "cell_type": "code",
   "execution_count": 2,
   "metadata": {},
   "outputs": [],
   "source": [
    "def ans():\n",
    "  sen = '''醫師:啊最近的狀況還好嗎?民眾:還好啦。醫師:還好啦齁，一樣肚子還是不舒服 ...'''\n",
    "  x = [':', '?', '，', '。', '.']\n",
    "  for i in sen:\n",
    "      if i in x:\n",
    "          sen = sen.replace(i, ' ')\n",
    "  sen = sen.split()\n",
    "  part3 = sen[5] + sen[6]\n",
    "  list = [sen[1], sen[3], part3]\n",
    "  return list"
   ]
  },
  {
   "cell_type": "code",
   "execution_count": 3,
   "metadata": {},
   "outputs": [
    {
     "data": {
      "text/plain": [
       "['啊最近的狀況還好嗎', '還好啦', '還好啦齁一樣肚子還是不舒服']"
      ]
     },
     "execution_count": 3,
     "metadata": {},
     "output_type": "execute_result"
    }
   ],
   "source": [
    "ans()"
   ]
  }
 ],
 "metadata": {
  "kernelspec": {
   "display_name": "Python 3",
   "language": "python",
   "name": "python3"
  },
  "language_info": {
   "codemirror_mode": {
    "name": "ipython",
    "version": 3
   },
   "file_extension": ".py",
   "mimetype": "text/x-python",
   "name": "python",
   "nbconvert_exporter": "python",
   "pygments_lexer": "ipython3",
   "version": "3.11.2"
  },
  "orig_nbformat": 4,
  "vscode": {
   "interpreter": {
    "hash": "aee8b7b246df8f9039afb4144a1f6fd8d2ca17a180786b69acc140d282b71a49"
   }
  }
 },
 "nbformat": 4,
 "nbformat_minor": 2
}
