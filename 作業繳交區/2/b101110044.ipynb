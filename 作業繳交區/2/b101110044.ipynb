{
 "cells": [
  {
   "attachments": {},
   "cell_type": "markdown",
   "metadata": {},
   "source": [
    "# 解法1:自創函數"
   ]
  },
  {
   "cell_type": "code",
   "execution_count": 17,
   "metadata": {},
   "outputs": [],
   "source": [
    "def list_numbers(string):\n",
    "    list_of_str = []\n",
    "    for i in range(len(string)):\n",
    "        if string[i].isdigit():\n",
    "            list_of_str.append(int(string[i]))\n",
    "        else:\n",
    "            list_of_str.append('')\n",
    "\n",
    "    list2 = []\n",
    "    j = 0\n",
    "    for j in range(len(list_of_str)):\n",
    "        if j == 0:\n",
    "            if list_of_str[j] == '':\n",
    "                continue\n",
    "            elif list_of_str[j] != '':\n",
    "                list2.append(list_of_str[j])\n",
    "                continue\n",
    "        elif j == len(list_of_str) - 1:\n",
    "            if list_of_str[j] == '':\n",
    "                list2.append('')\n",
    "                continue\n",
    "            elif list_of_str[j] != '':\n",
    "                list2.append(list_of_str[j])\n",
    "                list2.append('')\n",
    "                continue\n",
    "        else:\n",
    "            if list_of_str[j] == '':\n",
    "                if list_of_str[j + 1] == '':\n",
    "                    continue\n",
    "                elif list_of_str[j + 1] != '':\n",
    "                    list2.append(list_of_str[j])\n",
    "            elif list_of_str[j] != '':\n",
    "                list2.append(list_of_str[j])\n",
    "\n",
    "    final_list = []\n",
    "    number_count = 0\n",
    "    for k in range(len(list2)):\n",
    "        if k == 0:\n",
    "            final_list.append(list2[k])\n",
    "            number_count += 1\n",
    "        elif k == len(list2) - 1:\n",
    "            break\n",
    "        else:\n",
    "            if list2[k] == '':\n",
    "                final_list.append(list2[k])\n",
    "                number_count += 1\n",
    "            elif list2[k] != '':\n",
    "                final_list[number_count-1] = str(final_list[number_count-1]) + str(list2[k])\n",
    "    return final_list"
   ]
  },
  {
   "cell_type": "code",
   "execution_count": 18,
   "metadata": {},
   "outputs": [],
   "source": [
    "def get_western_date(string):\n",
    "    time_point = list_numbers(string)\n",
    "    date = time_point[0:3]\n",
    "    date[0] = str(int(date[0]) + 1911)\n",
    "    result = date[0] + '/' + date[1] + '/' + date[2]\n",
    "    return result"
   ]
  },
  {
   "attachments": {},
   "cell_type": "markdown",
   "metadata": {},
   "source": [
    "DEMO"
   ]
  },
  {
   "cell_type": "code",
   "execution_count": 22,
   "metadata": {},
   "outputs": [
    {
     "data": {
      "text/plain": [
       "'2019/11/19'"
      ]
     },
     "execution_count": 22,
     "metadata": {},
     "output_type": "execute_result"
    }
   ],
   "source": [
    "get_western_date(\"民國108年11月19日下午9點30分\")"
   ]
  },
  {
   "cell_type": "code",
   "execution_count": 26,
   "metadata": {},
   "outputs": [
    {
     "data": {
      "text/plain": [
       "'2022/11/19'"
      ]
     },
     "execution_count": 26,
     "metadata": {},
     "output_type": "execute_result"
    }
   ],
   "source": [
    "get_western_date(\"民國111年11月19日下午9點30\")"
   ]
  },
  {
   "cell_type": "code",
   "execution_count": 27,
   "metadata": {},
   "outputs": [
    {
     "data": {
      "text/plain": [
       "'2023/3/5'"
      ]
     },
     "execution_count": 27,
     "metadata": {},
     "output_type": "execute_result"
    }
   ],
   "source": [
    "get_western_date(\"民國112年3月5日下午1點30分11秒\")"
   ]
  },
  {
   "cell_type": "code",
   "execution_count": 28,
   "metadata": {},
   "outputs": [
    {
     "data": {
      "text/plain": [
       "'2001/6/16'"
      ]
     },
     "execution_count": 28,
     "metadata": {},
     "output_type": "execute_result"
    }
   ],
   "source": [
    "get_western_date(\"民國90年6月16日\")"
   ]
  },
  {
   "attachments": {},
   "cell_type": "markdown",
   "metadata": {},
   "source": [
    "# 解法2:套用library"
   ]
  },
  {
   "cell_type": "code",
   "execution_count": 1,
   "metadata": {},
   "outputs": [],
   "source": [
    "def tran_date(x):\n",
    "    import re\n",
    "    number_list = re.findall(r'(\\d+)', x)\n",
    "    date_list = list(number_list)\n",
    "    western_year = str(int(date_list[0]) + 1911)\n",
    "    date_list[0] = western_year\n",
    "    return date_list"
   ]
  },
  {
   "cell_type": "code",
   "execution_count": 2,
   "metadata": {},
   "outputs": [
    {
     "name": "stdout",
     "output_type": "stream",
     "text": [
      "2019/11/19\n"
     ]
    }
   ],
   "source": [
    "x = \"民國108年11月19日下午9點30分\"\n",
    "print(tran_date(x)[0] + '/' + tran_date(x)[1] + '/' + tran_date(x)[2])"
   ]
  }
 ],
 "metadata": {
  "kernelspec": {
   "display_name": "Python 3",
   "language": "python",
   "name": "python3"
  },
  "language_info": {
   "codemirror_mode": {
    "name": "ipython",
    "version": 3
   },
   "file_extension": ".py",
   "mimetype": "text/x-python",
   "name": "python",
   "nbconvert_exporter": "python",
   "pygments_lexer": "ipython3",
   "version": "3.11.2"
  },
  "orig_nbformat": 4
 },
 "nbformat": 4,
 "nbformat_minor": 2
}
