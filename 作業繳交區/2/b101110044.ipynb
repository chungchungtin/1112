{
 "cells": [
  {
   "cell_type": "code",
   "execution_count": 11,
   "metadata": {},
   "outputs": [],
   "source": [
    "def tran_date(x):\n",
    "    import re\n",
    "    number_list = re.findall(r'(\\d+)', time)\n",
    "    date_list = list(number_list)\n",
    "    western_year = str(int(date_list[0]) + 1911)\n",
    "    date_list[0] = western_year\n",
    "    return date_list"
   ]
  },
  {
   "cell_type": "code",
   "execution_count": 12,
   "metadata": {},
   "outputs": [
    {
     "name": "stdout",
     "output_type": "stream",
     "text": [
      "2019/11/19\n"
     ]
    }
   ],
   "source": [
    "x = \"民國108年11月19日下午9點30分\"\n",
    "print(tran_date(x)[0] + '/' + tran_date(x)[1] + '/' + tran_date(x)[2])"
   ]
  }
 ],
 "metadata": {
  "kernelspec": {
   "display_name": "Python 3",
   "language": "python",
   "name": "python3"
  },
  "language_info": {
   "codemirror_mode": {
    "name": "ipython",
    "version": 3
   },
   "file_extension": ".py",
   "mimetype": "text/x-python",
   "name": "python",
   "nbconvert_exporter": "python",
   "pygments_lexer": "ipython3",
   "version": "3.9.6"
  },
  "orig_nbformat": 4
 },
 "nbformat": 4,
 "nbformat_minor": 2
}
