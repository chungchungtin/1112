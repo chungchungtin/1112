{
 "cells": [
  {
   "cell_type": "code",
   "execution_count": 40,
   "metadata": {},
   "outputs": [
    {
     "name": "stdout",
     "output_type": "stream",
     "text": [
      "['醫師']\n",
      "['啊最近的狀況還好嗎?民眾']\n",
      "['還好啦。醫師']\n",
      "['還好啦齁，一樣肚子還是不舒服', '...']\n"
     ]
    }
   ],
   "source": [
    "sen = '''醫師:啊最近的狀況還好嗎?民眾:還好啦。醫師:還好啦齁，一樣肚子還是不舒服 ...'''\n",
    "sen1 = sen.split(':')\n",
    "for ele in sen1"
   ]
  },
  {
   "cell_type": "code",
   "execution_count": 45,
   "metadata": {},
   "outputs": [
    {
     "data": {
      "text/plain": [
       "['醫師:啊最近的狀況還好嗎?民眾:還好啦。醫師:還好啦齁，一樣肚子還是不舒服', '...']"
      ]
     },
     "execution_count": 45,
     "metadata": {},
     "output_type": "execute_result"
    }
   ],
   "source": [
    "import pandas as pd\n",
    "import numpy as np\n",
    "sen = '''醫師:啊最近的狀況還好嗎?民眾:還好啦。醫師:還好啦齁，一樣肚子還是不舒服 ...'''\n",
    "sen = sen.split()\n",
    "sen"
   ]
  }
 ],
 "metadata": {
  "kernelspec": {
   "display_name": "Python 3",
   "language": "python",
   "name": "python3"
  },
  "language_info": {
   "codemirror_mode": {
    "name": "ipython",
    "version": 3
   },
   "file_extension": ".py",
   "mimetype": "text/x-python",
   "name": "python",
   "nbconvert_exporter": "python",
   "pygments_lexer": "ipython3",
   "version": "3.11.2"
  },
  "vscode": {
   "interpreter": {
    "hash": "aee8b7b246df8f9039afb4144a1f6fd8d2ca17a180786b69acc140d282b71a49"
   }
  }
 },
 "nbformat": 4,
 "nbformat_minor": 2
}
