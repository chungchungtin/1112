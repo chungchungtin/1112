{
 "cells": [
  {
   "cell_type": "code",
   "execution_count": 59,
   "metadata": {},
   "outputs": [
    {
     "data": {
      "text/plain": [
       "'啊最近的狀況還好嗎'"
      ]
     },
     "execution_count": 59,
     "metadata": {},
     "output_type": "execute_result"
    }
   ],
   "source": [
    "sen = '''醫師:啊最近的狀況還好嗎?民眾:還好啦。醫師:還好啦齁，一樣肚子還是不舒服 ...'''\n",
    "a = ':'\n",
    "b = '?'\n",
    "c = '。'\n",
    "i = 0\n",
    "j= 0\n",
    "k = 0\n",
    "\n",
    "part1 = ''\n",
    "for j in range(len(sen)):\n",
    "    if sen[j] == b:\n",
    "        for i in range(len(sen)):\n",
    "            if sen[i] == a:\n",
    "                part1 = part1 + sen[i+1:j]\n",
    "                i += 1\n",
    "part1"
   ]
  },
  {
   "cell_type": "code",
   "execution_count": 60,
   "metadata": {},
   "outputs": [
    {
     "data": {
      "text/plain": [
       "'民眾:還好啦'"
      ]
     },
     "execution_count": 60,
     "metadata": {},
     "output_type": "execute_result"
    }
   ],
   "source": [
    "part2 = ''\n",
    "\n",
    "for j in range(len(sen)):\n",
    "    if sen[j] == c:\n",
    "        for i in range(len(sen)):\n",
    "            if sen[i] == b:\n",
    "                part2 = part2 + sen[i+1:j]\n",
    "                i += 1\n",
    "\n",
    "part2"
   ]
  }
 ],
 "metadata": {
  "kernelspec": {
   "display_name": "Python 3",
   "language": "python",
   "name": "python3"
  },
  "language_info": {
   "codemirror_mode": {
    "name": "ipython",
    "version": 3
   },
   "file_extension": ".py",
   "mimetype": "text/x-python",
   "name": "python",
   "nbconvert_exporter": "python",
   "pygments_lexer": "ipython3",
   "version": "3.11.2"
  },
  "vscode": {
   "interpreter": {
    "hash": "aee8b7b246df8f9039afb4144a1f6fd8d2ca17a180786b69acc140d282b71a49"
   }
  }
 },
 "nbformat": 4,
 "nbformat_minor": 2
}
